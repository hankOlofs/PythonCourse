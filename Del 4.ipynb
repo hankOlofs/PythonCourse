{
 "cells": [
  {
   "cell_type": "markdown",
   "metadata": {},
   "source": [
    "# Introduktion till Python, del 4: Data engineering\n",
    "\n",
    "Här skulle man kunna gå igenom:\n",
    "\n",
    "- Databaser (sqlite, postgres t ex)\n",
    "- Asynkron programmering\n",
    "- Spark\n",
    "- API:er\n",
    "- Web scraping\n",
    "- Docker"
   ]
  },
  {
   "cell_type": "markdown",
   "metadata": {},
   "source": []
  }
 ],
 "metadata": {
  "kernelspec": {
   "display_name": "Python 3.11.0 ('.venv': venv)",
   "language": "python",
   "name": "python3"
  },
  "language_info": {
   "codemirror_mode": {
    "name": "ipython",
    "version": 3
   },
   "file_extension": ".py",
   "mimetype": "text/x-python",
   "name": "python",
   "nbconvert_exporter": "python",
   "pygments_lexer": "ipython3",
   "version": "3.12.1"
  },
  "orig_nbformat": 4,
  "vscode": {
   "interpreter": {
    "hash": "4cc145e4d2ab97f30f4677a0ee85f87459067b50a11a899f97eb3bc4f47de9f5"
   }
  }
 },
 "nbformat": 4,
 "nbformat_minor": 2
}
