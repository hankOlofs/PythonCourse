{
 "cells": [
  {
   "cell_type": "markdown",
   "metadata": {},
   "source": [
    "# Introduktion till Python, del 1\n",
    "\n",
    "Välkommen till den här grundkursen i Python, mer specifikt Python 3! Målet är att ge en första inblick i hur Python fungerar. Kursen kräver inga tidigare kunskaper i Python, men viss programmeringsvana och förståelse för vanligt förekommande begrepp inom programmering förutsätts.\n",
    "\n",
    "### Installation\n",
    "Se [readme-filen](README.md) för detaljerade installationsinstruktioner.\n",
    "\n",
    "### Python notebooks\n",
    "I kursen kommer vi använda Visual Studio Code (VS Code) som utvecklingsmiljö (IDE). Materialet är skrivet i en notebook (du läser i den just nu!) som med fördel kan köras i VS Code. I en notebook kan vi dels skriva och formattera text (med *markdown*), dels skriva och köra Python-kod interaktivt.\n",
    "\n",
    "Kod i en notebook körs interaktivt i den ordning du väljer att köra cellerna, vilket ger stora möjligheter att experimentera fram och tillbaka. Det kan dock få oväntade konsekvenser om man kör en cell i \"fel\" ordning eller flera gånger och råkar ändra ett objekt på ett oväntat sätt.\n",
    "\n",
    "### Tips\n",
    "- För att köra kod i en cell, tryck shift + enter (markören flyttar sig då till nästa cell). \n",
    "- Google och bra språkmodeller är din vän, så gott som alla problem går att lösa genom en bra sökning eller prompt.\n",
    "- För att få mer information om ett objekt, använd funktionen `help(`objekt`)`\n",
    "- Python indexerar från **noll**, inte ett!\n",
    "\n",
    "### Kännetecken\n",
    "Python är lätt att läsa och och det går snabbt att skriva kod. Det är dock långsammare i exekveringen jämför med kompilerade språk som t ex C++. Det finns en rik flora av paket som utökar Pythons funktionalitet till många olika domäner.\n",
    "\n",
    "### Nu kör vi!\n",
    "Läs texten och kör koden i cellerna nedan. Fundera över varför resultatet blir som det blir. Det går alldeles utmärkt att skriva och testa egen kod för att förstå hur språket fungerar! :)\n",
    "\n",
    "Den första delen i kursen kan säkert uppfattas som rätt tung med genomgång av grundläggande begrepp, men håll ut, Python blir snabbt ett väldigt trevligt språk när man kommit över den första tröskeln!\n"
   ]
  },
  {
   "cell_type": "markdown",
   "metadata": {},
   "source": [
    "### Objekttyper\n",
    "\n",
    "Vi börjar med att kolla på det mest grundläggande, objekt och objekttyper. Utgå från att allt i Python är ett *objekt* av någon *typ*. I Python behöver vi inte explicit deklarera någon objekttyp i koden som i många andra språk. Istället är Python ett **dynamiskt typat** språk, där ett objekts typ beror på dess tilldelade värde när vi kör koden. Python är också ett **starkt typat** språk, vilket betyder att alla variabler och objekt har en typ och att typen spelar roll när man utför operationer på dem.\n",
    "\n",
    "Testa att köra cellerna nedan (shift + enter) och se om resultatet överensstämmer med det du förväntar dig! Hint: vi tilldelar ett värde till en variabel genom att använda likhetstecken."
   ]
  },
  {
   "cell_type": "code",
   "execution_count": 1,
   "metadata": {},
   "outputs": [
    {
     "name": "stdout",
     "output_type": "stream",
     "text": [
      "en sträng\n"
     ]
    },
    {
     "data": {
      "text/plain": [
       "str"
      ]
     },
     "execution_count": 1,
     "metadata": {},
     "output_type": "execute_result"
    }
   ],
   "source": [
    "a_string = \"en sträng\"\n",
    "print(a_string)\n",
    "type(a_string)"
   ]
  },
  {
   "cell_type": "code",
   "execution_count": 2,
   "metadata": {},
   "outputs": [
    {
     "data": {
      "text/plain": [
       "int"
      ]
     },
     "execution_count": 2,
     "metadata": {},
     "output_type": "execute_result"
    }
   ],
   "source": [
    "an_int = 42\n",
    "type(an_int)"
   ]
  },
  {
   "cell_type": "code",
   "execution_count": 3,
   "metadata": {},
   "outputs": [
    {
     "data": {
      "text/plain": [
       "float"
      ]
     },
     "execution_count": 3,
     "metadata": {},
     "output_type": "execute_result"
    }
   ],
   "source": [
    "a_float = 42.0\n",
    "type(a_float)"
   ]
  },
  {
   "cell_type": "markdown",
   "metadata": {},
   "source": [
    "Python är som sagt starkt typat och alla objekttyper är inte kompatibla. Jämför de två fallen nedan (Obs! I första fallet får vi ett TypeError - läs felmeddelandet för mer information)."
   ]
  },
  {
   "cell_type": "code",
   "execution_count": 4,
   "metadata": {},
   "outputs": [
    {
     "ename": "TypeError",
     "evalue": "can only concatenate str (not \"int\") to str",
     "output_type": "error",
     "traceback": [
      "\u001b[1;31m---------------------------------------------------------------------------\u001b[0m",
      "\u001b[1;31mTypeError\u001b[0m                                 Traceback (most recent call last)",
      "Cell \u001b[1;32mIn [4], line 2\u001b[0m\n\u001b[0;32m      1\u001b[0m \u001b[39m# Kommer detta fungera?\u001b[39;00m\n\u001b[1;32m----> 2\u001b[0m \u001b[39m\"\u001b[39;49m\u001b[39msträng\u001b[39;49m\u001b[39m\"\u001b[39;49m \u001b[39m+\u001b[39;49m \u001b[39m123\u001b[39;49m\n",
      "\u001b[1;31mTypeError\u001b[0m: can only concatenate str (not \"int\") to str"
     ]
    }
   ],
   "source": [
    "# Kommer detta fungera?\n",
    "\"sträng\" + 123"
   ]
  },
  {
   "cell_type": "code",
   "execution_count": 5,
   "metadata": {},
   "outputs": [
    {
     "data": {
      "text/plain": [
       "133.15"
      ]
     },
     "execution_count": 5,
     "metadata": {},
     "output_type": "execute_result"
    }
   ],
   "source": [
    "# Int plus float = vadå?\n",
    "10+123.15"
   ]
  },
  {
   "cell_type": "markdown",
   "metadata": {},
   "source": [
    "Här kommer ett exempel som visar att Python är dynamiskt typat, alltså att typen bestäms vid körning av koden. Se vad som händer med variabeln `a` nedan."
   ]
  },
  {
   "cell_type": "code",
   "execution_count": 6,
   "metadata": {},
   "outputs": [
    {
     "name": "stdout",
     "output_type": "stream",
     "text": [
      "<class 'str'>\n",
      "<class 'int'>\n"
     ]
    }
   ],
   "source": [
    "a = \"sträng\"\n",
    "print(type(a))\n",
    "a = 999\n",
    "print(type(a))"
   ]
  },
  {
   "cell_type": "code",
   "execution_count": 3,
   "metadata": {},
   "outputs": [
    {
     "name": "stdout",
     "output_type": "stream",
     "text": [
      "en sträng kan kombineras med en annan sträng\n"
     ]
    }
   ],
   "source": [
    "b = \"en sträng \" + \"kan kombineras med \" + \"en annan sträng\"\n",
    "print(b)"
   ]
  },
  {
   "cell_type": "markdown",
   "metadata": {},
   "source": [
    "Vi kan använda självinkrementering += för att addera ett värde till en variabel. Vi kan alltså skriva x += y istället för x = x + y."
   ]
  },
  {
   "cell_type": "code",
   "execution_count": 4,
   "metadata": {},
   "outputs": [
    {
     "name": "stdout",
     "output_type": "stream",
     "text": [
      "en sträng kan kombineras med en annan sträng på det här sättet\n"
     ]
    }
   ],
   "source": [
    "b += \" på det här sättet\"\n",
    "print(b)"
   ]
  },
  {
   "cell_type": "markdown",
   "metadata": {},
   "source": [
    "Det går även att använda -=, *= etc"
   ]
  },
  {
   "cell_type": "code",
   "execution_count": 2,
   "metadata": {},
   "outputs": [
    {
     "data": {
      "text/plain": [
       "6"
      ]
     },
     "execution_count": 2,
     "metadata": {},
     "output_type": "execute_result"
    }
   ],
   "source": [
    "a = 3\n",
    "a *= 2\n",
    "a"
   ]
  },
  {
   "cell_type": "markdown",
   "metadata": {},
   "source": [
    "Det går bra att använda enkla eller dubbla citattecken för strängar, men blanda inte (om du inte måste)."
   ]
  },
  {
   "cell_type": "code",
   "execution_count": 9,
   "metadata": {},
   "outputs": [
    {
     "name": "stdout",
     "output_type": "stream",
     "text": [
      "sträng med enkelfnutt\n",
      "sträng med dubbelfnutt\n",
      "en sträng 'med ett citat' i mitten\n"
     ]
    }
   ],
   "source": [
    "print('sträng med enkelfnutt')\n",
    "print(\"sträng med dubbelfnutt\")\n",
    "print(\"en sträng 'med ett citat' i mitten\")"
   ]
  },
  {
   "cell_type": "code",
   "execution_count": 3,
   "metadata": {},
   "outputs": [],
   "source": [
    "# Psst! Hej, jag är en kommentar!\n",
    "\n",
    "# Använd ett inledande # om du vill skapa nya kommentar-kompisar till mig för att beskriva din kod.\n",
    "# Tips: Du kan kommentera eller avkommentera ett helt kodblock i VS Code genom att markera det och trycka\n",
    "# Ctrl + ' (på ett svenskt tangentbord). Testa gärna här!"
   ]
  },
  {
   "cell_type": "markdown",
   "metadata": {},
   "source": [
    "### Andra objekttyper\n",
    "Nu har vi sett några vanliga objekttyper: str, int och float. Det finns några andra inbyggda typer som  du säkert känner igen från andra språk, men kanske också några nyheter. Vi går igenom några av de vanligaste här, men vill du veta mer finns det självklart [dokumentation om objekttyper](https://docs.python.org/3/library/stdtypes.html)."
   ]
  },
  {
   "cell_type": "markdown",
   "metadata": {},
   "source": [
    "Vi börjar med att kika på de fyra inbyggda typerna av *samlingar* av objekt (engelska **collections**): listor, tupler, set och dictionaries.\n",
    "\n",
    "Vi börjar med ***listor*** som är precis vad det låter som, listor av objekt eller **element**. En lista skapas genom att innesluta en uppräkning av element med hak-parenteser: `[objekt 1, objekt 2, objekt 3, ...]`. Listor kan innehålla objekt av olika typ och elementen i listan är ordnade."
   ]
  },
  {
   "cell_type": "code",
   "execution_count": 9,
   "metadata": {},
   "outputs": [
    {
     "data": {
      "text/plain": [
       "[1.1114,\n",
       " 2.313155,\n",
       " 6.4123123,\n",
       " 5.231266124123,\n",
       " 4.01,\n",
       " 9.55,\n",
       " 3.333333333,\n",
       " 6.666666666]"
      ]
     },
     "execution_count": 9,
     "metadata": {},
     "output_type": "execute_result"
    }
   ],
   "source": [
    "numerisk_lista = [1.1114,2.313155,6.4123123,5.231266124123,4.01,9.55,3.333333333,6.666666666]\n",
    "numerisk_lista"
   ]
  },
  {
   "cell_type": "code",
   "execution_count": null,
   "metadata": {},
   "outputs": [
    {
     "name": "stdout",
     "output_type": "stream",
     "text": [
      "[1, 2, 'tre']\n",
      "<class 'int'>\n",
      "<class 'int'>\n",
      "<class 'str'>\n"
     ]
    }
   ],
   "source": [
    "lista = [1,2,\"tre\"]\n",
    "print(lista)\n",
    "\n",
    "for objekt in lista:\n",
    "    print(type(objekt))\n"
   ]
  },
  {
   "cell_type": "markdown",
   "metadata": {},
   "source": [
    "Listor kan kanske se lite ut som vektorer i en matematisk mening, men det stämmer inte riktigt då det inte finns inbyggda metoder för att utföra algebra på listor. Senare kommer vi kunna utföra vektor- och matrisberäkningar, men det kräver att vi använder utökad funktionalitet genom olika paket. Om vi försöker multiplicera en lista så upprepas listans innehåll. Addition slår ihop två listor."
   ]
  },
  {
   "cell_type": "code",
   "execution_count": 12,
   "metadata": {},
   "outputs": [
    {
     "data": {
      "text/plain": [
       "[1, 2, 'tre', 1, 2, 'tre', 1, 2, 'tre']"
      ]
     },
     "execution_count": 12,
     "metadata": {},
     "output_type": "execute_result"
    }
   ],
   "source": [
    "lista*3"
   ]
  },
  {
   "cell_type": "code",
   "execution_count": 11,
   "metadata": {},
   "outputs": [
    {
     "data": {
      "text/plain": [
       "[1.1114,\n",
       " 2.313155,\n",
       " 6.4123123,\n",
       " 5.231266124123,\n",
       " 4.01,\n",
       " 9.55,\n",
       " 3.333333333,\n",
       " 6.666666666,\n",
       " 1,\n",
       " 2,\n",
       " 'tre']"
      ]
     },
     "execution_count": 11,
     "metadata": {},
     "output_type": "execute_result"
    }
   ],
   "source": [
    "numerisk_lista+lista"
   ]
  },
  {
   "cell_type": "markdown",
   "metadata": {},
   "source": [
    "Vi kan skapa listor av listor (jämför resultatet med det ovan):"
   ]
  },
  {
   "cell_type": "code",
   "execution_count": 6,
   "metadata": {},
   "outputs": [
    {
     "data": {
      "text/plain": [
       "[[1, 2, 'tre'], [1, 2, 'tre'], [1, 2, 'tre']]"
      ]
     },
     "execution_count": 6,
     "metadata": {},
     "output_type": "execute_result"
    }
   ],
   "source": [
    "[lista]*3"
   ]
  },
  {
   "cell_type": "markdown",
   "metadata": {},
   "source": [
    "Vi kan hämta ett specifikt objekt från listan genom att använda dess index (kom ihåg att vi börjar räkna index från 0 i Python):"
   ]
  },
  {
   "cell_type": "code",
   "execution_count": 7,
   "metadata": {},
   "outputs": [
    {
     "data": {
      "text/plain": [
       "'tre'"
      ]
     },
     "execution_count": 7,
     "metadata": {},
     "output_type": "execute_result"
    }
   ],
   "source": [
    "lista[2]"
   ]
  },
  {
   "cell_type": "markdown",
   "metadata": {},
   "source": [
    "Listor är *mutable*, de går alltså att ändra."
   ]
  },
  {
   "cell_type": "code",
   "execution_count": 8,
   "metadata": {},
   "outputs": [
    {
     "name": "stdout",
     "output_type": "stream",
     "text": [
      "[1, 2, 'tre']\n",
      "[1, 3, 'tre']\n"
     ]
    }
   ],
   "source": [
    "print(lista)\n",
    "lista[1] = 3\n",
    "print(lista)"
   ]
  },
  {
   "cell_type": "markdown",
   "metadata": {},
   "source": [
    "Med metoden `.append()` kan vi lägga till värden i en lista. "
   ]
  },
  {
   "cell_type": "code",
   "execution_count": 9,
   "metadata": {},
   "outputs": [
    {
     "data": {
      "text/plain": [
       "[1, 3, 'tre', 'nitton']"
      ]
     },
     "execution_count": 9,
     "metadata": {},
     "output_type": "execute_result"
    }
   ],
   "source": [
    "lista.append(\"nitton\")\n",
    "lista"
   ]
  },
  {
   "cell_type": "markdown",
   "metadata": {},
   "source": [
    "Med metoden `.pop()` kan vi \"poppa ut\" ett element från listan och ta bort det."
   ]
  },
  {
   "cell_type": "code",
   "execution_count": 10,
   "metadata": {},
   "outputs": [
    {
     "data": {
      "text/plain": [
       "[1, 3, 'tre']"
      ]
     },
     "execution_count": 10,
     "metadata": {},
     "output_type": "execute_result"
    }
   ],
   "source": [
    "# Som default poppas det sista elementet,\n",
    "# men genom att ange ett index kan ett specifik element poppas.\n",
    "lista.pop()\n",
    "lista"
   ]
  },
  {
   "cell_type": "code",
   "execution_count": 11,
   "metadata": {},
   "outputs": [
    {
     "data": {
      "text/plain": [
       "1"
      ]
     },
     "execution_count": 11,
     "metadata": {},
     "output_type": "execute_result"
    }
   ],
   "source": [
    "# Vi kan räkna antalet element av en viss typ.\n",
    "lista.count(\"tre\")"
   ]
  },
  {
   "cell_type": "markdown",
   "metadata": {},
   "source": [
    "#### Något kort om metoder\n",
    "\n",
    "Som vi ser ovan kan kan objekt ha olika metoder beroende på vilken typ de är. Vi berör detta närmare senare i kursen, men det är bra veta att en metod opererar på det objekt som det skrivs bakom: **objekt**.metod(*argument*). Om du vill se de olika metoder ett list-objekt har kan du skriva listans namn och en punkt, så bör VS Code visa en lista med tillgängliga metoder. Testa gärna med listan som vi skapat här ovanför (`lista`). Detta fungerar även på andra objekttyper."
   ]
  },
  {
   "cell_type": "code",
   "execution_count": 6,
   "metadata": {},
   "outputs": [],
   "source": [
    "# testa här!\n"
   ]
  },
  {
   "cell_type": "markdown",
   "metadata": {},
   "source": [
    "Vi kan också skära ut (\"slice:a\") flera värden från listan genom att ange deras index."
   ]
  },
  {
   "cell_type": "code",
   "execution_count": 12,
   "metadata": {},
   "outputs": [
    {
     "data": {
      "text/plain": [
       "[1, 3]"
      ]
     },
     "execution_count": 12,
     "metadata": {},
     "output_type": "execute_result"
    }
   ],
   "source": [
    "lista[0:2]"
   ]
  },
  {
   "cell_type": "markdown",
   "metadata": {},
   "source": [
    "Vänta, **vad hände här**? Objektet med index två är ju det tredje objektet (0,1,2), men det får vi inte med i vår slice? Python inkluderar det lägre indexet, men **exkluderar det övre**. För att få med alla tre objekt i listan skulle vi istället kunna skriva list[0:3]."
   ]
  },
  {
   "cell_type": "markdown",
   "metadata": {},
   "source": [
    "Vi går vidare med nästa typ av collection, ***tupler***, som betecknas med (runda) parenteser och är speciella på det sättet att de är ordnade (och ordningen ändras inte) och omuterbara (*immutable*). De kan innehålla olika datatyper och tillåter att värden upprepas. Skärning kan göras med index precis som för listor."
   ]
  },
  {
   "cell_type": "code",
   "execution_count": 20,
   "metadata": {},
   "outputs": [
    {
     "data": {
      "text/plain": [
       "(1, 2, 'Tre', 'tre')"
      ]
     },
     "execution_count": 20,
     "metadata": {},
     "output_type": "execute_result"
    }
   ],
   "source": [
    "tuple = (1,2,\"Tre\", \"tre\")\n",
    "tuple"
   ]
  },
  {
   "cell_type": "code",
   "execution_count": 21,
   "metadata": {},
   "outputs": [
    {
     "data": {
      "text/plain": [
       "(2, 'Tre')"
      ]
     },
     "execution_count": 21,
     "metadata": {},
     "output_type": "execute_result"
    }
   ],
   "source": [
    "tuple[1:3]"
   ]
  },
  {
   "cell_type": "markdown",
   "metadata": {},
   "source": [
    "Tupler med bara ett värde behöver fortfarande ett komma på slutet för att det ska bli just en tupel."
   ]
  },
  {
   "cell_type": "code",
   "execution_count": 2,
   "metadata": {},
   "outputs": [
    {
     "name": "stdout",
     "output_type": "stream",
     "text": [
      "<class 'tuple'>\n",
      "<class 'int'>\n"
     ]
    }
   ],
   "source": [
    "# En tupel med ett värde skrivs så här\n",
    "tuple_of_one = (1,)\n",
    "print(type(tuple_of_one))\n",
    "\n",
    "# Annars blir det något annat\n",
    "tuple_of_one = (1)\n",
    "print(type(tuple_of_one))\n"
   ]
  },
  {
   "cell_type": "markdown",
   "metadata": {},
   "source": [
    "Både listor och tupler är ordnade samlingar av element, så vad är det egentligen som skiljer dem åt? En lista är mutable, ungefär ändringsbar, medan en tupel är immutable, motsatsen. Listor kan vi alltså uppdatera efter att vi skapat dem, medan tupler är \"statiska\". \n",
    "\n",
    "Se exemplen nedan så kanske det klarnar lite."
   ]
  },
  {
   "cell_type": "code",
   "execution_count": 14,
   "metadata": {},
   "outputs": [
    {
     "name": "stdout",
     "output_type": "stream",
     "text": [
      "grundlistan:  [10, 20, 30]\n",
      "uppdaterad lista:  [40, 20, 30]\n"
     ]
    }
   ],
   "source": [
    "en_lista = [10,20,30] # definiera en lista\n",
    "print(\"grundlistan: \", en_lista)\n",
    "en_lista[0] = 40 # ge första elementet ett nytt värde\n",
    "print(\"uppdaterad lista: \", en_lista)"
   ]
  },
  {
   "cell_type": "code",
   "execution_count": 18,
   "metadata": {},
   "outputs": [
    {
     "name": "stdout",
     "output_type": "stream",
     "text": [
      "grundtupel:  (10, 20, 30)\n"
     ]
    },
    {
     "ename": "TypeError",
     "evalue": "'tuple' object does not support item assignment",
     "output_type": "error",
     "traceback": [
      "\u001b[1;31m---------------------------------------------------------------------------\u001b[0m",
      "\u001b[1;31mTypeError\u001b[0m                                 Traceback (most recent call last)",
      "Cell \u001b[1;32mIn[18], line 3\u001b[0m\n\u001b[0;32m      1\u001b[0m en_tupel \u001b[38;5;241m=\u001b[39m (\u001b[38;5;241m10\u001b[39m,\u001b[38;5;241m20\u001b[39m,\u001b[38;5;241m30\u001b[39m) \u001b[38;5;66;03m# definiera en tupel\u001b[39;00m\n\u001b[0;32m      2\u001b[0m \u001b[38;5;28mprint\u001b[39m(\u001b[38;5;124m\"\u001b[39m\u001b[38;5;124mgrundtupel: \u001b[39m\u001b[38;5;124m\"\u001b[39m, en_tupel)\n\u001b[1;32m----> 3\u001b[0m \u001b[43men_tupel\u001b[49m\u001b[43m[\u001b[49m\u001b[38;5;241;43m0\u001b[39;49m\u001b[43m]\u001b[49m \u001b[38;5;241m=\u001b[39m \u001b[38;5;241m40\u001b[39m \u001b[38;5;66;03m# försök ge första elementet ett nytt värde - går ej!\u001b[39;00m\n",
      "\u001b[1;31mTypeError\u001b[0m: 'tuple' object does not support item assignment"
     ]
    }
   ],
   "source": [
    "en_tupel = (10,20,30) # definiera en tupel\n",
    "print(\"grundtupel: \", en_tupel)\n",
    "en_tupel[0] = 40 # försök ge första elementet ett nytt värde - går ej!"
   ]
  },
  {
   "cell_type": "markdown",
   "metadata": {},
   "source": [
    "Det finns ytterligare två objektsamlingar som liknar varandra: ***dictionary*** och ***set***. Ett dictionary består av nycklar och tillhörande värden (ett så kallat *key-value pair*), på det här formatet:"
   ]
  },
  {
   "cell_type": "code",
   "execution_count": 20,
   "metadata": {},
   "outputs": [],
   "source": [
    "dictionary = {\"nyckel\": \"värde\"}"
   ]
  },
  {
   "cell_type": "markdown",
   "metadata": {},
   "source": [
    "Vi kan få ut värden för en viss nyckel:"
   ]
  },
  {
   "cell_type": "code",
   "execution_count": 21,
   "metadata": {},
   "outputs": [
    {
     "data": {
      "text/plain": [
       "'värde'"
      ]
     },
     "execution_count": 21,
     "metadata": {},
     "output_type": "execute_result"
    }
   ],
   "source": [
    "dictionary[\"nyckel\"]"
   ]
  },
  {
   "cell_type": "markdown",
   "metadata": {},
   "source": [
    "På samma sätt kan vi också lägga in fler nycklar och värden:"
   ]
  },
  {
   "cell_type": "code",
   "execution_count": 22,
   "metadata": {},
   "outputs": [
    {
     "data": {
      "text/plain": [
       "{'nyckel': 'värde', 'nyckel2': 2}"
      ]
     },
     "execution_count": 22,
     "metadata": {},
     "output_type": "execute_result"
    }
   ],
   "source": [
    "dictionary[\"nyckel2\"] = 2\n",
    "dictionary"
   ]
  },
  {
   "cell_type": "markdown",
   "metadata": {},
   "source": [
    "Vi kan komma åt alla nycklar och värden i ett dictionary med olika metoder:"
   ]
  },
  {
   "cell_type": "code",
   "execution_count": null,
   "metadata": {},
   "outputs": [
    {
     "name": "stdout",
     "output_type": "stream",
     "text": [
      "dict_keys(['nyckel', 'nyckel2'])\n",
      "dict_values(['värde', 2])\n",
      "dict_items([('nyckel', 'värde'), ('nyckel2', 2)])\n"
     ]
    }
   ],
   "source": [
    "print(dictionary.keys()) # nycklar\n",
    "print(dictionary.values()) # värden\n",
    "print(dictionary.items()) # alla nyckel-värde-par"
   ]
  },
  {
   "cell_type": "markdown",
   "metadata": {},
   "source": [
    "Dictionaries kan innehålla vilken typ av värden som helst: strängar, heltal, dictionaries, listor, tupler osv. Nycklarna å andra sidan måste vara immutable, alltså inte t ex listor eller dictionaries, men däremot heltal, flyttal, booleska värden, tupler [...]."
   ]
  },
  {
   "cell_type": "code",
   "execution_count": null,
   "metadata": {},
   "outputs": [
    {
     "name": "stdout",
     "output_type": "stream",
     "text": [
      "{'motorstyrka': 310, 'färg': 'röd'}\n"
     ]
    },
    {
     "data": {
      "text/plain": [
       "90"
      ]
     },
     "execution_count": 32,
     "metadata": {},
     "output_type": "execute_result"
    }
   ],
   "source": [
    "bilar = {\"BRUM\": {\"motorstyrka\": 90, \"färg\": \"gul\"}, \"Blixten\":{\"motorstyrka\": 310, \"färg\": \"röd\"}}\n",
    "print(bilar[\"Blixten\"])\n",
    "print(bilar[\"BRUM\"][\"motorstyrka\"])"
   ]
  },
  {
   "cell_type": "markdown",
   "metadata": {},
   "source": [
    "Ett ***set*** är en uppsättning värden, där varje värde bara förekommer en gång. Även set anges med måsvingar, men inte som nyckel-värde-par utan enskilda element separerade med komma. OBS! Set är inte ordnade, så räkna inte med att samma värde kommer på samma position om du utför operationer på det!"
   ]
  },
  {
   "cell_type": "code",
   "execution_count": 27,
   "metadata": {},
   "outputs": [
    {
     "data": {
      "text/plain": [
       "{3, 'Två', 'ett', 'två'}"
      ]
     },
     "execution_count": 27,
     "metadata": {},
     "output_type": "execute_result"
    }
   ],
   "source": [
    "ett_set = {\"ett\", \"två\", \"ett\", 3, 3, 3, \"Två\"}\n",
    "ett_set"
   ]
  },
  {
   "cell_type": "markdown",
   "metadata": {},
   "source": [
    "Med set är det alltså väldigt lätt att se vilka unika värden som förekommer i t ex en lång lista. Notera att strängen \"Två\" inte är samma sak som \"två\".\n",
    "\n",
    "För att lägga till ett nytt värde i ett set använder vi metoden .add(). I och med att vi kan ändra setet efter att det är skapat är set alltså... mutable!"
   ]
  },
  {
   "cell_type": "code",
   "execution_count": 28,
   "metadata": {},
   "outputs": [
    {
     "data": {
      "text/plain": [
       "{3, 'Två', 'ett', 'fyra', 'två'}"
      ]
     },
     "execution_count": 28,
     "metadata": {},
     "output_type": "execute_result"
    }
   ],
   "source": [
    "ett_set.add(\"fyra\")\n",
    "ett_set"
   ]
  },
  {
   "cell_type": "markdown",
   "metadata": {},
   "source": [
    "### Booleska värden och logiska operatorer\n",
    "\n",
    "När vi arbetar med uttryck som kan vara sanna eller falska så kallas det för *booleska* uttryck och värden (booleans på engelska). Vanligtvis får man ett booleskt värde genom att jämföra saker:\n",
    "\n",
    "    5 > 3      # True\n",
    "    2 == 2     # True\n",
    "    7 != 10    # True\n",
    "    4 < 1      # False\n",
    "\n",
    "\n",
    "Jämförelser mellan värden görs med vanligt förekommande operatorer: >, <, ==, >=, <=, !=, men även *is* kan användas.\n",
    "De booleska värdena **True** och **False** skrivs precis så i Python (med inledande versal).\n"
   ]
  },
  {
   "cell_type": "code",
   "execution_count": 8,
   "metadata": {},
   "outputs": [
    {
     "name": "stdout",
     "output_type": "stream",
     "text": [
      "False\n",
      "False\n",
      "True\n",
      "True\n"
     ]
    }
   ],
   "source": [
    "print(1 == 2 )\n",
    "print(1 >= 2 )\n",
    "print(1 <= 2 )\n",
    "print(1 != 2 )"
   ]
  },
  {
   "cell_type": "markdown",
   "metadata": {},
   "source": [
    "Med *is* testar vi om två variabler pekar på samma objekt i minnet. Det fungerar bra med numeriska värden som är immutable/oföränderliga (heltal är immutable):"
   ]
  },
  {
   "cell_type": "code",
   "execution_count": 45,
   "metadata": {},
   "outputs": [
    {
     "name": "stdout",
     "output_type": "stream",
     "text": [
      "a is b? True\n",
      "adress för a:  0x7ffd02d31618\n",
      "adress för b:  0x7ffd02d31618\n",
      "adress för heltalet 100:  0x7ffd02d31618\n"
     ]
    }
   ],
   "source": [
    "a = 100\n",
    "b = 100\n",
    "print(\"a is b?\", a is b)\n",
    "\n",
    "print(\"adress för a: \", hex(id(a)))\n",
    "print(\"adress för b: \", hex(id(b)))\n",
    "print(\"adress för heltalet 100: \", hex(id(100)))\n",
    "\n"
   ]
  },
  {
   "cell_type": "markdown",
   "metadata": {},
   "source": [
    "Men det fungerar inte lika bra om de, som listor, är föränderliga och pekar på olika platser i minnet:"
   ]
  },
  {
   "cell_type": "code",
   "execution_count": 46,
   "metadata": {},
   "outputs": [
    {
     "name": "stdout",
     "output_type": "stream",
     "text": [
      "b is c? False\n",
      "adress för b:  0x1f3a52482c0\n",
      "adress för c:  0x1f3a51a62c0\n"
     ]
    }
   ],
   "source": [
    "b = [1,2]\n",
    "c = [1,2]\n",
    "\n",
    "print(\"b is c?\", b is c)\n",
    "\n",
    "print(\"adress för b: \", hex(id(b)))\n",
    "print(\"adress för c: \", hex(id(c)))"
   ]
  },
  {
   "cell_type": "markdown",
   "metadata": {},
   "source": [
    "Vill vi jämföra om två värden är lika bör vi alltså använda ==\n",
    "\n",
    "Det finns några booleska operatorer: *in*, *or*, *and* och *not*"
   ]
  },
  {
   "cell_type": "code",
   "execution_count": 32,
   "metadata": {},
   "outputs": [
    {
     "name": "stdout",
     "output_type": "stream",
     "text": [
      "True\n",
      "True\n",
      "True\n"
     ]
    }
   ],
   "source": [
    "# Vilken output tror du att det kommer bli i följande tre fall?\n",
    "\n",
    "print(1 in [1,2,3])\n",
    "print(4 not in [1,2,3] and 2 == (1+1))\n",
    "print(\"hej\" in [\"hej\", \"hopp\"] and 1 > 2 or 3 in [1,2,3])"
   ]
  },
  {
   "cell_type": "markdown",
   "metadata": {},
   "source": [
    "### Import av moduler\n",
    "\n",
    "Python-installationen kommer (ofta) med moduler som tillför funktionalitet, men som inte laddas in automatiskt. Det går också att utöka Pythons funktionalitet med tredjepartsmoduler eller *paket*. För att importera ett paket eller en modul finns det tre tillvägagångssätt, här använder vi math-modulen som ett exempel.\n",
    "\n",
    "Importera hela modulen - här kommer alla funktioner och konstanter som modulen innehålla läggas i ett *namespace* där vi kan komma åt funktionerna genom att skriva `[modulnamn].[funktion]`. \n"
   ]
  },
  {
   "cell_type": "code",
   "execution_count": 33,
   "metadata": {},
   "outputs": [],
   "source": [
    "import math"
   ]
  },
  {
   "cell_type": "markdown",
   "metadata": {},
   "source": [
    "Vi kan nu använda alla funktioner i modulen math genom att ange modulnamnet som det namespace vi vill hämta funktionen från:"
   ]
  },
  {
   "cell_type": "code",
   "execution_count": 34,
   "metadata": {},
   "outputs": [
    {
     "data": {
      "text/plain": [
       "2.302585092994046"
      ]
     },
     "execution_count": 34,
     "metadata": {},
     "output_type": "execute_result"
    }
   ],
   "source": [
    "math.log(10)"
   ]
  },
  {
   "cell_type": "markdown",
   "metadata": {},
   "source": [
    "Vi kan också ge modulen ett alias för att göra koden mer läsbar, t ex:"
   ]
  },
  {
   "cell_type": "code",
   "execution_count": 35,
   "metadata": {},
   "outputs": [
    {
     "data": {
      "text/plain": [
       "3.0"
      ]
     },
     "execution_count": 35,
     "metadata": {},
     "output_type": "execute_result"
    }
   ],
   "source": [
    "import math as m\n",
    "m.sqrt(9)"
   ]
  },
  {
   "cell_type": "markdown",
   "metadata": {},
   "source": [
    "Slutligen kan vi importera en enskild funktion från en modul. När vi importerar på det här sättet så placeras funktionen i det globala namespacet och vi kan använda funktionen utan att specificera varifrån den kommer. Det skulle dock kunna medföra att en funktion som råkar dela namn med en annan funktion skuggas ut och blir otillgänglig."
   ]
  },
  {
   "cell_type": "code",
   "execution_count": 36,
   "metadata": {},
   "outputs": [
    {
     "data": {
      "text/plain": [
       "8103.083927575384"
      ]
     },
     "execution_count": 36,
     "metadata": {},
     "output_type": "execute_result"
    }
   ],
   "source": [
    "from math import exp\n",
    "exp(9)"
   ]
  },
  {
   "cell_type": "markdown",
   "metadata": {},
   "source": [
    "### Lite mer om indexering\n",
    "\n",
    "Som vi såg tidigare kan strängar, listor med mera kan ha index som låter oss hämta ett eller flera element."
   ]
  },
  {
   "cell_type": "code",
   "execution_count": 61,
   "metadata": {},
   "outputs": [
    {
     "name": "stdout",
     "output_type": "stream",
     "text": [
      "1.  e\n",
      "2.  n st\n",
      "3.  räng\n",
      "4.  sträng\n",
      "5.  e täg\n",
      "6.  gät e\n"
     ]
    }
   ],
   "source": [
    "# Första elementet i strängen string.\n",
    "print(\"1. \", \"en sträng\"[0])\n",
    "\n",
    "# Vi kan hämta flera element genom att använda kolon (:).\n",
    "print(\"2. \", \"en sträng\"[1:5])\n",
    "\n",
    "# Det går bra att använda kolon för att välja allt från början eller slutet. Här tar vi allt från index fem till slutet på strängen.\n",
    "print(\"3. \", \"en sträng\"[5:])\n",
    "\n",
    "# Vi kan indexera från slutet genom att skriva ett negativt tal.\n",
    "print(\"4. \", \"en sträng\"[-6:])\n",
    "\n",
    "# Vi kan också välja t ex varannan bokstav i strängen genom att lägga till ytterligare ett kolon och ange hur stora hopp vi ska göra\n",
    "print(\"5. \", \"en sträng\"[0:9:2])\n",
    "\n",
    "# Här backar vi genom strängen med två steg i taget.\n",
    "print(\"6. \", \"en sträng\"[::-2])"
   ]
  },
  {
   "cell_type": "markdown",
   "metadata": {},
   "source": [
    "Formen för strängindexering är alltså `[start:slut:inkrement]`."
   ]
  },
  {
   "cell_type": "markdown",
   "metadata": {},
   "source": [
    "### Något om strängmetoder\n",
    "\n",
    "Det finns många bra metoder för att arbeta med strängar, till exempel..."
   ]
  },
  {
   "cell_type": "code",
   "execution_count": 38,
   "metadata": {},
   "outputs": [
    {
     "name": "stdout",
     "output_type": "stream",
     "text": [
      "lowercase\n",
      "UPPERCASE\n"
     ]
    }
   ],
   "source": [
    "print(\"LoWerCaSE\".lower())\n",
    "print(\"uppercase\".upper())"
   ]
  },
  {
   "cell_type": "markdown",
   "metadata": {},
   "source": [
    "En väldigt smidig sak med Python är att vi kan kedja ihop flera metoder som hör till samma klass, för att utföra flera operationer i sekvens på ett objekt. Operationerna utförs från vänster till höger och det är resultatet av varje operation som skickas vidare till nästa metod, vilket gör att vi kan utföra många operationer på ett objekt på bara en rad. Detta kallas *method chaining*. Se här nedan hur vi först tar bort alla mellanslag till höger om texten `uppercase` för att sedan göra strängen till versaler och sedan ersätta alla versala E med gemena e:n. "
   ]
  },
  {
   "cell_type": "code",
   "execution_count": 39,
   "metadata": {},
   "outputs": [
    {
     "data": {
      "text/plain": [
       "'UPPeRCASe'"
      ]
     },
     "execution_count": 39,
     "metadata": {},
     "output_type": "execute_result"
    }
   ],
   "source": [
    "\"uppercase   \".rstrip().upper().replace(\"E\",\"e\")"
   ]
  },
  {
   "cell_type": "code",
   "execution_count": 11,
   "metadata": {},
   "outputs": [
    {
     "name": "stdout",
     "output_type": "stream",
     "text": [
      "['a', 'string', 'consisting', 'of', 'many', 'words']\n"
     ]
    }
   ],
   "source": [
    "# Vi kan dela upp en sträng bestående av flera ord i en lista\n",
    "a_string = \"a string consisting of many words\"\n",
    "words = a_string.split()\n",
    "print(words)"
   ]
  },
  {
   "cell_type": "code",
   "execution_count": 12,
   "metadata": {},
   "outputs": [
    {
     "name": "stdout",
     "output_type": "stream",
     "text": [
      "a string consisting of many words\n"
     ]
    }
   ],
   "source": [
    "# Så här sätter vi ihop orden till en mening igen (om vi vill ha mellanslag mellan orden)\n",
    "print(\" \".join(words))"
   ]
  },
  {
   "cell_type": "code",
   "execution_count": 41,
   "metadata": {},
   "outputs": [
    {
     "name": "stdout",
     "output_type": "stream",
     "text": [
      "['a', ' ', 's', 't', 'r', 'i', 'n', 'g', ' ', 'c', 'o', 'n', 's', 'i', 's', 't', 'i', 'n', 'g', ' ', 'o', 'f', ' ', 'm', 'a', 'n', 'y', ' ', 'w', 'o', 'r', 'd', 's']\n",
      "a string consisting of many words\n"
     ]
    }
   ],
   "source": [
    "# Vi kan använda oss av unpack (*) för att bryta isär strängen till en lista med bokstäver\n",
    "print([*a_string])\n",
    "\n",
    "# Och slå ihop som tidigare med .join()\n",
    "print(\"\".join([*a_string]))"
   ]
  },
  {
   "cell_type": "markdown",
   "metadata": {},
   "source": [
    "### Formaterade strängar\n",
    "\n",
    "Python gör det enkelt att använda en variabels värde i en sträng. Det finns olika sätt att skapa s.k. formaterade strängar, men det enklaste är att skriva ett $f$ framför strängen och ange variabeln i måsvingar på den plats där variabelns värde ska vara."
   ]
  },
  {
   "cell_type": "code",
   "execution_count": 13,
   "metadata": {},
   "outputs": [
    {
     "data": {
      "text/plain": [
       "'klockan är just nu 21:35'"
      ]
     },
     "execution_count": 13,
     "metadata": {},
     "output_type": "execute_result"
    }
   ],
   "source": [
    "import datetime as dt\n",
    "kl = dt.datetime.now().strftime(\"%H:%M\")\n",
    "\n",
    "f\"klockan är just nu {kl}\""
   ]
  },
  {
   "cell_type": "markdown",
   "metadata": {},
   "source": [
    "Vi kan bestämma hur många decimaler av värdet 1.1312415 som ska skrivas ut genom att ange ett format efter värdet, här `f` för float. \n"
   ]
  },
  {
   "cell_type": "code",
   "execution_count": null,
   "metadata": {},
   "outputs": [
    {
     "data": {
      "text/plain": [
       "'1.131'"
      ]
     },
     "execution_count": 64,
     "metadata": {},
     "output_type": "execute_result"
    }
   ],
   "source": [
    "f\"{1.1312415:.3f}\""
   ]
  },
  {
   "cell_type": "markdown",
   "metadata": {},
   "source": [
    "Ibland kan man vilja använda variabelns namn tillsammans med dess värde, vilket enkelt kan göras genom att lägga till ett likhetstecken efter variabelns namn."
   ]
  },
  {
   "cell_type": "code",
   "execution_count": 28,
   "metadata": {},
   "outputs": [
    {
     "name": "stdout",
     "output_type": "stream",
     "text": [
      "efternamn='Olofsson'\n"
     ]
    }
   ],
   "source": [
    "efternamn = \"Olofsson\"\n",
    "print(f\"{efternamn=}\")"
   ]
  },
  {
   "cell_type": "markdown",
   "metadata": {},
   "source": [
    "I senare versioner av Python finns en mängd olika formattyper och konverteringar, se t ex denna artikel: https://www.pythonmorsels.com/string-formatting/. Några exempel nedan.\n",
    "\n",
    "#### Talformattyper\n",
    "\n",
    "| Format | Beskrivning                        | Exempel                           | Resultat         |\n",
    "|--------|------------------------------------|-----------------------------------|------------------|\n",
    "| `f`    | Flyttal med decimaler              | `f\"{3.14159:.2f}\"`                | `'3.14'`         |\n",
    "| `e`    | Vetenskaplig notation (litet e)    | `f\"{1000:.2e}\"`                   | `'1.00e+03'`     |\n",
    "| `E`    | Vetenskaplig notation (stort E)    | `f\"{1000:.2E}\"`                   | `'1.00E+03'`     |\n",
    "| `g`    | Kortast av `f` eller `e`           | `f\"{1234567:.3g}\"`                | `'1.23e+06'`     |\n",
    "| `G`    | Som `g`, men med stor E vid behov  | `f\"{1234567:.3G}\"`                | `'1.23E+06'`     |\n",
    "| `d`    | Heltal                             | `f\"{42:d}\"`                       | `'42'`           |\n",
    "| `b`    | Binärt (bas 2)                     | `f\"{5:b}\"`                        | `'101'`          |\n",
    "| `o`    | Oktalt (bas 8)                     | `f\"{8:o}\"`                        | `'10'`           |\n",
    "| `x`    | Hexadecimal (små bokstäver)        | `f\"{255:x}\"`                      | `'ff'`           |\n",
    "| `X`    | Hexadecimal (stora bokstäver)      | `f\"{255:X}\"`                      | `'FF'`           |\n",
    "| `%`    | Procentform                        | `f\"{0.25:%}\"`                     | `'25.000000%'`   |\n",
    "\n",
    "\n",
    "#### Strängformat och konverteringar (med utropstecken)\n",
    "\n",
    "| Format | Beskrivning                   | Exempel             | Resultat      |\n",
    "|--------|-------------------------------|---------------------|---------------|\n",
    "| `s`    | Sträng (vanlig visning)       | `f\"{'hej':s}\"`      | `'hej'`       |\n",
    "| `r`    | `repr()`-visning              | `f\"{'hej'!r}\"`      | `\"'hej'\"`     |\n",
    "| `a`    | `ascii()` – undviker ÅÄÖ m.m. | `f\"{'Åsa'!a}\"`      | `\"'\\\\xc5sa'\"` |\n",
    "\n",
    "\n",
    "#### Justering, bredd & utfyllnad\n",
    "\n",
    "| Exempel                      | Beskrivning                      | Resultat        |\n",
    "|-----------------------------|----------------------------------|-----------------|\n",
    "| `f\"{3.14:10.2f}\"`           | Bredd 10, 2 decimaler            | `'      3.14'`  |\n",
    "| `f\"{42:04d}\"`               | Fyll med nollor (totalt 4 tecken) | `'0042'`        |\n",
    "| `f\"{'hej':>10}\"`            | Högerjusterat (bredd 10)         | `'       hej'`  |\n",
    "| `f\"{'hej':^10}\"`            | Centrerat (bredd 10)             | `'   hej    '`  |"
   ]
  },
  {
   "cell_type": "code",
   "execution_count": 34,
   "metadata": {},
   "outputs": [],
   "source": [
    "# Här kan du testa olika format om du vill!\n"
   ]
  },
  {
   "cell_type": "markdown",
   "metadata": {},
   "source": [
    "### Indentering\n",
    "\n",
    "Hittills har vi bara kört kortare kodsnuttar som bara krävt en rad, men ofta vill vi kunna fördela lång kod över flera rader för att göra den läsbar. Vi vill också kunna få flera rader kod att exekveras tillsammans som ett block, t ex i en loop. I många andra språk används måsvingar/curly brackets { } för gruppera block med kod. I Python används istället **indentering** för att hålla ihop kodblock. Det går att indentera med både mellanslag och tab, det här är en fråga om tycke och smak. Används mellanslag måste det alltid vara samma antal mellanslag i ett block med kod (default är fyra mellanslag, men det går att välja själv så länge man är konsekvent). Jag föredrar att använda tab utan undantag!"
   ]
  },
  {
   "cell_type": "code",
   "execution_count": 36,
   "metadata": {},
   "outputs": [
    {
     "name": "stdout",
     "output_type": "stream",
     "text": [
      "Detta\n",
      "funkar\n"
     ]
    }
   ],
   "source": [
    "if True:\n",
    "    print(\"Detta\")\n",
    "    print(\"funkar\")"
   ]
  },
  {
   "cell_type": "code",
   "execution_count": 45,
   "metadata": {},
   "outputs": [
    {
     "ename": "IndentationError",
     "evalue": "unexpected indent (663001642.py, line 3)",
     "output_type": "error",
     "traceback": [
      "\u001b[1;36m  Cell \u001b[1;32mIn [45], line 3\u001b[1;36m\u001b[0m\n\u001b[1;33m    print(\"funkar ej\")\u001b[0m\n\u001b[1;37m    ^\u001b[0m\n\u001b[1;31mIndentationError\u001b[0m\u001b[1;31m:\u001b[0m unexpected indent\n"
     ]
    }
   ],
   "source": [
    "if True:\n",
    "   print(\"Detta\")\n",
    "    print(\"funkar ej\")"
   ]
  },
  {
   "cell_type": "markdown",
   "metadata": {},
   "source": [
    "Det går självklart att indentera i flera nivåer."
   ]
  },
  {
   "cell_type": "code",
   "execution_count": 38,
   "metadata": {},
   "outputs": [
    {
     "name": "stdout",
     "output_type": "stream",
     "text": [
      "Nivå ett\n",
      "Nivå två\n",
      "Tillbaka på nivå ett!\n"
     ]
    }
   ],
   "source": [
    "if True:\n",
    "    print(\"Nivå ett\")\n",
    "    if True:\n",
    "        print(\"Nivå två\")\n",
    "        if False:\n",
    "            print(\"Kommer detta synas?\")\n",
    "    print(\"Tillbaka på nivå ett!\")"
   ]
  },
  {
   "cell_type": "markdown",
   "metadata": {},
   "source": [
    "## Iterabler\n",
    "\n",
    "Iterabler är ett viktigt koncept inom Python och många andra språk. En **iterabel** är ett objekt som kan returnera en **iterator**. Många inbyggda datatyper i Python, såsom listor, tupler, dictionaries och strängar är iterabler. En iterator är funktionalitet som låter dig gå igenom varje **element** i iterabeln, ett i taget. En **iteration** i sin tur är själva processen där vi plockar fram ett element från containern (samlingen av objekt i iterabeln som vi vill stega igenom) och utför någon operation på den. Exempel på iterabler:"
   ]
  },
  {
   "cell_type": "code",
   "execution_count": null,
   "metadata": {},
   "outputs": [],
   "source": [
    "min_lista = [1, 2, 3, 4]\n",
    "\n",
    "min_sträng = \"Hej!\""
   ]
  },
  {
   "cell_type": "markdown",
   "metadata": {},
   "source": [
    "Nu blir det kanske lite tekniskt en stund, så passa på att ta ett andetag, eller hoppa vidare till avsnittet loopar. För att något ska klassificeras som en iterabel i Python måste objektet implementera metoderna `__iter__()`, som returnerar en iterator, samt `next()`. Du kan tänka på en iterator som en pekare som flyttas framåt för att få nästa element i en sekvens. För att få nästa element från iteratorn använder du `next()`-metoden.\n",
    "\n",
    "Exempel på användning av en iterator:"
   ]
  },
  {
   "cell_type": "code",
   "execution_count": null,
   "metadata": {},
   "outputs": [
    {
     "name": "stdout",
     "output_type": "stream",
     "text": [
      "1\n",
      "2\n"
     ]
    }
   ],
   "source": [
    "min_lista = [1, 2, 3, 4]\n",
    "min_iterator = iter(min_lista)  # Skapar en iterator\n",
    "\n",
    "print(next(min_iterator))  # Skriver ut 1\n",
    "print(next(min_iterator))  # Skriver ut 2\n",
    "# Och så vidare..."
   ]
  },
  {
   "cell_type": "markdown",
   "metadata": {},
   "source": [
    "Strängar är faktiskt också iterabler, men vi kan inte iterera över dem direkt:"
   ]
  },
  {
   "cell_type": "code",
   "execution_count": 3,
   "metadata": {},
   "outputs": [
    {
     "ename": "TypeError",
     "evalue": "'str' object is not an iterator",
     "output_type": "error",
     "traceback": [
      "\u001b[1;31m---------------------------------------------------------------------------\u001b[0m",
      "\u001b[1;31mTypeError\u001b[0m                                 Traceback (most recent call last)",
      "Cell \u001b[1;32mIn[3], line 1\u001b[0m\n\u001b[1;32m----> 1\u001b[0m \u001b[38;5;28;43mnext\u001b[39;49m\u001b[43m(\u001b[49m\u001b[38;5;124;43m\"\u001b[39;49m\u001b[38;5;124;43msträng\u001b[39;49m\u001b[38;5;124;43m\"\u001b[39;49m\u001b[43m)\u001b[49m\n",
      "\u001b[1;31mTypeError\u001b[0m: 'str' object is not an iterator"
     ]
    }
   ],
   "source": [
    "next(\"sträng\")"
   ]
  },
  {
   "cell_type": "markdown",
   "metadata": {},
   "source": [
    "Som felmeddelandet antyder så behöver vi först göra det till en iterator:"
   ]
  },
  {
   "cell_type": "code",
   "execution_count": 16,
   "metadata": {},
   "outputs": [
    {
     "name": "stdout",
     "output_type": "stream",
     "text": [
      "h\n",
      "e\n",
      "j\n"
     ]
    }
   ],
   "source": [
    "my_string = \"hej\"\n",
    "my_iter = iter(my_string)\n",
    "print(next(iter(my_iter)))\n",
    "print(next(iter(my_iter)))\n",
    "print(next(iter(my_iter)))"
   ]
  },
  {
   "cell_type": "markdown",
   "metadata": {},
   "source": [
    "Generellt sett så behöver vi inte krångla med att skapa egna iteratorer, då alla vanliga typer av containrar är iterabler som redan implementerar `iter` och `next`."
   ]
  },
  {
   "cell_type": "markdown",
   "metadata": {},
   "source": [
    "### Loopar\n",
    "\n",
    "Python har två typer av loopar, ***for*** och ***while***.\n",
    "\n",
    "While-loopen kan användas när vi vill utföra en operation ett okänt antal gånger och fungerar på ungefär samma sätt som i andra programmeringsspråk. Vi kan kontrollera flödet med uttrycket `break` som bryter loopen och med `continue` som hoppar vidare till nästa iteration."
   ]
  },
  {
   "cell_type": "code",
   "execution_count": 65,
   "metadata": {},
   "outputs": [
    {
     "name": "stdout",
     "output_type": "stream",
     "text": [
      "4\n",
      "3\n",
      "2\n",
      "1\n"
     ]
    }
   ],
   "source": [
    "k = 4 # startvärde för k\n",
    "\n",
    "while k > 0: # villkoret som avgör hur länge loopen ska köras\n",
    "    print(k)\n",
    "    k -= 1 # minska k med ett"
   ]
  },
  {
   "cell_type": "markdown",
   "metadata": {},
   "source": [
    "I Python kan vi använda konstruktionen `while-else` för att exekvera kod om while-loopen inte stöter på något break-uttryck innan den går klart."
   ]
  },
  {
   "cell_type": "code",
   "execution_count": null,
   "metadata": {},
   "outputs": [
    {
     "name": "stdout",
     "output_type": "stream",
     "text": [
      "4\n",
      "3\n",
      "2\n",
      "1\n",
      "Gimme a break!\n"
     ]
    }
   ],
   "source": [
    "k = 4\n",
    "while k > 0:\n",
    "    print(k)\n",
    "    if k == 0:\n",
    "        break # hint: vi kommer aldrig komma hit!\n",
    "    k -= 1\n",
    "else:\n",
    "    print(\"Gimme a break!\")"
   ]
  },
  {
   "cell_type": "markdown",
   "metadata": {},
   "source": [
    "For-loopar i Python används för att iterera över en sekvens (listor, tupler, dictionaries, set, strängar med mera) som vi lärde oss här ovan."
   ]
  },
  {
   "cell_type": "code",
   "execution_count": 49,
   "metadata": {},
   "outputs": [
    {
     "name": "stdout",
     "output_type": "stream",
     "text": [
      "1\n",
      "2\n",
      "3\n"
     ]
    }
   ],
   "source": [
    "a_list = [1,2,3]\n",
    "\n",
    "for item in a_list:\n",
    "    print(item)"
   ]
  },
  {
   "cell_type": "markdown",
   "metadata": {},
   "source": [
    "För ett dictionary kan vi iterera över både nycklar och värden."
   ]
  },
  {
   "cell_type": "code",
   "execution_count": 50,
   "metadata": {},
   "outputs": [
    {
     "name": "stdout",
     "output_type": "stream",
     "text": [
      "Henrik kör oftast i 110 km/h.\n",
      "Rasmus kör oftast i 80 km/h.\n",
      "Christer kör oftast i 30 km/h.\n"
     ]
    }
   ],
   "source": [
    "\n",
    "maxhastighet = {\"Henrik\": 110, \"Rasmus\": 80, \"Christer\": 30}\n",
    "\n",
    "for namn, hastighet in maxhastighet.items():\n",
    "    print(f\"{namn} kör oftast i {hastighet} km/h.\")"
   ]
  },
  {
   "cell_type": "markdown",
   "metadata": {},
   "source": [
    "Med `range()` kan vi skapa en iterabel med numeriska värden mellan ett start- och ett slutvärde."
   ]
  },
  {
   "cell_type": "code",
   "execution_count": 51,
   "metadata": {},
   "outputs": [
    {
     "name": "stdout",
     "output_type": "stream",
     "text": [
      "range(0, 4)\n",
      "0\n",
      "1\n",
      "2\n",
      "3\n"
     ]
    }
   ],
   "source": [
    "# Som default startar intervallet på noll. Obs! intervallets slutvärde inkluderas inte!\n",
    "a_range = range(4)\n",
    "\n",
    "# Vi få ett range-objekt...\n",
    "print(a_range)\n",
    "\n",
    "# ...som vi kan iterera över.\n",
    "for k in a_range:\n",
    "    print(k)"
   ]
  },
  {
   "cell_type": "code",
   "execution_count": 52,
   "metadata": {},
   "outputs": [
    {
     "name": "stdout",
     "output_type": "stream",
     "text": [
      "another_range: 3\n",
      "another_range: 4\n",
      "another_range: 5\n",
      "Usch, en femma!\n"
     ]
    }
   ],
   "source": [
    "# Ett intervall som inte börjar på noll.\n",
    "another_range = range(3,7)\n",
    "\n",
    "for n in another_range:\n",
    "    print(f\"another_range: {n}\")\n",
    "\n",
    "    # Det går bra att använda flödeskontroller i for-loopar.\n",
    "    if n == 5:\n",
    "        print(\"Usch, en femma!\")\n",
    "        break"
   ]
  },
  {
   "cell_type": "markdown",
   "metadata": {},
   "source": [
    "Python har några smidiga metoder som gör det lätt att arbeta med iterabler. Med `enumerate()` får vi en numrerad iterabel."
   ]
  },
  {
   "cell_type": "code",
   "execution_count": 53,
   "metadata": {},
   "outputs": [
    {
     "name": "stdout",
     "output_type": "stream",
     "text": [
      "1: första elementet\n",
      "2: andra elementet\n"
     ]
    }
   ],
   "source": [
    "a_list = [\"första elementet\", \"andra elementet\"]\n",
    "\n",
    "# Enumerate med parametern start satt till 1 (default 0).\n",
    "for index, value in enumerate(a_list, start = 1):\n",
    "    print(f\"{index}: {value}\")"
   ]
  },
  {
   "cell_type": "markdown",
   "metadata": {},
   "source": [
    "Med `zip()` kan vi kombinera två iterabler i ett \"zippat\" objekt. Om iterablerna är olika långa så blir det zippade objektet så lång som den kortare iterabeln."
   ]
  },
  {
   "cell_type": "code",
   "execution_count": 54,
   "metadata": {},
   "outputs": [
    {
     "name": "stdout",
     "output_type": "stream",
     "text": [
      "<class 'zip'>\n",
      "5 myror\n",
      "4 elefanter\n"
     ]
    }
   ],
   "source": [
    "# Zip\n",
    "antal = [5, 4]\n",
    "djur = [\"myror\", \"elefanter\"]\n",
    "\n",
    "antal_djur = zip(antal, djur)\n",
    "\n",
    "# Obs! Detta blir ett zip-objekt som innehåller tupler\n",
    "print(type(antal_djur))\n",
    "\n",
    "# För att använda zip-objektet kan vi t ex iterera över det.\n",
    "for a, d in antal_djur:\n",
    "    print(a, d)"
   ]
  },
  {
   "cell_type": "code",
   "execution_count": 55,
   "metadata": {},
   "outputs": [
    {
     "name": "stdout",
     "output_type": "stream",
     "text": [
      "[(5, 'myror'), (4, 'elefanter')]\n"
     ]
    }
   ],
   "source": [
    "# Obs! När vi använder ett zip-objekt tömmer vi det på värden.\n",
    "antal_djur = zip(antal, djur)\n",
    "\n",
    "print(list(antal_djur))\n",
    "\n",
    "for a, d in antal_djur:\n",
    "    print(\"finns värden kvar i zip-objektet?\", a, d)"
   ]
  },
  {
   "cell_type": "markdown",
   "metadata": {},
   "source": [
    "### Flödeskontroll\n",
    "\n",
    "I Python kan vi styra exekveringen av block av kod med konstruktionen if-elif-else. Om inte if-blockets villkor uppfylls testas ett eller flera elif-villkor. Slutligen exekveras else-blocket om inget av de tidigare villkoren uppfyllts."
   ]
  },
  {
   "cell_type": "code",
   "execution_count": 56,
   "metadata": {},
   "outputs": [
    {
     "name": "stdout",
     "output_type": "stream",
     "text": [
      "3^2 är nio\n"
     ]
    }
   ],
   "source": [
    "if(1>2):\n",
    "    print(\"ett är större än två\")\n",
    "elif(\"katt\" in [\"hund\", \"råtta\"]):\n",
    "    print(\"ett djur!\")\n",
    "elif(3**2==9):\n",
    "    print(\"3^2 är nio\")\n",
    "else:\n",
    "    print(\"gör något annat\")"
   ]
  },
  {
   "cell_type": "markdown",
   "metadata": {},
   "source": [
    "### Funktioner\n",
    "\n",
    "Självklart kan vi definiera våra egna funktioner i Python. Här är ett enkelt exempel:"
   ]
  },
  {
   "cell_type": "code",
   "execution_count": 57,
   "metadata": {},
   "outputs": [
    {
     "name": "stdout",
     "output_type": "stream",
     "text": [
      "printa det här!\n"
     ]
    }
   ],
   "source": [
    "# Skriv def, ett funktionsnamn och lägg till en parentes med eventuella parametrar\n",
    "# för att skapa en funktion.\n",
    "def en_funktion(en_parameter):\n",
    "    print(en_parameter)\n",
    "\n",
    "en_funktion(\"printa det här!\")"
   ]
  },
  {
   "cell_type": "code",
   "execution_count": 58,
   "metadata": {},
   "outputs": [
    {
     "data": {
      "text/plain": [
       "7"
      ]
     },
     "execution_count": 58,
     "metadata": {},
     "output_type": "execute_result"
    }
   ],
   "source": [
    "# Vi kan returnera värden\n",
    "def addera(a, b):\n",
    "    return a+b\n",
    "\n",
    "addera(2,5)"
   ]
  },
  {
   "cell_type": "markdown",
   "metadata": {},
   "source": [
    "#### Scope"
   ]
  },
  {
   "cell_type": "code",
   "execution_count": 1,
   "metadata": {},
   "outputs": [
    {
     "name": "stdout",
     "output_type": "stream",
     "text": [
      "2\n",
      "5\n"
     ]
    }
   ],
   "source": [
    "produkt = 5\n",
    "\n",
    "# Variabler inne i en funktion lever i ett lokalt scope och påverkar inte globala variabler.\n",
    "def multiplicera(a,b):\n",
    "    produkt = a*b\n",
    "    return produkt\n",
    "\n",
    "resultat = multiplicera(1,2)\n",
    "print(resultat)\n",
    "\n",
    "# Den globala variabeln produkt är opåverkad av det som händer inne i funktionen\n",
    "print(produkt)"
   ]
  },
  {
   "cell_type": "markdown",
   "metadata": {},
   "source": [
    "#### Defaultvärden för funktionsparametrar"
   ]
  },
  {
   "cell_type": "code",
   "execution_count": 60,
   "metadata": {},
   "outputs": [
    {
     "name": "stdout",
     "output_type": "stream",
     "text": [
      "1\n",
      "32\n",
      "5\n"
     ]
    }
   ],
   "source": [
    "# Det går att sätta defaultvärden för parametrarna.\n",
    "def exponent(a = 1, b = 1):\n",
    "    return a**b\n",
    "\n",
    "# Defaultvärden\n",
    "print(exponent())\n",
    "\n",
    "# Värden angivna efter position\n",
    "print(exponent(2,5))\n",
    "\n",
    "# Specifikt värde angivet för a, inget värde anges för b (som då blir defaultvärdet 1)\n",
    "print(exponent(a=5))"
   ]
  },
  {
   "cell_type": "markdown",
   "metadata": {},
   "source": [
    "#### Namngivna och icke-namngivna argument\n",
    "\n",
    "I Python kan vi skicka in ytterligare argument till en funktion utan att explicit behöva ange dem i definitionen, antingen som namngivna (`**kwargs`, keyword arguments) eller icke-namngivna (`*args`). Det är egentligen asteriskerna som är det viktiga, men det är konvention att använda namnen `args` och `kwargs` som namn på argumenten. Exempel på användandet av ytterligare argument med `*args`:"
   ]
  },
  {
   "cell_type": "code",
   "execution_count": 62,
   "metadata": {},
   "outputs": [
    {
     "name": "stdout",
     "output_type": "stream",
     "text": [
      "6\n",
      "300\n"
     ]
    }
   ],
   "source": [
    "# I vår nya multiplikatorfunktion kan vi skicka in valfritt antal värden som ska multipliceras ihop.\n",
    "def multiplicera_ny(*args):\n",
    "    produkt = 1\n",
    "    for arg in args:\n",
    "        produkt *= arg\n",
    "    return produkt\n",
    "\n",
    "print(multiplicera_ny(1,2,3))\n",
    "print(multiplicera_ny(5,2,3,1,5,2))"
   ]
  },
  {
   "cell_type": "markdown",
   "metadata": {},
   "source": [
    "Namngivna argument till en funktion blir ett dictionary med namned `kwargs` (eller det namn du sätter bakom de två asteriskerna i definitionen), med nycklar och tillhörande värden. Vi kan \"packa upp\" kwargsen på samma sätt som vi brukar göra med dicts, genom att använda `.items()`, `.keys()` eller `.values()`."
   ]
  },
  {
   "cell_type": "code",
   "execution_count": 8,
   "metadata": {},
   "outputs": [
    {
     "name": "stdout",
     "output_type": "stream",
     "text": [
      "'färg' har värde blå\n",
      "'form' har värde rund\n"
     ]
    }
   ],
   "source": [
    "def keywords(**kwargs):\n",
    "    for argument, varde in kwargs.items():\n",
    "        print(f\"\\'{argument}\\' har värde {varde}\")\n",
    "\n",
    "keywords(färg=\"blå\", form=\"rund\")"
   ]
  },
  {
   "cell_type": "code",
   "execution_count": 4,
   "metadata": {},
   "outputs": [
    {
     "name": "stdout",
     "output_type": "stream",
     "text": [
      "14.951111111111114\n",
      "2\n",
      "4\n"
     ]
    }
   ],
   "source": [
    "# Här kombinerar vi paramterar, args och kwargs.\n",
    "def specialfunktion(a, *args, **kwargs):\n",
    "    if (\"exponent\" in kwargs.keys()):\n",
    "        for arg in args:\n",
    "            a += 1/arg\n",
    "        return(a**kwargs[\"exponent\"])\n",
    "    else:\n",
    "        return a\n",
    "\n",
    "print(specialfunktion(2,3,3,5,1,exponent=2))\n",
    "print(specialfunktion(2,3,3,5,1,log=2))\n",
    "print(specialfunktion(4,5,1,))"
   ]
  },
  {
   "cell_type": "markdown",
   "metadata": {},
   "source": [
    "### Dokumentera funktioner"
   ]
  },
  {
   "cell_type": "markdown",
   "metadata": {},
   "source": [
    "#### Typindikationer\n",
    "\n",
    "Typindikationer eller **type hints** kan användas för att förtydliga vilka datatyper funktioner förväntar sig och returnerar. Detta är särskilt användbart i större projekt för att underlätta förståelsen och underhåll av koden. Vi kan annotera parametertyperna som du ser i exemplet nedan, men det genereras inga fel om vi stoppar in fel typ vid körning. Det går också att annotera returvärdet med en högerpil och sedan typen, t ex  `-> dict`."
   ]
  },
  {
   "cell_type": "code",
   "execution_count": null,
   "metadata": {},
   "outputs": [],
   "source": [
    "# Parametern a förväntas vara av typ int och b av typ str\n",
    "# Returvärdet förväntas vara str\n",
    "def kombinera(a: int, b: str) -> str:\n",
    "    str_komb = f\"{a} {b}\"\n",
    "    return str_komb\n",
    "\n",
    "print(kombinera(99, \"luftballonger\"))\n",
    "\n",
    "# Det görs ingen kontroll av att vår input faktiskt har den förväntade typen\n",
    "print(kombinera(\"luftballonger\", 99))"
   ]
  },
  {
   "cell_type": "markdown",
   "metadata": {},
   "source": [
    "Testa att hovra med musen ovanför `kombinera` i valfritt exempel i cellen här ovanför. Som du ser så är det tydligt vad funktionen förväntas ha för input och output."
   ]
  },
  {
   "cell_type": "markdown",
   "metadata": {},
   "source": [
    "#### Docstrings\n",
    "\n",
    "För att ytterligare förtydliga och dokumentera sin kod kan man lägga till **docstrings** som ger en tydlig förklaring av funktionens syfte, dess parameter- och returtyper, samt ett exempel på hur funktionen kan användas. Genom att inkludera sådana detaljer i dina docstrings hjälper du andra utvecklare att snabbt förstå vad din funktion gör och hur de kan använda den. Docstringen läggs under funktionsdefinitionsheadern och innan någon logik i funktionen och är bara en flerradssträng (tre citattecken före och tre efter). Se exempel nedan och hovra över `kombinera` i exemplet längst ner i cellen."
   ]
  },
  {
   "cell_type": "code",
   "execution_count": null,
   "metadata": {},
   "outputs": [],
   "source": [
    "def kombinera(a: int, b: str) -> str:\n",
    "    \"\"\"\n",
    "    Kombinerar ett heltal och en sträng till en enda strängrepresentation.\n",
    "\n",
    "    Denna funktion tar ett heltal och en sträng som argument, konverterar heltalet till en sträng \n",
    "    (om det inte redan är det) och kombinerar sedan de två strängarna med ett mellanslag emellan. \n",
    "    Resultatet är en ny sträng som innehåller den kombinerade representationen av de två argumenten.\n",
    "\n",
    "    Parametrar:\n",
    "        a (int): Heltalet som ska kombineras med en sträng.\n",
    "        b (str): Strängen som ska kombineras med heltalet.\n",
    "\n",
    "    Returnerar:\n",
    "        str: En ny sträng som är en kombination av heltalet och strängen, separerade med ett mellanslag.\n",
    "\n",
    "    Exempel:\n",
    "        >>> kombinera(10, \"äpplen\")\n",
    "        '10 äpplen'\n",
    "    \"\"\"\n",
    "    str_komb = f\"{a} {b}\"\n",
    "    return str_komb\n",
    "\n",
    "kombinera(10, \"äpplen\")"
   ]
  },
  {
   "cell_type": "markdown",
   "metadata": {},
   "source": [
    "### Felhantering"
   ]
  },
  {
   "cell_type": "markdown",
   "metadata": {},
   "source": [
    "En bra konstruktion för att fånga upp och hantera eventuella fel i koden är `try-except-else-finally`. Det låter oss hantera fel istället för att låta applikationen eller systemet vi bygger krascha. Det fungerar på detta sätt: \n",
    "1. **Try:** Vi testar att köra koden som finns i try-blocket\n",
    "2. **Except:** Om det uppstår ett fel exekveras istället koden i except-blocket som låter oss hantera felet\n",
    "3. **Else:** Om vi inte får något fel i try-blocket exekveras koden i else-blocket\n",
    "4. **Finally:** Slutligen exekveras alltid koden i finally-blocket\n",
    "\n",
    "Man behöver inte använda alla delar, t ex är det vanligast att se ett `try-except`-block."
   ]
  },
  {
   "cell_type": "code",
   "execution_count": 69,
   "metadata": {},
   "outputs": [
    {
     "name": "stdout",
     "output_type": "stream",
     "text": [
      "Det blev ett fel!\n",
      "Nu är jag klar.\n"
     ]
    }
   ],
   "source": [
    "try:\n",
    "    1+\"två\"\n",
    "except:\n",
    "    print(\"Det blev ett fel!\")\n",
    "else:\n",
    "    print(\"Det gick bra!\")\n",
    "finally:\n",
    "    print(\"Nu är jag klar.\")"
   ]
  },
  {
   "cell_type": "markdown",
   "metadata": {},
   "source": [
    "Titta på koden nedan, ser du något problem när vi använder funktionen med argumenten som anges? Kör cellen."
   ]
  },
  {
   "cell_type": "code",
   "execution_count": null,
   "metadata": {},
   "outputs": [],
   "source": [
    "def division(a,b):\n",
    "    result = a/b\n",
    "    return result\n",
    "\n",
    "# Det andra argumentet är en lista\n",
    "division(23,[1])"
   ]
  },
  {
   "cell_type": "markdown",
   "metadata": {},
   "source": [
    "Ajaj, det andra argumentet var en lista, vilket gjorde att vår applikation kraschade. Vi vet att vi kan använda oss av en try-except-konstruktion för att hantera felen, men om vi returnerar samma felmeddelande för alla typer av fel är det inte säkert att användaren förstår vad som gått snett. Vi kan därför ha olika hantering för olika typer av fel, se hur vi gör här:"
   ]
  },
  {
   "cell_type": "code",
   "execution_count": 1,
   "metadata": {},
   "outputs": [],
   "source": [
    "def division(a,b):\n",
    "    try:\n",
    "        result = a/b\n",
    "    except TypeError:\n",
    "        print(\"One or more of the arguments were non-numeric!\")\n",
    "    except ZeroDivisionError:\n",
    "        print(\"Cannot divide by zero!\")\n",
    "    else:\n",
    "        return result"
   ]
  },
  {
   "cell_type": "code",
   "execution_count": 2,
   "metadata": {},
   "outputs": [
    {
     "name": "stdout",
     "output_type": "stream",
     "text": [
      "One or more of the arguments were non-numeric!\n"
     ]
    }
   ],
   "source": [
    "# Vi testar med ett icke-numeriskt argument.\n",
    "division(23,[1])"
   ]
  },
  {
   "cell_type": "code",
   "execution_count": 3,
   "metadata": {},
   "outputs": [
    {
     "name": "stdout",
     "output_type": "stream",
     "text": [
      "Cannot divide by zero!\n"
     ]
    }
   ],
   "source": [
    "# Vi testar också att dela med noll.\n",
    "division(1,0)"
   ]
  },
  {
   "cell_type": "code",
   "execution_count": 6,
   "metadata": {},
   "outputs": [
    {
     "ename": "NameError",
     "evalue": "name 'a' is not defined",
     "output_type": "error",
     "traceback": [
      "\u001b[1;31m---------------------------------------------------------------------------\u001b[0m",
      "\u001b[1;31mNameError\u001b[0m                                 Traceback (most recent call last)",
      "Cell \u001b[1;32mIn[6], line 2\u001b[0m\n\u001b[0;32m      1\u001b[0m \u001b[38;5;66;03m# Vad händer när vi bara anger parameter?\u001b[39;00m\n\u001b[1;32m----> 2\u001b[0m division(\u001b[38;5;241m-\u001b[39m\u001b[38;5;241m2\u001b[39m,\u001b[38;5;241m-\u001b[39m\u001b[43ma\u001b[49m)\n",
      "\u001b[1;31mNameError\u001b[0m: name 'a' is not defined"
     ]
    }
   ],
   "source": [
    "# Vad händer när vi anger ett namn på ett objekt som inte är definerat?\n",
    "division(-2,-a)"
   ]
  },
  {
   "cell_type": "markdown",
   "metadata": {},
   "source": [
    "När du kör cellen ovan så får vi ändå ett fel, vad beror det på? Jo, felet som uppstår, ett NameError, uppstår inte inne i funktionen utan när funktionen kallas (det är ett argument för lite jämfört med parametrarna i funktionsdefinitionen). Här skulle det istället vara lämpligt att innesluta hela funktionsanropet i ett `try-except-block`.\n",
    "\n",
    "Vill vi lägga till ett except-block som hanterar alla andra typer av fel förutom de vi specifikt definierat så kan vi göra så här:"
   ]
  },
  {
   "cell_type": "code",
   "execution_count": 3,
   "metadata": {},
   "outputs": [
    {
     "name": "stdout",
     "output_type": "stream",
     "text": [
      "One or more of the arguments were non-numeric!\n"
     ]
    }
   ],
   "source": [
    "def division(a,b):\n",
    "    try:\n",
    "        result = a/b\n",
    "    except TypeError:\n",
    "        print(\"One or more of the arguments were non-numeric!\")\n",
    "    except ZeroDivisionError:\n",
    "        print(\"Cannot divide by zero!\")\n",
    "    except Exception as e:\n",
    "        print(f\"This is the error I got: {e}\")\n",
    "    else:\n",
    "        return result"
   ]
  },
  {
   "cell_type": "markdown",
   "metadata": {},
   "source": [
    "### Comprehensions\n",
    "\n",
    "Det finns smidiga sätt att skriva loopar som opererar på listor och dictionaries på som kallas  comprehensions. De är inte alltid lätta att förstå, men de ger väldigt komprimerad kod."
   ]
  },
  {
   "cell_type": "code",
   "execution_count": 65,
   "metadata": {},
   "outputs": [
    {
     "data": {
      "text/plain": [
       "[3, 4, 5, 6, 7]"
      ]
     },
     "execution_count": 65,
     "metadata": {},
     "output_type": "execute_result"
    }
   ],
   "source": [
    "# List comprehensions\n",
    "[x+3 for x in range(5)]"
   ]
  },
  {
   "cell_type": "code",
   "execution_count": 66,
   "metadata": {},
   "outputs": [
    {
     "data": {
      "text/plain": [
       "[3, 5, 7]"
      ]
     },
     "execution_count": 66,
     "metadata": {},
     "output_type": "execute_result"
    }
   ],
   "source": [
    "# Med villkor\n",
    "[x+3 for x in range(5) if x % 2 == 0]"
   ]
  },
  {
   "cell_type": "code",
   "execution_count": 67,
   "metadata": {},
   "outputs": [
    {
     "name": "stdout",
     "output_type": "stream",
     "text": [
      "{'ett': 1, 'två': 4, 'tre': 9}\n"
     ]
    }
   ],
   "source": [
    "# Dictionary comprehensions, lite mer komplicerat.\n",
    "dict1 = {\"ett\": 1 , \"två\": 2, \"tre\": 3}\n",
    "new_dict = {key:val**2 for (key, val) in dict1.items()}\n",
    "\n",
    "print(new_dict)"
   ]
  },
  {
   "cell_type": "markdown",
   "metadata": {},
   "source": [
    "### List comprehensions, kort tillbakablick\n",
    "\n",
    "I överkursdelen i del ett av kursen så gick vi kort igenom list comprehensions som ett sätt att skriva komprimerad kod som resulterar i en lista. Här kommer ytterligare ett exempel. Vi kan läsa det som \"*gör något **(sum(x))** med varje element **(for x)** i en iterabel **(in zip(range(5),[0,1,2,3,4]))** och lägg resultatet från varje iteration i en lista*\"."
   ]
  },
  {
   "cell_type": "code",
   "execution_count": null,
   "metadata": {},
   "outputs": [],
   "source": [
    "[sum(x) for x in zip(range(5), [0,1,2,3,4])]"
   ]
  },
  {
   "cell_type": "markdown",
   "metadata": {},
   "source": [
    "**Kontrollfråga**: Vad gör `range(5)` i cellen ovan? Vad gör `zip()`?"
   ]
  },
  {
   "cell_type": "markdown",
   "metadata": {},
   "source": [
    "### Andra intressanta operationer"
   ]
  },
  {
   "cell_type": "code",
   "execution_count": 1,
   "metadata": {},
   "outputs": [
    {
     "name": "stdout",
     "output_type": "stream",
     "text": [
      "6\n",
      "5\n",
      "8\n",
      "a: 2, b: 3\n",
      "a: 3, b: 2\n"
     ]
    }
   ],
   "source": [
    "# Unpack\n",
    "ett, två, tre = (1, 2, 3) # Konvertera tupel till tre separata objekt.\n",
    "print(ett + två + tre)\n",
    "\n",
    "# Vi är inte intresserade av det första elementet (nyttigt när en funktion returnerar flera värden).\n",
    "_, två, tre = [3,2,3]\n",
    "print(två + tre)\n",
    "\n",
    "# Obs! Underscore har dock fått ett värde, men det är konvention att assigna oönskade värden som just underscore.\n",
    "print(_ + två + tre)\n",
    "\n",
    "# Byt variabler\n",
    "a = 2\n",
    "b = 3\n",
    "print(f\"a: {a}, b: {b}\")\n",
    "a,b=b,a\n",
    "print(f\"a: {a}, b: {b}\")"
   ]
  },
  {
   "cell_type": "code",
   "execution_count": null,
   "metadata": {},
   "outputs": [],
   "source": []
  }
 ],
 "metadata": {
  "kernelspec": {
   "display_name": "Python 3",
   "language": "python",
   "name": "python3"
  },
  "language_info": {
   "codemirror_mode": {
    "name": "ipython",
    "version": 3
   },
   "file_extension": ".py",
   "mimetype": "text/x-python",
   "name": "python",
   "nbconvert_exporter": "python",
   "pygments_lexer": "ipython3",
   "version": "3.12.6"
  },
  "orig_nbformat": 4
 },
 "nbformat": 4,
 "nbformat_minor": 2
}
