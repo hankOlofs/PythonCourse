{
 "cells": [
  {
   "cell_type": "markdown",
   "metadata": {},
   "source": [
    "## Laborationsövningar"
   ]
  },
  {
   "cell_type": "markdown",
   "metadata": {},
   "source": [
    "Skriv ett uttryck som skriver ut ordet \"kakaopulver\" sjutton gånger i följd. Resultatet borde se ut så här: `kakaopulverkakaopulver[...]kakaopulver`."
   ]
  },
  {
   "cell_type": "code",
   "execution_count": 26,
   "metadata": {},
   "outputs": [
    {
     "name": "stdout",
     "output_type": "stream",
     "text": [
      "kakaopulverkakaopulverkakaopulverkakaopulverkakaopulverkakaopulverkakaopulverkakaopulverkakaopulverkakaopulverkakaopulverkakaopulverkakaopulverkakaopulverkakaopulverkakaopulverkakaopulver\n"
     ]
    }
   ],
   "source": [
    "# Din kod här\n",
    "print(\"kakaopulver\"*17)"
   ]
  },
  {
   "cell_type": "markdown",
   "metadata": {},
   "source": [
    "Hur många tecken innehåller strängen?"
   ]
  },
  {
   "cell_type": "code",
   "execution_count": null,
   "metadata": {},
   "outputs": [],
   "source": [
    "# Din kod här\n",
    "len(\"kakaopulver\"*17)"
   ]
  },
  {
   "cell_type": "code",
   "execution_count": null,
   "metadata": {},
   "outputs": [],
   "source": [
    "# HINT (dubbelklicka här)\n",
    "# Det går alldeles utmärkt att googla efter t ex \"length of string in python\""
   ]
  },
  {
   "cell_type": "markdown",
   "metadata": {},
   "source": [
    "En sträng, `\"kakaopulver\"` består av enskilda ordnade element som sammanfogats. Det innebär att vi kan indexera strängar på samma sätt som listor, med hakklamrar []. Skriv ut \"kakaopulver\" baklänges genom att använda använda en indexeringsmetod."
   ]
  },
  {
   "cell_type": "code",
   "execution_count": null,
   "metadata": {},
   "outputs": [],
   "source": [
    "# Skriv ut kakaopulver baklänges genom att lägga till rätt indexering i hakklamrarna nedan\n",
    "\"kakaopulver\"[]"
   ]
  },
  {
   "cell_type": "markdown",
   "metadata": {},
   "source": [
    "---\n",
    "Dela upp följande mening i en lista med enskilda ord genom att använda en sträng-metod: `\"The quick brown fox jumps over the lazy dog\"`"
   ]
  },
  {
   "cell_type": "code",
   "execution_count": 30,
   "metadata": {},
   "outputs": [
    {
     "data": {
      "text/plain": [
       "['The', 'quick', 'brown', 'fox', 'jumps', 'over', 'the', 'lazy', 'dog']"
      ]
     },
     "execution_count": 30,
     "metadata": {},
     "output_type": "execute_result"
    }
   ],
   "source": [
    "# Din kod här\n",
    "\"The quick brown fox jumps over the lazy dog\".split()"
   ]
  },
  {
   "cell_type": "code",
   "execution_count": 31,
   "metadata": {},
   "outputs": [
    {
     "data": {
      "text/plain": [
       "['The', 'quick', 'brown', 'fox', 'jumps', 'over', 'the', 'lazy', 'dog']"
      ]
     },
     "execution_count": 31,
     "metadata": {},
     "output_type": "execute_result"
    }
   ],
   "source": [
    "# Dela nu upp den här strängen i en lista\n",
    "\"The_quick_brown_fox_jumps_over_the_lazy_dog\"\n",
    "\n",
    "# Din kod här\n",
    "\"The_quick_brown_fox_jumps_over_the_lazy_dog\".split(\"_\")"
   ]
  },
  {
   "cell_type": "markdown",
   "metadata": {},
   "source": [
    "---\n",
    "Skriv en for-loop som skriver ut namnen på städerna i listan nedan om de innehåller ett \"ö\"."
   ]
  },
  {
   "cell_type": "code",
   "execution_count": 6,
   "metadata": {},
   "outputs": [],
   "source": [
    "cities = [\"stockholm\", \"malmö\", \"göteborg\", \"linköping\", \"norrköping\", \"västerås\"]"
   ]
  },
  {
   "cell_type": "code",
   "execution_count": 7,
   "metadata": {},
   "outputs": [
    {
     "name": "stdout",
     "output_type": "stream",
     "text": [
      "malmö\n",
      "göteborg\n",
      "linköping\n",
      "norrköping\n"
     ]
    }
   ],
   "source": [
    "# Din kod här\n",
    "for city in cities:\n",
    "    if \"ö\" in city:\n",
    "        print(city)"
   ]
  },
  {
   "cell_type": "markdown",
   "metadata": {},
   "source": [
    "Skriv nu en for-loop som skriver ut hur många bokstäver det är i varje stadsnamn samt namnet på staden. Första bokstaven i stadens namn ska vara en versal och namnet ska omges av citattecken. Resultatet bör se ut så här: \n",
    "\n",
    "I \"Stockholm\" finns det 9 bokstäver\n",
    "\n",
    "I \"Malmö\" finns det 5 bokstäver\n",
    "\n",
    "I \"Göteborg\" finns det 8 bokstäver\n",
    "\n",
    "I \"Linköping\" finns det 9 bokstäver\n",
    "\n",
    "I \"Norrköping\" finns det 10 bokstäver\n",
    "\n",
    "I \"Västerås\" finns det 8 bokstäver"
   ]
  },
  {
   "cell_type": "code",
   "execution_count": 8,
   "metadata": {},
   "outputs": [
    {
     "name": "stdout",
     "output_type": "stream",
     "text": [
      "I \"Stockholm\" finns det 9 bokstäver\n",
      "I \"Malmö\" finns det 5 bokstäver\n",
      "I \"Göteborg\" finns det 8 bokstäver\n",
      "I \"Linköping\" finns det 9 bokstäver\n",
      "I \"Norrköping\" finns det 10 bokstäver\n",
      "I \"Västerås\" finns det 8 bokstäver\n"
     ]
    }
   ],
   "source": [
    "# Din kod här:\n",
    "for city in cities:\n",
    "    print(f\"I \\\"{city.capitalize()}\\\" finns det {len(city)} bokstäver\")"
   ]
  },
  {
   "cell_type": "code",
   "execution_count": 32,
   "metadata": {},
   "outputs": [],
   "source": [
    "# HINT\n",
    "# Här krävs det att du använder en formaterad sträng."
   ]
  },
  {
   "cell_type": "markdown",
   "metadata": {},
   "source": [
    "---\n",
    "Här nedanför ser du en oändlig while-loop. **Kör den inte än**. Lägg istället till en konstruktion som gör att den skriver ut \"Klar!\" och avbryts när k är 10."
   ]
  },
  {
   "cell_type": "code",
   "execution_count": null,
   "metadata": {},
   "outputs": [],
   "source": [
    "k = 0\n",
    "\n",
    "while True:\n",
    "    k += 1"
   ]
  },
  {
   "cell_type": "code",
   "execution_count": 36,
   "metadata": {},
   "outputs": [
    {
     "name": "stdout",
     "output_type": "stream",
     "text": [
      "Klar!\n"
     ]
    }
   ],
   "source": [
    "# Lösningsförslag\n",
    "k = 0\n",
    "\n",
    "while True:\n",
    "    k += 1\n",
    "    if k == 10:\n",
    "        print(\"Klar!\")\n",
    "        break"
   ]
  },
  {
   "cell_type": "markdown",
   "metadata": {},
   "source": [
    "---\n",
    "Skriv en funktion `odd_or_even` med en parameter som skriver ut om det angivna värdet på parametern är jämnt eller udda."
   ]
  },
  {
   "cell_type": "code",
   "execution_count": null,
   "metadata": {},
   "outputs": [],
   "source": [
    "# Din kod här\n",
    "def odd_or_even(n):\n",
    "    if n % 2 == 0:\n",
    "        print(\"Talet är jämnt!\")\n",
    "    else:\n",
    "        print(\"Talet är udda!\")"
   ]
  },
  {
   "cell_type": "code",
   "execution_count": null,
   "metadata": {},
   "outputs": [],
   "source": [
    "# HINT\n",
    "# Modulus-operatorn är väldigt användbar här. a % b visar vilken rest (om någon) som man får vid division av a och b.as_integer_ratio"
   ]
  },
  {
   "cell_type": "code",
   "execution_count": null,
   "metadata": {},
   "outputs": [],
   "source": [
    "# Testa din funktion här\n",
    "odd_or_even(1) # Bör skriva ut att värdet är udda\n",
    "odd_or_even(6) # Bör skriva ut att värdet är jämnt"
   ]
  },
  {
   "cell_type": "markdown",
   "metadata": {},
   "source": [
    "---\n",
    "Använd ternära uttryck för att kolla om två objekt är lika. Skriv ut \"It's a match\" om `a` och `b` är lika, annars \"No match\"."
   ]
  },
  {
   "cell_type": "code",
   "execution_count": 2,
   "metadata": {},
   "outputs": [
    {
     "data": {
      "text/plain": [
       "'No match'"
      ]
     },
     "execution_count": 2,
     "metadata": {},
     "output_type": "execute_result"
    }
   ],
   "source": [
    "a = 724379872437987243798724379872437987243798724379872437987243798724379872437987243798724379872437982743798\n",
    "b = 724379872437987243798724379872437987243798724379872437987243798724379872437987243798724379872437987243798\n",
    "\n",
    "# Din kod här\n",
    "\"It's a match\" if a == b else \"No match\""
   ]
  },
  {
   "cell_type": "markdown",
   "metadata": {},
   "source": [
    "---\n",
    "Skriv en lambdafunktion med namn `printif` med en parameter `x`. Funktionen ska skriva ut *\"Vilket stort tal!\"* om värdet är **större** än 10, annars ska strängen *\"`x` är ett lågt tal\"* (där `x` är parameterns värde) skrivas ut. Du kan förutsätta att input till funktionen är numerisk."
   ]
  },
  {
   "cell_type": "code",
   "execution_count": null,
   "metadata": {},
   "outputs": [],
   "source": [
    "# Din funktion här\n",
    "printif = lambda x: print(f\"{x} är ett lågt tal\") if x <= 10 else print(\"Vilket stort tal!\")\n"
   ]
  },
  {
   "cell_type": "code",
   "execution_count": 37,
   "metadata": {},
   "outputs": [],
   "source": [
    "# HINT\n",
    "# Ett ternärt uttryck kan komma till nytta..."
   ]
  },
  {
   "cell_type": "code",
   "execution_count": null,
   "metadata": {},
   "outputs": [],
   "source": [
    "# Testa din kod här.\n",
    "# Första resultatraden borde vara: 10 är ett lågt tal\n",
    "# Andra raden borde vara: Vilket stort tal!\n",
    "\n",
    "printif(10)\n",
    "printif(20)"
   ]
  },
  {
   "cell_type": "markdown",
   "metadata": {},
   "source": [
    "Testa att köra cellen nedan. Vad blir det för fel? Varför?"
   ]
  },
  {
   "cell_type": "code",
   "execution_count": null,
   "metadata": {},
   "outputs": [],
   "source": [
    "printif(\"två\")"
   ]
  },
  {
   "cell_type": "markdown",
   "metadata": {},
   "source": [
    "Definiera nu en funktion som heter `printer` utan några parametrar. Funktionen ska:\n",
    "1. Låta användaren skriva in en valfri `input`.\n",
    "1. Använda användarens input som argument till `printif`-funktionen\n",
    "1. Innehålla minst ett `try-except`-block som försöker hantera uppkomna fel\n",
    "\n",
    "Obs! `input()` returnerar en sträng, alltså behöver input-värdet konverteras. Om konverteringen misslyckas bör användaren informeras om att endast numeriska värden får anges."
   ]
  },
  {
   "cell_type": "code",
   "execution_count": null,
   "metadata": {},
   "outputs": [],
   "source": [
    "# Din funktion här:\n",
    "def printer():\n",
    "    x = input()\n",
    "    try:\n",
    "        printif(int(x))\n",
    "    except ValueError:\n",
    "        print(\"Conversion of input to int failed, only use numeric inputs please.\")"
   ]
  },
  {
   "cell_type": "code",
   "execution_count": null,
   "metadata": {},
   "outputs": [],
   "source": [
    "# Testa din funktion genom att ange några olika värden: 1, \"one\", [1], 0b10000.\n",
    "printer()"
   ]
  },
  {
   "cell_type": "code",
   "execution_count": null,
   "metadata": {
    "tags": []
   },
   "outputs": [],
   "source": [
    "# HINT 1\n",
    "# Typkonverteringen görs med int()"
   ]
  },
  {
   "cell_type": "code",
   "execution_count": null,
   "metadata": {
    "tags": []
   },
   "outputs": [],
   "source": [
    "# HINT 2\n",
    "# Du kan göra konverteringen i ett try-block"
   ]
  },
  {
   "cell_type": "markdown",
   "metadata": {},
   "source": [
    "---\n",
    "Nu ska vi kasta tärning! \n",
    "\n",
    "1. Skapa en funktion `tärning` som representerar ett kast med en 6-sidig tärning, dvs. den ska returnera ett slumptal mellan 1 och 6. \n",
    "2. Skapa ytterligare en funktion `räkna_kast` som ska kalla på funktionen `tärning` och returnera antalet tärningskast som krävs för att få en etta. Tips: använd en while-loop i `räkna_kast`. \n",
    "\n",
    "Kalla på funktionen `tärning` från funktionen `räkna_kast`. \n",
    "\n",
    "**HINT:**\n",
    "För att generera slumptal kan du importera modulen `random` genom att skriva följande i en cell: `import random`\n",
    "\n",
    "Slumptal kan sen genereras med funktionen `random.randint([lägre_gräns], [övre_gräns])`."
   ]
  },
  {
   "cell_type": "code",
   "execution_count": 3,
   "metadata": {},
   "outputs": [],
   "source": [
    "# Din kod här\n",
    "import random\n",
    "\n",
    "def tärning():\n",
    "    return random.randint(1, 6)\n",
    "\n",
    "\n",
    "def räkna_kast(func):\n",
    "    antal_kast = 1\n",
    "    while func() != 1:\n",
    "        antal_kast += 1\n",
    "    return antal_kast"
   ]
  },
  {
   "cell_type": "code",
   "execution_count": 5,
   "metadata": {},
   "outputs": [
    {
     "name": "stdout",
     "output_type": "stream",
     "text": [
      "3\n"
     ]
    }
   ],
   "source": [
    "# Testa din funktion här\n",
    "print(räkna_kast(tärning))"
   ]
  },
  {
   "cell_type": "markdown",
   "metadata": {},
   "source": [
    "---\n",
    "RPA-teamet utvecklar smarta robotar. Den smarta roboten Roger ska identifiera vilka system som behöver underhåll eller har kraschat. Listan `system` symboliserar en rad olika system, där varje objekt antar värdet \"Grön\", \"Gul\" eller \"Röd\" som representerar statusen på ett system. Skriv en funktion `hitta_fel` som tar en `färgkod` och en `lista` som parametrar, som ska printa alla index i listan för `färgkod`. Till exempel för färgkoden \"Gul\" så ska funktionen `hitta_fel` printa följande: Robot Roger har identifierat kod 'Gul' på position [0, 2, 4, 15]\n",
    "\n",
    "Använd en for-loop och flödeskontroll. Om du vill får du gärna testa att använda en list comprehension istället för en for-loop. "
   ]
  },
  {
   "cell_type": "code",
   "execution_count": null,
   "metadata": {},
   "outputs": [],
   "source": [
    "# Kör den här cellen\n",
    "system = [\"Gul\", \"Grön\", \"Gul\", \"Grön\", \"Gul\", \"Röd\", \"Grön\", \"Röd\", \"Grön\",\n",
    "          \"Grön\", \"Grön\", \"Grön\", \"Grön\", \"Röd\", \"Röd\", \"Gul\", \"Grön\", \"Grön\", \"Grön\"]"
   ]
  },
  {
   "cell_type": "code",
   "execution_count": 6,
   "metadata": {},
   "outputs": [],
   "source": [
    "# Din kod här\n",
    "def hitta_index(färgkod, lista):\n",
    "    index = list() \n",
    "    lista_längd = len(lista)\n",
    "    # List comprehension\n",
    "    # index = [i for i in range(lista_längd) if lista[i] == x]\n",
    "    for i in range(lista_längd):\n",
    "        if lista[i] == färgkod:\n",
    "            index.append(i)\n",
    "\n",
    "    print(f\"Robot Roger har identifierat kod '{färgkod}' på position {index}\")\n"
   ]
  },
  {
   "cell_type": "code",
   "execution_count": 7,
   "metadata": {},
   "outputs": [
    {
     "name": "stdout",
     "output_type": "stream",
     "text": [
      "Robot Roger har identifierat kod 'Gul' på position [0, 2, 4, 15]\n",
      "Robot Roger har identifierat kod 'Röd' på position [5, 7, 13, 14]\n"
     ]
    }
   ],
   "source": [
    "# Testa din funktion här\n",
    "\n",
    "# Se vilka system som behöver underhåll\n",
    "hitta_index(färgkod=\"Gul\", lista=system)\n",
    "\n",
    "# Se vilka system som har kraschat\n",
    "hitta_index(färgkod=\"Röd\", lista=system)\n"
   ]
  },
  {
   "cell_type": "markdown",
   "metadata": {},
   "source": [
    "---\n",
    "Christer kör ofta bil till kontoret. Under resan noterar han alla epa-traktorer han ser och lägger i en lista. Han lägger även till alla motorcyklar, giraffer och gula bilar i listan.\n",
    "\n",
    "En morgon fick Christer följande lista:"
   ]
  },
  {
   "cell_type": "code",
   "execution_count": 11,
   "metadata": {},
   "outputs": [],
   "source": [
    "christers_morgonlista = [\"motorcykel\", \"gul bil\", \"epa\", \"gul bil\", \"gul bil\", \"gul bil\", \"giraff\",\n",
    "                         \"gul bil\", \"epa\", \"epa\", \"epa\", \"motorcykel\", \"epa\", \"epa\", \"gul bil\", \"epa\", \"epa\", \"epa\", \"epa\", \"motorcykel\", \"epa\", \"epa\"]\n"
   ]
  },
  {
   "cell_type": "markdown",
   "metadata": {},
   "source": [
    "Hjälp Christer att skapa en dictionary `epa_dict` som innehåller antalet av varje objekt i `christers_morgonlista`."
   ]
  },
  {
   "cell_type": "code",
   "execution_count": 11,
   "metadata": {},
   "outputs": [
    {
     "name": "stdout",
     "output_type": "stream",
     "text": [
      "{'motorcykel': 3, 'gul bil': 6, 'epa': 12, 'giraff': 1}\n"
     ]
    }
   ],
   "source": [
    "# Din kod här\n",
    "epa_dict = {}\n",
    "\n",
    "for vehicle in range(len(christers_morgonlista)):\n",
    "    epa_dict[christers_morgonlista[vehicle]] = christers_morgonlista.count(christers_morgonlista[vehicle])\n",
    "\n",
    "print(epa_dict)"
   ]
  },
  {
   "cell_type": "markdown",
   "metadata": {},
   "source": [
    "En korrekt skriven dictionary ska innehålla följande: {'motorcykel': 3, 'gul bil': 6, 'giraff': 1, 'epa': 12}. Obs! Ordningen kan skilja."
   ]
  },
  {
   "cell_type": "code",
   "execution_count": 22,
   "metadata": {},
   "outputs": [
    {
     "data": {
      "text/plain": [
       "3"
      ]
     },
     "execution_count": 22,
     "metadata": {},
     "output_type": "execute_result"
    }
   ],
   "source": [
    "# HINT\n",
    "christers_morgonlista.count(\"motorcykel\")"
   ]
  },
  {
   "cell_type": "code",
   "execution_count": 16,
   "metadata": {},
   "outputs": [
    {
     "name": "stdout",
     "output_type": "stream",
     "text": [
      "{'gul bil': 6, 'motorcykel': 3, 'giraff': 1, 'epa': 12}\n"
     ]
    }
   ],
   "source": [
    "# Lösningsförslag 2: använd set för att få de unika objekten i listan\n",
    "epa_dict = {}\n",
    "\n",
    "for item in set(christers_morgonlista):\n",
    "    epa_dict[item] = christers_morgonlista.count(item)\n",
    "\n",
    "print(epa_dict)"
   ]
  },
  {
   "cell_type": "code",
   "execution_count": 21,
   "metadata": {},
   "outputs": [
    {
     "data": {
      "text/plain": [
       "{'gul bil': 6, 'motorcykel': 3, 'giraff': 1, 'epa': 12}"
      ]
     },
     "execution_count": 21,
     "metadata": {},
     "output_type": "execute_result"
    }
   ],
   "source": [
    "# Lösningsförslag 3: dictionary comprehension\n",
    "epa_dict = {item: christers_morgonlista.count(item) for item in set(christers_morgonlista)}\n",
    "epa_dict"
   ]
  },
  {
   "cell_type": "markdown",
   "metadata": {},
   "source": [
    "Definera en funktion `printa_dict` som tar en dictionary som parameter. Funktionen ska skriva ut samtliga nycklar och värden genom att loopa igenom `epa_dict`. Använd formaterade strängar. Nyckeln \"epa\" ska skrivas ut med versaler. Resultatet bör se ut enligt följande:\n",
    "\n",
    "\n",
    "motorcykel: 3\n",
    "\n",
    "gul bil: 6\n",
    "\n",
    "giraff: 1\n",
    "\n",
    "EPA: 12"
   ]
  },
  {
   "cell_type": "code",
   "execution_count": 13,
   "metadata": {},
   "outputs": [],
   "source": [
    "# Din kod här\n",
    "\n",
    "def printa_dict(d):\n",
    "    for objekt, antal in d.items():\n",
    "        if \"epa\" in objekt:\n",
    "            print(f\"{objekt}: {antal}\".upper())\n",
    "        else:\n",
    "            print(f\"{objekt}: {antal}\")\n"
   ]
  },
  {
   "cell_type": "code",
   "execution_count": 14,
   "metadata": {},
   "outputs": [
    {
     "name": "stdout",
     "output_type": "stream",
     "text": [
      "motorcykel: 3\n",
      "gul bil: 6\n",
      "EPA: 12\n",
      "giraff: 1\n"
     ]
    }
   ],
   "source": [
    "# Testa din funktion här\n",
    "printa_dict(epa_dict)"
   ]
  },
  {
   "cell_type": "markdown",
   "metadata": {},
   "source": [
    "(Överkurs) Sortera nycklarna i `epa_dict` efter dess värden (i fallande ordning) och spara som `sortera_epa_dict`. Detta genom att kombinera en dictionary comprehension med en lambdafunktion. "
   ]
  },
  {
   "cell_type": "code",
   "execution_count": 15,
   "metadata": {},
   "outputs": [
    {
     "name": "stdout",
     "output_type": "stream",
     "text": [
      "dict_items([('epa', 12), ('gul bil', 6), ('motorcykel', 3), ('giraff', 1)])\n"
     ]
    }
   ],
   "source": [
    "# Din kod här:\n",
    "sortera_epa_dict = {key: antal for (key, antal) in sorted(epa_dict.items(), key=lambda x: x[1], reverse=True)}\n",
    "print(sortera_epa_dict.items())"
   ]
  },
  {
   "cell_type": "code",
   "execution_count": null,
   "metadata": {},
   "outputs": [],
   "source": [
    "# HINT \n",
    "# Du kan använda dig av funktionen sorted()"
   ]
  },
  {
   "cell_type": "code",
   "execution_count": 16,
   "metadata": {},
   "outputs": [
    {
     "name": "stdout",
     "output_type": "stream",
     "text": [
      "EPA: 12\n",
      "gul bil: 6\n",
      "motorcykel: 3\n",
      "giraff: 1\n"
     ]
    }
   ],
   "source": [
    "# Titta på din sorterade dictionary här\n",
    "printa_dict(sortera_epa_dict)"
   ]
  },
  {
   "cell_type": "markdown",
   "metadata": {},
   "source": [
    "---\n",
    "Vi älskar burgare! Definera en klass med klassnamnet `Burgare`. Klassen ska ha:\n",
    "\n",
    "1. En konstruktor\n",
    "2. Attributen gram, topping och vegetarisk. Gram är en integer (default `90`), topping är en lista med godsaker (default `[\"ost\"]`, vegetarisk kan anta de booleska värdena `True` eller `False`)\n",
    "3. Metod `pris` som tillhör klassen Burgare som ska räkna ut priset för en burgare.\n",
    "\n",
    "\n",
    "Metoden pris ska göra följande:\n",
    "* Ta en rabattkupong som parameter\n",
    "* Burgare som är mindre än 120 gram kostar 120 kronor. Övriga kostar 150 kronor.\n",
    "* Varje topping kostar 15 kronor\n",
    "* Vegetariskt alternativ kostar 20 kronor mindre än icke-vegetariskt alternativ."
   ]
  },
  {
   "cell_type": "code",
   "execution_count": 23,
   "metadata": {},
   "outputs": [],
   "source": [
    "# Din kod här\n",
    "class Burgare:\n",
    "    \"\"\"Modellerar en burgare\"\"\"\n",
    "\n",
    "    # Konstructor\n",
    "    def __init__(self, gram = 90, topping = [\"ost\"], vegetarisk = False):\n",
    "        \"\"\"Konstruktor\"\"\"\n",
    "        self.gram = gram\n",
    "        self.topping = topping\n",
    "        self.vegetarisk = vegetarisk\n",
    "\n",
    "    # Methods\n",
    "    def pris(self, rabattkupong):\n",
    "        \"\"\"Beräkna pris för burgare\"\"\"\n",
    "        total = 0\n",
    "        if self.gram < 120:\n",
    "            total += 120\n",
    "        else:\n",
    "            total += 150\n",
    "\n",
    "        total += len(self.topping) * 15\n",
    "\n",
    "        if self.vegetarisk:\n",
    "            total -= 20\n",
    "\n",
    "        total *= 1 - rabattkupong \n",
    "        return total"
   ]
  },
  {
   "cell_type": "code",
   "execution_count": 24,
   "metadata": {},
   "outputs": [
    {
     "name": "stdout",
     "output_type": "stream",
     "text": [
      "Pris för en burgare med 0% rabatt: 210 kronor\n",
      "Pris för en burgare med 25% rabatt: 157.5 kronor\n",
      "Pris för en vegetarisk burgare med 0% rabatt: 145 kronor\n",
      "Pris för en vegetarisk burgare med 25% rabatt: 108.75 kronor\n"
     ]
    }
   ],
   "source": [
    "# Testa din funktion här:\n",
    "ingen_rabatt = 0\n",
    "rabatt25 = 0.25\n",
    "\n",
    "en_burgare = Burgare(gram = 150, topping = [\"ost\", \"sallad\", \"lök\", \"dressing\"], vegetarisk = False)\n",
    "en_veg_burgare = Burgare(gram = 90, topping = [\"ost\", \"tomat\", \"dressing\"], vegetarisk = True)\n",
    "\n",
    "print(f\"Pris för en burgare med {ingen_rabatt}% rabatt: {en_burgare.pris(ingen_rabatt)} kronor\") \n",
    "print(f\"Pris för en burgare med {int(rabatt25*100)}% rabatt: {en_burgare.pris(rabatt25)} kronor\") \n",
    "\n",
    "print(f\"Pris för en vegetarisk burgare med {ingen_rabatt}% rabatt: {en_veg_burgare.pris(ingen_rabatt)} kronor\") \n",
    "print(f\"Pris för en vegetarisk burgare med {int(rabatt25*100)}% rabatt: {en_veg_burgare.pris(rabatt25)} kronor\") "
   ]
  },
  {
   "cell_type": "markdown",
   "metadata": {},
   "source": [
    "**Koden ovan ska returnera följande:**\n",
    "\n",
    "- Pris för en burgare med 0% rabatt: 210 kronor\n",
    "- Pris för en burgare med 25% rabatt: 157.5 kronor\n",
    "- Pris för en vegetarisk burgare med 0% rabatt: 145 kronor\n",
    "- Pris för en vegetarisk burgare med 25% rabatt: 108.75 kronor"
   ]
  }
 ],
 "metadata": {
  "kernelspec": {
   "display_name": "Python 3.11.0 ('.venv': venv)",
   "language": "python",
   "name": "python3"
  },
  "language_info": {
   "codemirror_mode": {
    "name": "ipython",
    "version": 3
   },
   "file_extension": ".py",
   "mimetype": "text/x-python",
   "name": "python",
   "nbconvert_exporter": "python",
   "pygments_lexer": "ipython3",
   "version": "3.11.0"
  },
  "orig_nbformat": 4,
  "vscode": {
   "interpreter": {
    "hash": "4cc145e4d2ab97f30f4677a0ee85f87459067b50a11a899f97eb3bc4f47de9f5"
   }
  }
 },
 "nbformat": 4,
 "nbformat_minor": 2
}
