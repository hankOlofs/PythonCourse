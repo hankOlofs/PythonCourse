{
 "cells": [
  {
   "cell_type": "markdown",
   "metadata": {},
   "source": [
    "# Introduktion till Python, del 2\n",
    "\n",
    "I den här notebooken kommer vi gå igenom följande:\n",
    "1. Fler begrepp inom Python-programmering\n",
    "2. Objektorienterad programmering\n",
    "3. Laborationsuppgifter som låter dig använda dina nya kunskaper!\n"
   ]
  },
  {
   "cell_type": "markdown",
   "metadata": {},
   "source": [
    "Gör precis som i introduktions-notebooken, kör cellerna genom att ha cellen vald och tryck shift+enter."
   ]
  },
  {
   "cell_type": "markdown",
   "metadata": {},
   "source": [
    "## Ternära uttryck\n",
    "\n",
    "Med *ternära uttryck* (engelska: ternary expressions) kan vi på ett komprimerat sätt skriva villkorsuttryck. Ett exempel:"
   ]
  },
  {
   "cell_type": "code",
   "execution_count": 2,
   "metadata": {},
   "outputs": [
    {
     "data": {
      "text/plain": [
       "False"
      ]
     },
     "execution_count": 2,
     "metadata": {},
     "output_type": "execute_result"
    }
   ],
   "source": [
    "a = 3\n",
    "b = 5\n",
    "\n",
    "# Ternärt uttryck\n",
    "True if a > b else False"
   ]
  },
  {
   "cell_type": "markdown",
   "metadata": {},
   "source": [
    "Detta motsvarar:"
   ]
  },
  {
   "cell_type": "code",
   "execution_count": 5,
   "metadata": {},
   "outputs": [
    {
     "name": "stdout",
     "output_type": "stream",
     "text": [
      "False\n"
     ]
    }
   ],
   "source": [
    "# Traditionellt if-else\n",
    "if a > b:\n",
    "    print(True)\n",
    "else:\n",
    "    print(False)"
   ]
  },
  {
   "cell_type": "markdown",
   "metadata": {},
   "source": [
    "Fler exempel på ternära uttryck:"
   ]
  },
  {
   "cell_type": "code",
   "execution_count": 4,
   "metadata": {},
   "outputs": [
    {
     "name": "stdout",
     "output_type": "stream",
     "text": [
      "a är mindre eller lika med än b\n",
      "a är mindre eller lika med än b\n"
     ]
    }
   ],
   "source": [
    "# Ternärt uttryck\n",
    "resultat = \"större\" if a > b else \"mindre eller lika med\"\n",
    "print(f\"a är {resultat} än b\")\n",
    "\n",
    "# Traditionellt if-else\n",
    "if a > b:\n",
    "    resultat = \"större\"\n",
    "else:\n",
    "    resultat = \"mindre eller lika med\"\n",
    "print(f\"a är {resultat} än b\")\n"
   ]
  },
  {
   "cell_type": "markdown",
   "metadata": {},
   "source": [
    "Med dessa uttryck kan vi alltså komprimera vår kod väldigt mycket."
   ]
  },
  {
   "cell_type": "markdown",
   "metadata": {},
   "source": [
    "## Funktioner, fortsättning\n",
    "\n",
    "Vi kan kalla på funktioner från funktioner. Här nedan definierar vi en funktion som skriver ut en sträng (men det kan vara vilken logik som helst). Därefter definierar vi en funktion som tar en annan funktion som argument och kör printfunktionen från denna."
   ]
  },
  {
   "cell_type": "code",
   "execution_count": 5,
   "metadata": {},
   "outputs": [],
   "source": [
    "def print_function():\n",
    "    print(\"I can print something!\")\n",
    "\n",
    "def function_runner(func):\n",
    "    func()"
   ]
  },
  {
   "cell_type": "code",
   "execution_count": 6,
   "metadata": {},
   "outputs": [
    {
     "name": "stdout",
     "output_type": "stream",
     "text": [
      "I can print something!\n"
     ]
    }
   ],
   "source": [
    "# Ange funktionsnamnet som input till den andra funktionen\n",
    "function_runner(print_function)"
   ]
  },
  {
   "cell_type": "code",
   "execution_count": 7,
   "metadata": {},
   "outputs": [
    {
     "data": {
      "text/plain": [
       "<function __main__.function_runner(func)>"
      ]
     },
     "execution_count": 7,
     "metadata": {},
     "output_type": "execute_result"
    }
   ],
   "source": [
    "# Om vi vill ha information om en funktions parametrar kan vi skriva funktionsnamnet utan parenteser.\n",
    "function_runner"
   ]
  },
  {
   "cell_type": "markdown",
   "metadata": {},
   "source": [
    "Om vi vill kunna ange argument i den yttre funktionen som ska användas i den inre funktionen kan vi använda oss av favoriterna `*args` och `**kwargs`."
   ]
  },
  {
   "cell_type": "code",
   "execution_count": 17,
   "metadata": {},
   "outputs": [
    {
     "name": "stdout",
     "output_type": "stream",
     "text": [
      "I can print something!\n"
     ]
    }
   ],
   "source": [
    "def print_function(a):\n",
    "    print(f\"I can print {a}!\")\n",
    "\n",
    "def function_runner(func, *args, **kwargs):\n",
    "    func(*args, **kwargs)\n",
    "\n",
    "function_runner(print_function, a=\"something\")"
   ]
  },
  {
   "cell_type": "markdown",
   "metadata": {},
   "source": [
    "### Scope\n",
    "\n",
    "I Python existerar som i många andra språk begreppet scope, eller vilket \"utrymme\" som ett objekt existerar i. Det viktigaste för oss att känna till är att det finns ett globalt scope, det vi kör våra funktioner och uttryck i, samt lokala scope inom en funktion. Kör koden nedan och reflektera över vad som händer."
   ]
  },
  {
   "cell_type": "code",
   "execution_count": 1,
   "metadata": {},
   "outputs": [
    {
     "name": "stdout",
     "output_type": "stream",
     "text": [
      ">>> Kallar på funktion f\n",
      "Jag är i funktionen f, x är 5\n",
      ">>> Kallar på funktion g (som kallar på f).\n",
      "Jag är i funktionen  g! Nu är x 99\n",
      "Jag är i funktionen f, x är 5\n"
     ]
    }
   ],
   "source": [
    "x = 5\n",
    "\n",
    "def f():\n",
    "    print(\"Jag är i funktionen f, x är\", x) # det finns inget x i det lokala scopet, så funktionen går vidare och letar i det globala scopet.\n",
    "\n",
    "def g(x): \n",
    "    print(\"Jag är i funktionen  g! Nu är x\", x) # x är nu en lokal variabel i g:s scope\n",
    "    f() # f använder x från det globala scopet\n",
    "\n",
    "print(\">>> Kallar på funktion f\")\n",
    "f()\n",
    "\n",
    "print(\">>> Kallar på funktion g (som kallar på f).\")\n",
    "g(99)"
   ]
  },
  {
   "cell_type": "markdown",
   "metadata": {},
   "source": [
    "Obs! Det är en dålig vana att använda variabler från ett globalt scope i en funktions lokala scope, ange dem istället hellre som parametrar. Kör vi tex kod parallellt eller asynkront så kan vi få oförutsedda effekter om den globala variabeln ändras medan vi kör kod i ett lokalt scope som använder den globala variabeln. Se exempel nedan på hur vi kan använda och påverka globala variabler från en funktions lokala scope."
   ]
  },
  {
   "cell_type": "code",
   "execution_count": 2,
   "metadata": {},
   "outputs": [
    {
     "name": "stdout",
     "output_type": "stream",
     "text": [
      "lokal x\n",
      "lokal x\n"
     ]
    }
   ],
   "source": [
    "x = \"global x\"\n",
    "\n",
    "def test():\n",
    "    global x\n",
    "    x = \"lokal x\"\n",
    "    print(x)\n",
    "\n",
    "test()\n",
    "print(x) # Skriver ut \"lokal x\" båda gångerna, eftersom vi modifierade den globala variabeln inuti funktionen\n"
   ]
  },
  {
   "cell_type": "markdown",
   "metadata": {},
   "source": [
    "### Lambda-funktioner\n",
    "\n",
    "En speciell typ av funktioner är lambda-funktioner (eller anonyma funktioner) som är små begränsade funktioner som bara innehåller ett uttryck. Kanske vill du applicera en viss logik upprepade gånger, men det blir så enkelt att det inte är värt att definiera en vanlig funktion med funktionsnamn och return-värde. Då är lambda-funktioner perfekta!\n",
    "\n",
    "Lambda-funktioner följer formen **`lambda [parametrar]: [uttryck]`**. När vi vill kalla på funktionen gör vi det antingen direkt i en loop eller funktion, med ett funktionsnamn och argument (t ex `f(x)`) eller genom att omge funktionsdefinitionen med parenteser och ange argumenten i en efterföljande parentes: **`(lambda x: [uttryck])(x)`**.\n",
    "\n",
    "Här ett exempel på en enkel lambdafunktion som returnerar det värde vi anger som attribut."
   ]
  },
  {
   "cell_type": "code",
   "execution_count": null,
   "metadata": {},
   "outputs": [],
   "source": [
    "simple_lambda = lambda x: x\n",
    "\n",
    "print(simple_lambda(\"input\"))\n",
    "\n",
    "print(simple_lambda(23))"
   ]
  },
  {
   "cell_type": "markdown",
   "metadata": {},
   "source": [
    "Det går utmärkt att lägga till olika sorters logik, till exempel för att skriva ut text baklänges:"
   ]
  },
  {
   "cell_type": "code",
   "execution_count": 18,
   "metadata": {},
   "outputs": [
    {
     "data": {
      "text/plain": [
       "'knowit solutions linköping'"
      ]
     },
     "execution_count": 18,
     "metadata": {},
     "output_type": "execute_result"
    }
   ],
   "source": [
    "reverse_text = lambda x: x[::-1]\n",
    "\n",
    "reverse_text(\"gnipöknil snoitulos tiwonk\")"
   ]
  },
  {
   "cell_type": "markdown",
   "metadata": {},
   "source": [
    "Här använder vi en lambda-funktion i en loop:"
   ]
  },
  {
   "cell_type": "code",
   "execution_count": 10,
   "metadata": {},
   "outputs": [
    {
     "name": "stdout",
     "output_type": "stream",
     "text": [
      "6\n",
      "9\n",
      "12\n",
      "15\n"
     ]
    }
   ],
   "source": [
    "# Definierar en lambdafunktion som tar argumentet n, adderar ett och multiplicerar summan med k\n",
    "add_mult = lambda n, k: (n+1)*k\n",
    "\n",
    "list = [1,2,3,4]\n",
    "\n",
    "# Lambdafunktionen kan användas för att göra operationen på alla element i en lista\n",
    "for n in list:\n",
    "    print(add_mult(n, 3))"
   ]
  },
  {
   "cell_type": "markdown",
   "metadata": {},
   "source": [
    "Precis som för vanliga funktioner kan vi se vilka parametrar en viss funktion accepterar (`n`, `k`):"
   ]
  },
  {
   "cell_type": "code",
   "execution_count": 11,
   "metadata": {},
   "outputs": [
    {
     "data": {
      "text/plain": [
       "<function __main__.<lambda>(n, k)>"
      ]
     },
     "execution_count": 11,
     "metadata": {},
     "output_type": "execute_result"
    }
   ],
   "source": [
    "add_mult"
   ]
  },
  {
   "cell_type": "markdown",
   "metadata": {},
   "source": [
    "Här ser vi också tydligt att det är en lambdafunktion vi definierat."
   ]
  },
  {
   "cell_type": "markdown",
   "metadata": {},
   "source": [
    "Vi behöver inte ge lambda-funktionen ett namn utan kan använda den direkt:"
   ]
  },
  {
   "cell_type": "code",
   "execution_count": 12,
   "metadata": {},
   "outputs": [
    {
     "data": {
      "text/plain": [
       "[0, 2, 4, 6, 8]"
      ]
     },
     "execution_count": 12,
     "metadata": {},
     "output_type": "execute_result"
    }
   ],
   "source": [
    "sum_list = []\n",
    "\n",
    "for x in zip(range(5), [0,1,2,3,4]):\n",
    "    sum_list.append((lambda x: x[0]+x[1])(x))\n",
    "\n",
    "sum_list"
   ]
  },
  {
   "cell_type": "markdown",
   "metadata": {},
   "source": [
    "Lambda-funktioner är särskilt användbara när du behöver en enkel funktion som argument till en *högre ordningens funktion* (funktioner som tar funktioner som argument), såsom `filter()`, `map()`, och `reduce()`. Några exempel kommer här nedan!\n",
    "\n",
    "`map()` tillämpar en funktion på alla element i en lista."
   ]
  },
  {
   "cell_type": "code",
   "execution_count": 3,
   "metadata": {},
   "outputs": [
    {
     "name": "stdout",
     "output_type": "stream",
     "text": [
      "[1, 4, 9, 16, 25]\n"
     ]
    }
   ],
   "source": [
    "numbers = [1, 2, 3, 4, 5]\n",
    "squared = list(map(lambda x: x**2, numbers))\n",
    "print(squared)"
   ]
  },
  {
   "cell_type": "markdown",
   "metadata": {},
   "source": [
    "`filter()` filtrerar elementen i en lista baserat på en funktion."
   ]
  },
  {
   "cell_type": "code",
   "execution_count": 4,
   "metadata": {},
   "outputs": [
    {
     "name": "stdout",
     "output_type": "stream",
     "text": [
      "[2, 4, 6]\n"
     ]
    }
   ],
   "source": [
    "numbers = [1, 2, 3, 4, 5, 6]\n",
    "even_numbers = list(filter(lambda x: x % 2 == 0, numbers))\n",
    "print(even_numbers)"
   ]
  },
  {
   "cell_type": "markdown",
   "metadata": {},
   "source": [
    "`reduce()` applicerar en funktion på elementen i en lista på ett sådant sätt att listan reduceras till ett enda värde. Här summerar vi alla värden i en lista genom att reducera ner listans element med addition."
   ]
  },
  {
   "cell_type": "code",
   "execution_count": 7,
   "metadata": {},
   "outputs": [
    {
     "name": "stdout",
     "output_type": "stream",
     "text": [
      "10\n"
     ]
    }
   ],
   "source": [
    "from functools import reduce\n",
    "\n",
    "numbers = [1, 2, 3, 4]\n",
    "result = reduce(lambda x, y: x + y, numbers)\n",
    "print(result)"
   ]
  },
  {
   "cell_type": "markdown",
   "metadata": {},
   "source": [
    "Reduktionen sker genom att de två första elementen i listan adderas i första steget. I nästa steg kommer den summan och det tredje elementet adderas, och så vidare:\n",
    "\n",
    "`[1,2,3,4]`\n",
    "\n",
    "`[3,3,4]`\n",
    "\n",
    "`[6,4]`\n",
    "\n",
    "`[10]`"
   ]
  },
  {
   "cell_type": "markdown",
   "metadata": {},
   "source": [
    "#### Lite mer avancerat\n",
    "Vi ska nu använda en lambda-funktion med filter() för att hitta alla primtal i en lista från 1 till 100. Att hitta primtal i en lista är en utmaning som kan kombinera användningen av filter() med en lambda-funktion. Eftersom en lambda-funktion är begränsad till **ett** uttryck och inte kan innehålla loopar eller if-satser i samma omfattning som en vanlig funktion, måste vi tänka kreativt.\n",
    "\n",
    "En vanlig metod för att testa om ett tal är ett primtal är att kontrollera om det inte är delbart med något tal mindre än sig själv och större än 1. Eftersom denna kontroll kräver en iteration eller en liknande logik som inte direkt kan implementeras i en lambda-funktion, kan vi definiera en hjälpfunktion som vi sedan använder inuti `filter()` med en lambda-funktion som wrapper.\n",
    "\n",
    "Här är en möjlig lösning:"
   ]
  },
  {
   "cell_type": "code",
   "execution_count": 7,
   "metadata": {},
   "outputs": [
    {
     "name": "stdout",
     "output_type": "stream",
     "text": [
      "[2, 3, 5, 7, 11, 13, 17, 19, 23, 29, 31, 37, 41, 43, 47, 53, 59, 61, 67, 71, 73, 79, 83, 89, 97]\n"
     ]
    }
   ],
   "source": [
    "def is_prime(n):\n",
    "    \"\"\"Returnerar True om n är ett primtal, annars False.\"\"\"\n",
    "    if n < 2:\n",
    "        return False\n",
    "    for i in range(2, int(n**0.5) + 1):\n",
    "        if n % i == 0:\n",
    "            return False\n",
    "    return True\n",
    "\n",
    "# Skapa en lista med tal från 1 till 100\n",
    "numbers = list(range(1, 101))\n",
    "\n",
    "# Filtrera listan för att hitta primtal\n",
    "prime_numbers = list(filter(lambda x: is_prime(x), numbers))\n",
    "\n",
    "print(prime_numbers)"
   ]
  },
  {
   "cell_type": "markdown",
   "metadata": {},
   "source": [
    "I detta exempel definieras först en funktion `is_prime()` som tar ett tal n och returnerar `True` om n är ett primtal och `False` annars. Denna funktion använder en effektiv metod för att kontrollera primtal genom att endast iterera upp till kvadratroten av `n`, vilket minskar antalet nödvändiga iterationer.*\n",
    "\n",
    "Sedan skapar vi en lista `numbers` som innehåller talen från 1 till 100. Vi använder `filter()` med en lambda-funktion som anropar `is_prime()` för varje element i listan. `filter()` returnerar en iterator över alla element i `numbers` för vilka `is_prime()` returnerar `True`, det vill säga alla primtal i listan.\n",
    "\n",
    "Slutligen omvandlar vi resultatet till en lista och skriver ut den, vilket ger oss alla primtal från 1 till 100.\n",
    "\n",
    "\\* *Anledningen till att vi använder `int(n**0.5) + 1` i `is_prime`-funktionen är för att effektivisera primtalstestet. När vi kontrollerar om `n` är ett primtal, behöver vi bara testa nämnare upp till kvadratroten av `n` eftersom alla faktorer större än kvadratroten skulle ha en motsvarande faktor som är mindre än kvadratroten. Att ta kvadratroten (`n**0.5`) minskar antalet iterationer betydligt, och `int(...)+1` säkerställer att vi inkluderar hela intervallet av möjliga nämnare. Detta tillvägagångssätt gör primtalstestet snabbare och mer effektivt.*"
   ]
  },
  {
   "cell_type": "markdown",
   "metadata": {},
   "source": [
    "## Objektorienterad programmering i Python\n",
    "\n",
    "Objektorienterad programmering (OOP) är en central del av Python och erbjuder kraftfulla sätt att strukturera och organisera din kod. Ett objekt i programmering är en **instans** av en **klass** som representerar en enhet av både data och de metoder som opererar på datan. Objektet är en grundläggande byggsten inom OOP och används för att modellera verkliga entiteter eller koncept genom att kapsla in attribut (egenskaper, data) och beteenden (funktioner, metoder) som är relaterade till den entiteten. En klass är en mall som beskriver dessa samband.\n",
    "\n",
    "En instans är en konkret förekomst av en klass i objektorienterad programmering. När en klass definieras, beskriver den ett mönster för hur data och beteende ska organiseras. En instans skapas från denna klass när programmet körs, vilket innebär att programmet allokerar minne för att lagra data som definieras av klassen. Varje instans representerar ett unikt objekt med egna attributvärden, även om det delar samma struktur och beteenden som definieras i dess klass.\n",
    "\n",
    "Några andra nyckelkoncept inkluderar inkapsling, som skyddar data inom objektet, arv, som tillåter nya klasser att utvecklas från befintliga, samt klassmetoder och statiska metoder som möjliggör åtgärder som är relevanta för klassen som helhet."
   ]
  },
  {
   "cell_type": "markdown",
   "metadata": {},
   "source": [
    "### Klasser"
   ]
  },
  {
   "cell_type": "markdown",
   "metadata": {},
   "source": [
    "Med klasser kan vi t ex definiera nya objekttyper, t ex för att modellera komplexa fenomen i världen som inte någon annan konstruktion i Python kan hantera.\n",
    "\n",
    "Till skillnad från hur funktioner och andra objekt namnges i Python följer klasser PascalCase-konventionen: Inledande versal och versal för varje nytt ord, `EnNyKlass`."
   ]
  },
  {
   "cell_type": "markdown",
   "metadata": {},
   "source": [
    "Här nedan skapar vi en enkel klass. Metoden `__init__` kallas för **konstruktorn**. Den körs automatiskt när ett nytt objekt skapas från klassen `Bil`. Metoden används för att **instansiera** objektet med startvärden. `self` refererar till det specifika objektet som skapas, och `farg` är i det här fallet en parameter som tas emot när ett nytt `Bil`-objekt skapas. Attributet `farg` blir en del av objektet och kan användas för att lagra information specifik för varje `Bil`-objekt."
   ]
  },
  {
   "cell_type": "code",
   "execution_count": null,
   "metadata": {},
   "outputs": [
    {
     "data": {
      "text/plain": [
       "<__main__.Bil at 0x1311ea042d0>"
      ]
     },
     "metadata": {},
     "output_type": "display_data"
    }
   ],
   "source": [
    "class Bil: # Definierar mallen för klassen Bil\n",
    "    def __init__(self, farg): # Konstruktor\n",
    "        self.farg = farg # Tilldelar värdet av den mottagna parametern farg till objektets attribut farg"
   ]
  },
  {
   "cell_type": "markdown",
   "metadata": {},
   "source": [
    "Än så länge finns det inga objekt av klassen bil, så låt oss skapa en!"
   ]
  },
  {
   "cell_type": "code",
   "execution_count": null,
   "metadata": {},
   "outputs": [
    {
     "data": {
      "text/plain": [
       "<__main__.Bil at 0x1311ea042d0>"
      ]
     },
     "metadata": {},
     "output_type": "display_data"
    }
   ],
   "source": [
    "gul_bil = Bil(\"gul\")\n",
    "gul_bil"
   ]
  },
  {
   "cell_type": "markdown",
   "metadata": {},
   "source": [
    "Här ser vi att objektet `gul_bil` är av klassen `Bil` och lagras på en viss minnesadress. `__main__` visar att objektet skapats i vårt huvudskript.\n",
    "\n",
    "Självklart kan vi komma åt attributet färg som vi angav när vi skapade objektet. Använd bara objektets namn följt av en punkt och attributetets namn."
   ]
  },
  {
   "cell_type": "code",
   "execution_count": null,
   "metadata": {},
   "outputs": [
    {
     "data": {
      "text/plain": [
       "'gul'"
      ]
     },
     "metadata": {},
     "output_type": "display_data"
    }
   ],
   "source": [
    "gul_bil.farg"
   ]
  },
  {
   "cell_type": "markdown",
   "metadata": {},
   "source": [
    "Här nedanför ser du ett exempel på en enkel definition av en klass `Human`. Vi anger klassnamnet och börjar sedan med att lägga till en konstruktor som beskriver hur ett objekt av en `Human`-klassen ska skapas. Notera den första parametern `self` (det här är ytterligare en namngivningskonvention) som visar hur objektet ska referera till sina egna attribut.\n",
    "\n",
    "Därefter definierar vi att objektet ska få vissa attribut (`self.name`, `self.hunger`, `self.thirst`) som vi hämtar från parametrarna (`name`, `hunger`, `thirst`) som anges när vi instansierar objektet. Slutligen lägger vi till några klassmetoder (`say_name`, `eat_a_thing`, `drink_water`)."
   ]
  },
  {
   "cell_type": "code",
   "execution_count": 1,
   "metadata": {},
   "outputs": [],
   "source": [
    "class Human:\n",
    "    # Vår \"konstruktor\" som hjälper oss skapa ett objekt av typen Human med önskade attribut\n",
    "    # Attributen hunger och thirst har default-argument\n",
    "    def __init__(self, name, hunger = 5, thirst = 5):\n",
    "        self.name = name\n",
    "        self.hunger = hunger\n",
    "        self.thirst = thirst\n",
    "    \n",
    "    # Här definierar vi metoder som tillhör klassen Human\n",
    "    def say_name(self):\n",
    "        print(f\"My name is {self.name}\")\n",
    "\n",
    "    def eat_something(self):\n",
    "        self.hunger -= 1\n",
    "\n",
    "    def drink_water(self):\n",
    "        self.thirst -= 1"
   ]
  },
  {
   "cell_type": "markdown",
   "metadata": {},
   "source": [
    "Vi instansierar eller skapar ett objekt `person1` av typ `Human` nedan och ger objektet namnet Henrik. Vi måste ge vår människa ett namn då det inte finns något default-värde och namn är en mänsklig rättighet."
   ]
  },
  {
   "cell_type": "code",
   "execution_count": 2,
   "metadata": {},
   "outputs": [
    {
     "name": "stdout",
     "output_type": "stream",
     "text": [
      "Henrik\n"
     ]
    }
   ],
   "source": [
    "person1 = Human(name=\"Henrik\")\n",
    "print(person1.name)"
   ]
  },
  {
   "cell_type": "markdown",
   "metadata": {},
   "source": [
    "Vi kan också få människan att säga sitt namn genom att kalla på klassmetoden `say_name`."
   ]
  },
  {
   "cell_type": "code",
   "execution_count": 3,
   "metadata": {},
   "outputs": [
    {
     "name": "stdout",
     "output_type": "stream",
     "text": [
      "My name is Henrik\n"
     ]
    }
   ],
   "source": [
    "person1.say_name()"
   ]
  },
  {
   "cell_type": "markdown",
   "metadata": {},
   "source": [
    "Hur hungrig är personen?"
   ]
  },
  {
   "cell_type": "code",
   "execution_count": null,
   "metadata": {},
   "outputs": [],
   "source": [
    "person1.hunger"
   ]
  },
  {
   "cell_type": "markdown",
   "metadata": {},
   "source": [
    "Lite hungrig ändå, vi säger åt personen att äta någonting och kontrollerar hur det står till med hungern efteråt:"
   ]
  },
  {
   "cell_type": "code",
   "execution_count": null,
   "metadata": {},
   "outputs": [],
   "source": [
    "person1.eat_something()\n",
    "person1.hunger"
   ]
  },
  {
   "cell_type": "markdown",
   "metadata": {},
   "source": [
    "### Inkapsling\n",
    "\n",
    "Inkapsling, encapsulation på engelska, är en grundpelare inom OOP som handlar om att begränsa åtkomsten till vissa delar av ett objekt och skydda objektets interna tillstånd från oönskad extern åtkomst. I Python signalerar man privat åtkomst med understrykning (_) eller dubbel understrykning (__) före attribut- och metodnamn."
   ]
  },
  {
   "cell_type": "code",
   "execution_count": 6,
   "metadata": {},
   "outputs": [
    {
     "name": "stdout",
     "output_type": "stream",
     "text": [
      "1000\n"
     ]
    }
   ],
   "source": [
    "class Bankkonto:\n",
    "    def __init__(self, saldo): # Konstruktor\n",
    "        self.__saldo = saldo  # Privat attribut\n",
    "\n",
    "    def visa_saldo(self):\n",
    "        return self.__saldo\n",
    "\n",
    "konto = Bankkonto(1000)\n",
    "print(konto.visa_saldo())  # Korrekt sätt att få åtkomst till saldot"
   ]
  },
  {
   "cell_type": "code",
   "execution_count": 8,
   "metadata": {},
   "outputs": [
    {
     "ename": "AttributeError",
     "evalue": "'Bankkonto' object has no attribute '__saldo'",
     "output_type": "error",
     "traceback": [
      "\u001b[1;31m---------------------------------------------------------------------------\u001b[0m",
      "\u001b[1;31mAttributeError\u001b[0m                            Traceback (most recent call last)",
      "Cell \u001b[1;32mIn[8], line 2\u001b[0m\n\u001b[0;32m      1\u001b[0m \u001b[38;5;66;03m# Vad händer när vi försöker komma åt attributet direkt?\u001b[39;00m\n\u001b[1;32m----> 2\u001b[0m \u001b[38;5;28mprint\u001b[39m(\u001b[43mkonto\u001b[49m\u001b[38;5;241;43m.\u001b[39;49m\u001b[43m__saldo\u001b[49m)\n",
      "\u001b[1;31mAttributeError\u001b[0m: 'Bankkonto' object has no attribute '__saldo'"
     ]
    }
   ],
   "source": [
    "# Vad händer när vi försöker komma åt attributet direkt?\n",
    "print(konto.__saldo)"
   ]
  },
  {
   "cell_type": "markdown",
   "metadata": {},
   "source": [
    "[Läs mer om inkapsling här](https://www.geeksforgeeks.org/encapsulation-in-python/)."
   ]
  },
  {
   "cell_type": "markdown",
   "metadata": {},
   "source": [
    "### Arv\n",
    "\n",
    "En klass kan ärva metoder och egenskaper från en annan klass genom att ange föräldraklassen i definitionen av klassen, som här nedan. Anta att vi har en överordnad klass som representerar alla fordon, kallad `Fordon`. Denna klass har grundläggande egenskaper som alla fordon delar, till exempel `namn` och `hastighet`, samt en metod för att hämta fordonets hastighet. En klass kan ha barnklasser (subklasser) och en föräldraklass (superklass)."
   ]
  },
  {
   "cell_type": "code",
   "execution_count": 23,
   "metadata": {},
   "outputs": [],
   "source": [
    "class Fordon:\n",
    "    def __init__(self, namn, hastighet):\n",
    "        self.namn = namn\n",
    "        self.hastighet = hastighet\n",
    "\n",
    "    def hamta_hastighet(self):\n",
    "        return self.hastighet"
   ]
  },
  {
   "cell_type": "markdown",
   "metadata": {},
   "source": [
    "Därefter skapar vi en underordnad klass som representerar en specifik typ av fordon, till exempel `Bil`, som ärver från `Fordon`. Vi kan lägga till ytterligare egenskaper specifika för bilar, som märke, och eventuellt utöka eller modifiera befintliga metoder. Med nyckelordet `super` hänvisar vi till klassens superklass."
   ]
  },
  {
   "cell_type": "code",
   "execution_count": 24,
   "metadata": {},
   "outputs": [],
   "source": [
    "class Bil(Fordon):\n",
    "    def __init__(self, namn, hastighet, marke):\n",
    "        super().__init__(namn, hastighet)\n",
    "        self.marke = marke\n",
    "\n",
    "    def visa_info(self):\n",
    "        return f\"Bilens namn: {self.namn}, Hastighet: {self.hastighet}km/h, Märke: {self.marke}\"\n"
   ]
  },
  {
   "cell_type": "code",
   "execution_count": 27,
   "metadata": {},
   "outputs": [
    {
     "data": {
      "text/plain": [
       "'Bilens namn: 240, Hastighet: 100km/h, Märke: Volvo'"
      ]
     },
     "execution_count": 27,
     "metadata": {},
     "output_type": "execute_result"
    }
   ],
   "source": [
    "vovven = Bil(\"240\", 100, \"Volvo\")\n",
    "vovven.visa_info()"
   ]
  },
  {
   "cell_type": "markdown",
   "metadata": {},
   "source": [
    "Vi kan fortfarande använda metoden `hamta_hastighet` som klassen `Bil` ärvt från superklassen `Fordon`."
   ]
  },
  {
   "cell_type": "code",
   "execution_count": 29,
   "metadata": {},
   "outputs": [
    {
     "data": {
      "text/plain": [
       "100"
      ]
     },
     "execution_count": 29,
     "metadata": {},
     "output_type": "execute_result"
    }
   ],
   "source": [
    "vovven.hamta_hastighet()"
   ]
  },
  {
   "cell_type": "markdown",
   "metadata": {},
   "source": [
    "### Överlagring\n",
    "\n",
    "Ibland vill vi ändra beteendet för en metod som ärvt från superklassen. Detta kallas för **metodöverlagring**. I följande exempel skapar vi en klass `Elbil` som ärver från Bil och överlagrar metoden `visa_info` för att inkludera information om bilens batterikapacitet."
   ]
  },
  {
   "cell_type": "code",
   "execution_count": 25,
   "metadata": {},
   "outputs": [],
   "source": [
    "class Elbil(Bil):\n",
    "    def __init__(self, namn, hastighet, marke, batterikapacitet):\n",
    "        super().__init__(namn, hastighet, marke)\n",
    "        self.batterikapacitet = batterikapacitet\n",
    "\n",
    "    def visa_info(self):\n",
    "        original_info = super().visa_info()\n",
    "        return f\"{original_info}, Batterikapacitet: {self.batterikapacitet} kWh\"\n"
   ]
  },
  {
   "cell_type": "code",
   "execution_count": 28,
   "metadata": {},
   "outputs": [
    {
     "data": {
      "text/plain": [
       "'Bilens namn: Cybertruck, Hastighet: 200km/h, Märke: Tesla, Batterikapacitet: 123 kWh'"
      ]
     },
     "execution_count": 28,
     "metadata": {},
     "output_type": "execute_result"
    }
   ],
   "source": [
    "tessan = Elbil(\"Cybertruck\", 200, \"Tesla\", 123)\n",
    "tessan.visa_info()"
   ]
  },
  {
   "cell_type": "markdown",
   "metadata": {},
   "source": [
    "Vill vi se vilka metoder en klass har kan vi använda funktionen `dir`. Här nedan tittar vi på ett urval av metoder som klassen `Bil` har och vi hittar våra metoder `hamta_hastighet` och `visa_info` i listan."
   ]
  },
  {
   "cell_type": "code",
   "execution_count": null,
   "metadata": {},
   "outputs": [
    {
     "data": {
      "text/plain": [
       "['__str__', '__subclasshook__', '__weakref__', 'hamta_hastighet', 'visa_info']"
      ]
     },
     "metadata": {},
     "output_type": "display_data"
    }
   ],
   "source": [
    "dir(Bil)[-5:]"
   ]
  },
  {
   "cell_type": "markdown",
   "metadata": {},
   "source": [
    "## Dunder-metoder\n",
    "\n",
    "Dunder-metoder, *Double underscore*-metoder eller magiska metoder har du kanske sett några redan. Det som är kännetecknande är att metodnamnet omges av just två underscores på var sida: `__float__` eller `__bool__` är två exempel. Dunder-metoder används för att skapa funktionalitet som inte kan representeras som en vanlig metod. De är en del av Python:s datamodell och tillåter dina klasser att implementera och interagera med inbyggda Python-operationer. Dunder-metoder är inte tänkta att användas direkt, utan används internt av en klass. När du skriver `1+1` kommer t ex metoden `__add__` att användas internt av klassen `int`. För att se alla metoder (inklusive dunder-metoder) som tillhör en klass skriver man `dir([klass])`. Några av de vanligaste dunder-metoderna inkluderar:\n",
    "\n",
    "- `__init__(self, ...)`: Konstruktorn för en klass, kallas när en ny instans av klassen skapas.\n",
    "- `__str__(self)`: Returnerar en läsbar strängrepresentation av ett objekt, kallas av funktionen str(objekt) och av print-funktionen.\n",
    "- `__len__(self)`: Returnerar längden på ett objekt, kallas av funktionen len(objekt)."
   ]
  },
  {
   "cell_type": "code",
   "execution_count": 33,
   "metadata": {},
   "outputs": [
    {
     "data": {
      "text/plain": [
       "['__add__',\n",
       " '__class__',\n",
       " '__contains__',\n",
       " '__delattr__',\n",
       " '__dir__',\n",
       " '__doc__',\n",
       " '__eq__',\n",
       " '__format__',\n",
       " '__ge__',\n",
       " '__getattribute__',\n",
       " '__getitem__',\n",
       " '__getnewargs__',\n",
       " '__getstate__',\n",
       " '__gt__',\n",
       " '__hash__',\n",
       " '__init__',\n",
       " '__init_subclass__',\n",
       " '__iter__',\n",
       " '__le__',\n",
       " '__len__',\n",
       " '__lt__',\n",
       " '__mod__',\n",
       " '__mul__',\n",
       " '__ne__',\n",
       " '__new__',\n",
       " '__reduce__',\n",
       " '__reduce_ex__',\n",
       " '__repr__',\n",
       " '__rmod__',\n",
       " '__rmul__',\n",
       " '__setattr__',\n",
       " '__sizeof__',\n",
       " '__str__',\n",
       " '__subclasshook__',\n",
       " 'capitalize',\n",
       " 'casefold',\n",
       " 'center',\n",
       " 'count',\n",
       " 'encode',\n",
       " 'endswith',\n",
       " 'expandtabs',\n",
       " 'find',\n",
       " 'format',\n",
       " 'format_map',\n",
       " 'index',\n",
       " 'isalnum',\n",
       " 'isalpha',\n",
       " 'isascii',\n",
       " 'isdecimal',\n",
       " 'isdigit',\n",
       " 'isidentifier',\n",
       " 'islower',\n",
       " 'isnumeric',\n",
       " 'isprintable',\n",
       " 'isspace',\n",
       " 'istitle',\n",
       " 'isupper',\n",
       " 'join',\n",
       " 'ljust',\n",
       " 'lower',\n",
       " 'lstrip',\n",
       " 'maketrans',\n",
       " 'partition',\n",
       " 'removeprefix',\n",
       " 'removesuffix',\n",
       " 'replace',\n",
       " 'rfind',\n",
       " 'rindex',\n",
       " 'rjust',\n",
       " 'rpartition',\n",
       " 'rsplit',\n",
       " 'rstrip',\n",
       " 'split',\n",
       " 'splitlines',\n",
       " 'startswith',\n",
       " 'strip',\n",
       " 'swapcase',\n",
       " 'title',\n",
       " 'translate',\n",
       " 'upper',\n",
       " 'zfill']"
      ]
     },
     "execution_count": 33,
     "metadata": {},
     "output_type": "execute_result"
    }
   ],
   "source": [
    "# För att se alla metoder som finns tillgängliga för string-klassen kan vi ange klassnamnet.\n",
    "dir(str)"
   ]
  },
  {
   "cell_type": "code",
   "execution_count": null,
   "metadata": {},
   "outputs": [],
   "source": [
    "# Vi kan även ange ett objekt av en viss typ.\n",
    "dir(\"en_sträng\")"
   ]
  },
  {
   "cell_type": "markdown",
   "metadata": {},
   "source": [
    "Vi kan självklart använda metoden direkt:"
   ]
  },
  {
   "cell_type": "code",
   "execution_count": null,
   "metadata": {},
   "outputs": [],
   "source": [
    "\"en\".__add__(\"_sträng\")"
   ]
  },
  {
   "cell_type": "markdown",
   "metadata": {},
   "source": [
    "Men operatorn `+` är mer intuitiv att använda."
   ]
  },
  {
   "cell_type": "markdown",
   "metadata": {},
   "source": [
    "Exempel på hur man kan använda en dunder-metod för att definiera hur två komplexa tal adderas:"
   ]
  },
  {
   "cell_type": "code",
   "execution_count": 17,
   "metadata": {},
   "outputs": [
    {
     "name": "stdout",
     "output_type": "stream",
     "text": [
      "4 + 6i\n"
     ]
    }
   ],
   "source": [
    "class ComplexNumber:\n",
    "    \"\"\"\n",
    "    En klass för att representera ett komplext tal med en reell och en imaginär del.\n",
    "\n",
    "    Attribut:\n",
    "        real (float): Den reella delen av det komplexa talet.\n",
    "        imag (float): Den imaginära delen av det komplexa talet.\n",
    "    \"\"\"\n",
    "\n",
    "    def __init__(self, real: float, imag: float):\n",
    "        \"\"\"\n",
    "        Konstruktorn för ComplexNumber-klassen.\n",
    "\n",
    "        Parametrar:\n",
    "            real (float): Den reella delen av det komplexa talet.\n",
    "            imag (float): Den imaginära delen av det komplexa talet.\n",
    "        \"\"\"\n",
    "        self.real = real\n",
    "        self.imag = imag\n",
    "\n",
    "    def __add__(self, other):\n",
    "        \"\"\"\n",
    "        Definierar addition mellan två ComplexNumber-objekt.\n",
    "\n",
    "        Parametrar:\n",
    "            other (ComplexNumber): Ett annat ComplexNumber-objekt att addera med detta objekt.\n",
    "\n",
    "        Returnerar:\n",
    "            ComplexNumber: Ett nytt ComplexNumber-objekt som är summan av detta och det andra objektet.\n",
    "        \"\"\"\n",
    "        return ComplexNumber(self.real + other.real, self.imag + other.imag)\n",
    "\n",
    "    def __str__(self):\n",
    "        \"\"\"\n",
    "        Returnerar en strängrepresentation av det komplexa talet.\n",
    "\n",
    "        Returnerar:\n",
    "            str: En sträng som representerar det komplexa talet i formen \"real + imaginär\".\n",
    "        \"\"\"\n",
    "        return f\"{self.real} + {self.imag}i\"\n",
    "\n",
    "# Skapa två ComplexNumber-objekt\n",
    "c1 = ComplexNumber(1, 2)\n",
    "c2 = ComplexNumber(3, 4)\n",
    "\n",
    "# Använder __add__ och __str__ metoder för att addera och skriva ut summan av de två komplexa talen\n",
    "print(c1 + c2)\n"
   ]
  },
  {
   "cell_type": "markdown",
   "metadata": {},
   "source": [
    "## Decorators\n",
    "\n",
    "Decorators i Python är ett nyttigt verktyg för att modifiera beteendet hos funktioner eller klasser utan att ändra deras kod. De fungerar som \"omslag\" runt en funktion eller metod och ger ett sätt att lägga till funktionalitet före och/eller efter den ursprungliga funktionen körs, utan att ändra funktionens definition. Förenklat kan man säga att en decorator är en funktion som tar en annan funktion som argument och returnerar en ny funktion. En vanlig användning av decorators är loggning, kontroll av behörigheter, cachning och övervakning av prestanda.\n",
    "\n",
    "För att använda oss av decorators skriver vi `@[decoratorns namn]` på raden ovanför definitionen av den funktion vi vill kapsla in med dekoratorn."
   ]
  },
  {
   "cell_type": "code",
   "execution_count": 34,
   "metadata": {},
   "outputs": [
    {
     "name": "stdout",
     "output_type": "stream",
     "text": [
      "Körs före den ursprungliga funktionen\n",
      "Jag är den ursprungliga funktionen!\n",
      "Körs efter den ursprungliga funktionen\n"
     ]
    }
   ],
   "source": [
    "def min_decorator(funktion):\n",
    "    def inre_funktion():\n",
    "        print(\"Körs före den ursprungliga funktionen\")\n",
    "        funktion()\n",
    "        print(\"Körs efter den ursprungliga funktionen\")\n",
    "    return inre_funktion\n",
    "\n",
    "@min_decorator # Indikerar att vi ska omge funktionen som definieras nedan med min_decorator\n",
    "def en_funktion():\n",
    "    print(\"Jag är den ursprungliga funktionen!\")\n",
    "\n",
    "en_funktion()"
   ]
  },
  {
   "cell_type": "markdown",
   "metadata": {},
   "source": [
    "Som vi ser här ovanför så är den enda parametern till decoratorn en funktion som vi sedan kör i en inre funktion i själva decoratorn. Ett lite mer konkret exempel:"
   ]
  },
  {
   "cell_type": "code",
   "execution_count": 39,
   "metadata": {},
   "outputs": [
    {
     "name": "stdout",
     "output_type": "stream",
     "text": [
      "Utförde någon operation med 100 iterationer.\n",
      "någon_funktion kördes på 1.069366455078125 sekunder.\n",
      "Utförde någon annan operation med 200 iterationer.\n",
      "någon_annan_funktion kördes på 1.1121749877929688 sekunder.\n"
     ]
    }
   ],
   "source": [
    "import time\n",
    "\n",
    "def tidtagare(funktion): # Vår funktion som tar tid på körningar - det här är vår decorator\n",
    "    def inre_funktion(*args, **kwargs):\n",
    "        start = time.time()\n",
    "        resultat = funktion(*args, **kwargs)\n",
    "        slut = time.time()\n",
    "        print(f\"{funktion.__name__} kördes på {slut - start} sekunder.\")\n",
    "        return resultat\n",
    "    return inre_funktion\n",
    "\n",
    "@tidtagare\n",
    "def någon_funktion(tal): # En funktion vi vill ta tid på\n",
    "    for _ in range(tal):\n",
    "        time.sleep(0.01)\n",
    "    print(f\"Utförde någon operation med {tal} iterationer.\")\n",
    "    \n",
    "@tidtagare\n",
    "def någon_annan_funktion(tal): # En annan funktion vi vill ta tid på\n",
    "    for _ in range(tal):\n",
    "        time.sleep(0.005)\n",
    "    print(f\"Utförde någon annan operation med {tal} iterationer.\")\n",
    "\n",
    "någon_funktion(100)\n",
    "någon_annan_funktion(200)"
   ]
  },
  {
   "cell_type": "markdown",
   "metadata": {},
   "source": [
    "Här definierar vi en decorator som tar tid på körning av kod och som vi sen använder för att mäta hur lång tid det tar att köra två olika funktioner. På det här sättet kan vi alltså ta tid på alla funktioner vi utvecklar på ett enkelt sätt utan att behöva skriva in koden för tidtagningen flera gånger, smidigt va?"
   ]
  },
  {
   "cell_type": "markdown",
   "metadata": {},
   "source": [
    "#### Decorators med argument\n",
    "\n",
    "Beskriv dessa här"
   ]
  },
  {
   "cell_type": "markdown",
   "metadata": {},
   "source": [
    "## Laborationsövningar"
   ]
  },
  {
   "cell_type": "markdown",
   "metadata": {},
   "source": [
    "Skriv ett uttryck som skriver ut ordet \"kakaopulver\" sjutton gånger i följd. Resultatet borde se ut så här: `kakaopulverkakaopulver[...]kakaopulver`."
   ]
  },
  {
   "cell_type": "code",
   "execution_count": null,
   "metadata": {},
   "outputs": [],
   "source": [
    "# Din kod här\n"
   ]
  },
  {
   "cell_type": "markdown",
   "metadata": {},
   "source": [
    "Hur många tecken innehåller strängen?"
   ]
  },
  {
   "cell_type": "code",
   "execution_count": null,
   "metadata": {},
   "outputs": [],
   "source": [
    "# Din kod här\n"
   ]
  },
  {
   "cell_type": "code",
   "execution_count": null,
   "metadata": {},
   "outputs": [],
   "source": [
    "# HINT (dubbelklicka här)\n",
    "# Det går alldeles utmärkt att googla efter t ex \"length of string in python\""
   ]
  },
  {
   "cell_type": "markdown",
   "metadata": {},
   "source": [
    "En sträng, `\"kakaopulver\"` består av enskilda ordnade element som sammanfogats. Det innebär att vi kan indexera strängar på samma sätt som listor, med hakklamrar [ ]. Skriv ut \"kakaopulver\" baklänges genom att använda använda en indexeringsmetod."
   ]
  },
  {
   "cell_type": "code",
   "execution_count": null,
   "metadata": {},
   "outputs": [],
   "source": [
    "# Skriv ut kakaopulver baklänges genom att lägga till rätt indexering i hakklamrarna nedan\n",
    "\"kakaopulver\"[]"
   ]
  },
  {
   "cell_type": "markdown",
   "metadata": {},
   "source": [
    "---\n",
    "Dela upp följande mening i en lista med enskilda ord genom att använda en sträng-metod: `\"The quick brown fox jumps over the lazy dog\"`"
   ]
  },
  {
   "cell_type": "code",
   "execution_count": null,
   "metadata": {},
   "outputs": [],
   "source": [
    "# Din kod här\n",
    "\"The quick brown fox jumps over the lazy dog\""
   ]
  },
  {
   "cell_type": "code",
   "execution_count": null,
   "metadata": {},
   "outputs": [],
   "source": [
    "# Dela nu upp den här strängen i en lista\n",
    "\"The_quick_brown_fox_jumps_over_the_lazy_dog\"\n",
    "\n",
    "# Din kod här\n"
   ]
  },
  {
   "cell_type": "markdown",
   "metadata": {},
   "source": [
    "---\n",
    "Skriv en for-loop som skriver ut namnen på städerna i listan nedan om de innehåller ett \"ö\"."
   ]
  },
  {
   "cell_type": "code",
   "execution_count": null,
   "metadata": {},
   "outputs": [],
   "source": [
    "cities = [\"stockholm\", \"malmö\", \"göteborg\", \"linköping\", \"norrköping\", \"västerås\"]"
   ]
  },
  {
   "cell_type": "code",
   "execution_count": null,
   "metadata": {},
   "outputs": [],
   "source": [
    "# Din kod här"
   ]
  },
  {
   "cell_type": "markdown",
   "metadata": {},
   "source": [
    "Skriv nu en for-loop som skriver ut hur många bokstäver det är i varje stadsnamn samt namnet på staden. Första bokstaven i stadens namn ska vara en versal och namnet ska omges av citattecken. Resultatet bör se ut så här: \n",
    "\n",
    "I \"Stockholm\" finns det 9 bokstäver\n",
    "\n",
    "I \"Malmö\" finns det 5 bokstäver\n",
    "\n",
    "I \"Göteborg\" finns det 8 bokstäver\n",
    "\n",
    "I \"Linköping\" finns det 9 bokstäver\n",
    "\n",
    "I \"Norrköping\" finns det 10 bokstäver\n",
    "\n",
    "I \"Västerås\" finns det 8 bokstäver"
   ]
  },
  {
   "cell_type": "code",
   "execution_count": null,
   "metadata": {},
   "outputs": [],
   "source": [
    "# Din kod här:"
   ]
  },
  {
   "cell_type": "code",
   "execution_count": null,
   "metadata": {},
   "outputs": [],
   "source": [
    "# HINT\n",
    "# Här krävs det att du använder en formaterad sträng."
   ]
  },
  {
   "cell_type": "markdown",
   "metadata": {},
   "source": [
    "---\n",
    "Här nedanför ser du en oändlig while-loop. **Kör den inte än**. Lägg istället till en konstruktion som gör att den skriver ut \"Klar!\" och avbryts när k är 10."
   ]
  },
  {
   "cell_type": "code",
   "execution_count": null,
   "metadata": {},
   "outputs": [],
   "source": [
    "k = 0\n",
    "\n",
    "while True:\n",
    "    k += 1"
   ]
  },
  {
   "cell_type": "code",
   "execution_count": null,
   "metadata": {},
   "outputs": [],
   "source": [
    "# Lösningsförslag\n"
   ]
  },
  {
   "cell_type": "markdown",
   "metadata": {},
   "source": [
    "---\n",
    "Skriv en funktion `odd_or_even` med en parameter som skriver ut om det angivna värdet på parametern är jämnt eller udda."
   ]
  },
  {
   "cell_type": "code",
   "execution_count": null,
   "metadata": {},
   "outputs": [],
   "source": [
    "# Din kod här\n"
   ]
  },
  {
   "cell_type": "code",
   "execution_count": null,
   "metadata": {},
   "outputs": [],
   "source": [
    "# HINT\n",
    "# Modulus-operatorn är väldigt användbar här. a % b visar vilken rest (om någon) som man får vid division av a och b."
   ]
  },
  {
   "cell_type": "code",
   "execution_count": null,
   "metadata": {},
   "outputs": [],
   "source": [
    "# Testa din funktion här\n",
    "odd_or_even(1) # Bör skriva ut att värdet är udda\n",
    "odd_or_even(6) # Bör skriva ut att värdet är jämnt"
   ]
  },
  {
   "cell_type": "markdown",
   "metadata": {},
   "source": [
    "---\n",
    "Använd ternära uttryck för att kolla om två objekt är lika. Skriv ut \"It's a match\" om `a` och `b` är lika, annars \"No match\"."
   ]
  },
  {
   "cell_type": "code",
   "execution_count": null,
   "metadata": {},
   "outputs": [],
   "source": [
    "a = 724379872437987243798724379872437987243798724379872437987243798724379872437987243798724379872437982743798\n",
    "b = 724379872437987243798724379872437987243798724379872437987243798724379872437987243798724379872437987243798\n",
    "\n",
    "# Din kod här\n"
   ]
  },
  {
   "cell_type": "markdown",
   "metadata": {},
   "source": [
    "---\n",
    "Skriv en lambdafunktion med namn `printif` med en parameter `x`. Funktionen ska skriva ut *\"Vilket stort tal!\"* om värdet är **större** än 10, annars ska strängen *\"`x` är ett lågt tal\"* (där `x` är parameterns värde) skrivas ut. Du kan förutsätta att input till funktionen är numerisk."
   ]
  },
  {
   "cell_type": "code",
   "execution_count": null,
   "metadata": {},
   "outputs": [],
   "source": [
    "# Din funktion här\n"
   ]
  },
  {
   "cell_type": "code",
   "execution_count": null,
   "metadata": {},
   "outputs": [],
   "source": [
    "# HINT\n",
    "# Ett ternärt uttryck kan komma till nytta..."
   ]
  },
  {
   "cell_type": "code",
   "execution_count": null,
   "metadata": {},
   "outputs": [],
   "source": [
    "# Testa din kod här.\n",
    "# Första resultatraden borde vara: 10 är ett lågt tal\n",
    "# Andra raden borde vara: Vilket stort tal!\n",
    "\n",
    "printif(10)\n",
    "printif(20)"
   ]
  },
  {
   "cell_type": "markdown",
   "metadata": {},
   "source": [
    "Testa att köra cellen nedan. Vad blir det för fel? Varför?"
   ]
  },
  {
   "cell_type": "code",
   "execution_count": null,
   "metadata": {},
   "outputs": [],
   "source": [
    "printif(\"två\")"
   ]
  },
  {
   "cell_type": "markdown",
   "metadata": {},
   "source": [
    "Definiera nu en funktion som heter `printer` utan några parametrar. Funktionen ska:\n",
    "1. Låta användaren skriva in en valfri `input`.\n",
    "1. Använda användarens input som argument till `printif`-funktionen\n",
    "1. Innehålla minst ett `try-except`-block som försöker hantera uppkomna fel\n",
    "\n",
    "Obs! `input()` returnerar en sträng, alltså behöver input-värdet konverteras. Om konverteringen misslyckas bör användaren informeras om att endast numeriska värden får anges."
   ]
  },
  {
   "cell_type": "code",
   "execution_count": null,
   "metadata": {},
   "outputs": [],
   "source": [
    "# Din funktion här:\n"
   ]
  },
  {
   "cell_type": "code",
   "execution_count": null,
   "metadata": {},
   "outputs": [],
   "source": [
    "# Testa din funktion genom att ange några olika värden som argument: 1, \"one\", [1], 0b10000.\n",
    "printer()"
   ]
  },
  {
   "cell_type": "code",
   "execution_count": null,
   "metadata": {
    "tags": []
   },
   "outputs": [],
   "source": [
    "# HINT 1\n",
    "# Typkonverteringen görs med int()"
   ]
  },
  {
   "cell_type": "code",
   "execution_count": null,
   "metadata": {
    "tags": []
   },
   "outputs": [],
   "source": [
    "# HINT 2\n",
    "# Du kan göra konverteringen i ett try-block"
   ]
  },
  {
   "cell_type": "markdown",
   "metadata": {},
   "source": [
    "---\n",
    "Nu ska vi kasta tärning! \n",
    "\n",
    "1. Skapa en funktion `tärning` som representerar ett kast med en 6-sidig tärning, dvs. den ska returnera ett slumptal mellan 1 och 6. \n",
    "2. Skapa ytterligare en funktion `räkna_kast` som ska kalla på funktionen `tärning` och returnera antalet tärningskast som krävs för att få en etta. Tips: använd en while-loop i `räkna_kast`. \n",
    "\n",
    "Kalla på funktionen `tärning` från funktionen `räkna_kast`. \n",
    "\n",
    "**HINT:**\n",
    "För att generera slumptal kan du importera modulen `random` genom att skriva följande i en cell: `import random`\n",
    "\n",
    "Slumptal kan sen genereras med funktionen `random.randint([lägre_gräns], [övre_gräns])`."
   ]
  },
  {
   "cell_type": "code",
   "execution_count": null,
   "metadata": {},
   "outputs": [],
   "source": [
    "# Din kod här"
   ]
  },
  {
   "cell_type": "code",
   "execution_count": null,
   "metadata": {},
   "outputs": [],
   "source": [
    "# Testa din funktion här\n",
    "print(räkna_kast(tärning))"
   ]
  },
  {
   "cell_type": "markdown",
   "metadata": {},
   "source": [
    "---\n",
    "RPA-teamet utvecklar smarta robotar. Den smarta roboten Roger ska identifiera vilka system som behöver underhåll eller har kraschat. Listan `system` symboliserar en rad olika system, där varje objekt antar värdet \"Grön\", \"Gul\" eller \"Röd\" som representerar statusen på ett system. Skriv en funktion `hitta_fel` som tar en `färgkod` och en `lista` som parametrar, som ska printa alla index i listan för `färgkod`. Till exempel för färgkoden \"Gul\" så ska funktionen `hitta_fel` printa följande: Robot Roger har identifierat kod 'Gul' på position [0, 2, 4, 15]\n",
    "\n",
    "Använd en for-loop och flödeskontroll. Om du vill får du gärna testa att använda en list comprehension istället för en for-loop. "
   ]
  },
  {
   "cell_type": "code",
   "execution_count": null,
   "metadata": {},
   "outputs": [],
   "source": [
    "# Kör den här cellen\n",
    "system = [\"Gul\", \"Grön\", \"Gul\", \"Grön\", \"Gul\", \"Röd\", \"Grön\", \"Röd\", \"Grön\",\n",
    "          \"Grön\", \"Grön\", \"Grön\", \"Grön\", \"Röd\", \"Röd\", \"Gul\", \"Grön\", \"Grön\", \"Grön\"]"
   ]
  },
  {
   "cell_type": "code",
   "execution_count": null,
   "metadata": {},
   "outputs": [],
   "source": [
    "# Din kod här\n",
    "\n"
   ]
  },
  {
   "cell_type": "code",
   "execution_count": null,
   "metadata": {},
   "outputs": [],
   "source": [
    "# Testa din funktion här\n",
    "\n",
    "# Se vilka system som behöver underhåll\n",
    "hitta_index(färgkod=\"Gul\", lista=system)\n",
    "\n",
    "# Se vilka system som har kraschat\n",
    "hitta_index(färgkod=\"Röd\", lista=system)\n"
   ]
  },
  {
   "cell_type": "markdown",
   "metadata": {},
   "source": [
    "---\n",
    "Christer kör ofta bil till kontoret. Under resan noterar han alla epa-traktorer han ser och lägger i en lista. Han lägger även till alla motorcyklar, giraffer och gula bilar i listan.\n",
    "\n",
    "En morgon fick Christer följande lista:"
   ]
  },
  {
   "cell_type": "code",
   "execution_count": null,
   "metadata": {},
   "outputs": [],
   "source": [
    "christers_morgonlista = [\"motorcykel\", \"gul bil\", \"epa\", \"gul bil\", \"gul bil\", \"gul bil\", \"giraff\",\n",
    "                         \"gul bil\", \"epa\", \"epa\", \"epa\", \"motorcykel\", \"epa\", \"epa\", \"gul bil\", \"epa\", \"epa\", \"epa\", \"epa\", \"motorcykel\", \"epa\", \"epa\"]\n"
   ]
  },
  {
   "cell_type": "markdown",
   "metadata": {},
   "source": [
    "Hjälp Christer att skapa en dictionary `epa_dict` som innehåller antalet av varje objekt i `christers_morgonlista`. Skriv ut `epa_dict`."
   ]
  },
  {
   "cell_type": "code",
   "execution_count": null,
   "metadata": {},
   "outputs": [],
   "source": [
    "# Din kod här\n"
   ]
  },
  {
   "cell_type": "markdown",
   "metadata": {},
   "source": [
    "En korrekt skriven dictionary ska innehålla följande: {'motorcykel': 3, 'gul bil': 6, 'giraff': 1, 'epa': 12}"
   ]
  },
  {
   "cell_type": "code",
   "execution_count": null,
   "metadata": {},
   "outputs": [],
   "source": [
    "# HINT\n",
    "christers_morgonlista.count(\"motorcykel\")"
   ]
  },
  {
   "cell_type": "markdown",
   "metadata": {},
   "source": [
    "Definera en funktion `printa_dict` som tar en dictionary som parameter. Funktionen ska skriva ut samtliga nycklar och värden genom att loopa igenom `epa_dict`. Använd formaterade strängar. Nyckeln \"epa\" ska skrivas ut med versaler. Resultatet bör se ut enligt följande:\n",
    "\n",
    "\n",
    "motorcykel: 3\n",
    "\n",
    "gul bil: 6\n",
    "\n",
    "giraff: 1\n",
    "\n",
    "EPA: 12"
   ]
  },
  {
   "cell_type": "code",
   "execution_count": null,
   "metadata": {},
   "outputs": [],
   "source": [
    "# Din kod här\n"
   ]
  },
  {
   "cell_type": "code",
   "execution_count": null,
   "metadata": {},
   "outputs": [],
   "source": [
    "# Testa din funktion här\n",
    "printa_dict(epa_dict)"
   ]
  },
  {
   "cell_type": "markdown",
   "metadata": {},
   "source": [
    "(Överkurs) Sortera nycklarna i `epa_dict` efter dess värden (i fallande ordning) och spara som `sortera_epa_dict`. Detta genom att kombinera en dictionary comprehension med en lambdafunktion. "
   ]
  },
  {
   "cell_type": "code",
   "execution_count": null,
   "metadata": {},
   "outputs": [],
   "source": [
    "# Din kod här:\n"
   ]
  },
  {
   "cell_type": "code",
   "execution_count": null,
   "metadata": {},
   "outputs": [],
   "source": [
    "# HINT \n",
    "# Du kan använda dig av funktionen sorted()"
   ]
  },
  {
   "cell_type": "code",
   "execution_count": null,
   "metadata": {},
   "outputs": [],
   "source": [
    "# Titta på din sorterade dictionary här\n",
    "printa_dict(sortera_epa_dict)"
   ]
  },
  {
   "cell_type": "markdown",
   "metadata": {},
   "source": [
    "---\n",
    "Vi älskar burgare! Definera en klass med klassnamnet `Burgare`. Klassen ska ha:\n",
    "\n",
    "1. En konstruktor\n",
    "2. Attributen gram, topping och vegetarisk. Gram är en integer (default `90`), topping är en lista med godsaker (default `[\"ost\"]`, vegetarisk kan anta de booleska värdena `True` eller `False`)\n",
    "3. Metod `pris` som tillhör klassen Burgare som ska räkna ut priset för en burgare.\n",
    "\n",
    "\n",
    "Metoden pris ska göra följande:\n",
    "* Ta en rabattkupong som parameter\n",
    "* Burgare som är mindre än 120 gram kostar 120 kronor. Övriga kostar 150 kronor.\n",
    "* Varje topping kostar 15 kronor\n",
    "* Vegetariskt alternativ kostar 20 kronor mindre än icke-vegetariskt alternativ."
   ]
  },
  {
   "cell_type": "code",
   "execution_count": null,
   "metadata": {},
   "outputs": [],
   "source": [
    "# Din kod här\n"
   ]
  },
  {
   "cell_type": "code",
   "execution_count": null,
   "metadata": {},
   "outputs": [],
   "source": [
    "# Testa din funktion här:\n",
    "ingen_rabatt = 0\n",
    "rabatt25 = 0.25\n",
    "\n",
    "en_burgare = Burgare(gram = 150, topping = [\"ost\", \"sallad\", \"lök\", \"dressing\"], vegetarisk = False)\n",
    "en_veg_burgare = Burgare(gram = 90, topping = [\"ost\", \"tomat\", \"dressing\"], vegetarisk = True)\n",
    "\n",
    "print(f\"Pris för en burgare med {ingen_rabatt}% rabatt: {en_burgare.pris(ingen_rabatt)} kronor\") \n",
    "print(f\"Pris för en burgare med {int(rabatt25*100)}% rabatt: {en_burgare.pris(rabatt25)} kronor\") \n",
    "\n",
    "print(f\"Pris för en vegetarisk burgare med {ingen_rabatt}% rabatt: {en_veg_burgare.pris(ingen_rabatt)} kronor\") \n",
    "print(f\"Pris för en vegetarisk burgare med {int(rabatt25*100)}% rabatt: {en_veg_burgare.pris(rabatt25)} kronor\") "
   ]
  },
  {
   "cell_type": "markdown",
   "metadata": {},
   "source": [
    "**Koden ovan ska returnera följande:**\n",
    "\n",
    "- Pris för en burgare med 0% rabatt: 210 kronor\n",
    "- Pris för en burgare med 25% rabatt: 157.5 kronor\n",
    "- Pris för en vegetarisk burgare med 0% rabatt: 145 kronor\n",
    "- Pris för en vegetarisk burgare med 25% rabatt: 108.75 kronor"
   ]
  }
 ],
 "metadata": {
  "kernelspec": {
   "display_name": "Python 3.11.0 ('.venv': venv)",
   "language": "python",
   "name": "python3"
  },
  "language_info": {
   "codemirror_mode": {
    "name": "ipython",
    "version": 3
   },
   "file_extension": ".py",
   "mimetype": "text/x-python",
   "name": "python",
   "nbconvert_exporter": "python",
   "pygments_lexer": "ipython3",
   "version": "3.11.6"
  },
  "orig_nbformat": 4,
  "vscode": {
   "interpreter": {
    "hash": "4cc145e4d2ab97f30f4677a0ee85f87459067b50a11a899f97eb3bc4f47de9f5"
   }
  }
 },
 "nbformat": 4,
 "nbformat_minor": 2
}
