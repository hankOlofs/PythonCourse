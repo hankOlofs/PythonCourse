{
 "cells": [
  {
   "cell_type": "markdown",
   "metadata": {},
   "source": [
    "# Introduktion till Python, del 3\n",
    "\n",
    "I den här notebooken kommer vi gå igenom följande:\n",
    "\n",
    "- importer, paket\n",
    "- virtuella miljöer\n",
    "- iteratorer\n",
    "- generatorer\n",
    "- filer och kontexthanterare\n",
    "- numpy\n",
    "- pandas\n"
   ]
  },
  {
   "cell_type": "markdown",
   "metadata": {},
   "source": [
    "## Virtuella miljöer\n",
    "\n",
    "När du dyker ner i Python-världen kommer du snabbt märka att **virtuella miljöer** är din bästa vän. Tänk dig att du jobbar på flera projekt samtidigt, och alla dessa kräver olika saker. I ett projekt kanske du vill bygga en webbapplikation med ramverk som Flask eller Django, medan ett annat går ut på att extrahera, transformera och ladda data till ett data warehouse. Utan virtuella miljöer skulle det vara som att försöka laga två helt olika rätter i samma kastrull samtidigt - rörigt, eller hur? Med dessa virtuella miljöer får varje projekt sin egen lilla bubbla, så att du kan installera vad det behöver utan att stöka till det för andra projekt. Vissa paket kanske inte är kompatibla med vissa versioner av andra paket eller andra Python-versioner. Därför är det bra att kunna separera alla beroenden i en egen virtuell miljö. Som en bonus kan du genom att definiera dina beroenden i en textfil enkelt låta andra sätta upp sin miljö så att den fungerar för ert gemensamma projekt.\n",
    "\n",
    "Med `venv` som finns med i alla moderna versioner av Python är det väldigt enkelt att sätta upp en virtuell miljö genom att i kommandotolken eller en terminal navigera till platsen där man vill skapa miljön (oftast projektmappen):\n",
    "\n",
    "`py -m venv min_virtuella_miljo`\n",
    "\n",
    "Vill man använda en specifik Python-version så är det bara att peka på rätt Python-installation, t ex:\n",
    "\n",
    "`c:\\program\\python311\\python.exe -m venv .venv`\n",
    "\n",
    "Det är vanligt att man döper sin virtuella miljö till just `.venv`. Obs! den **virtuella miljön ska inte versionshanteras** om man samarbetar i ett projekt och man brukar därför lägga till det som ett undantag i `.gitignore`-filen om man använder git.\n",
    "\n",
    "När miljön är skapad vill vi aktivera den genom att köra aktiveringsscriptet för miljön:\n",
    "\n",
    "`min_virtuella_miljo\\scripts\\activate`\n",
    "\n",
    "eller\n",
    "\n",
    "`.venv\\scripts\\activate` om du döpt miljön till `.venv`.\n",
    "\n",
    "Vill vi deaktivera miljön skriver vi `deactivate` i terminalen.\n",
    "\n",
    "**Skapa nu din virtuella miljö enligt instruktionerna ovan och aktivera den sedan.**"
   ]
  },
  {
   "cell_type": "markdown",
   "metadata": {},
   "source": [
    "## Importer och andra nyttigheter\n",
    "Python är ett väldigt trevligt språk i grundutförande, men en av de stora fördelarna med dess popularitet är att det finns ett stort antal paket som utökar funktionaliteten eller förenklar operationer väldigt mycket. De här paketen kan utvecklas av vem som helst och använda olika typer av licensformer. Överlag hittar man paket på PyPI, [Python Packaging Index](https://pypi.org/), som indexerar och tillhandahåller paketen.\n",
    "\n",
    "Hur kan man ladda ner och använda paket från PyPI? Det finns flera sätt, men Python-distributioner från 3.4 inkluderar pakethanteraren `pip` som gör det enkelt att hämta och installera paket från terminalen, eller från en cell i en notebook. Kör cellen nedan för att installera paketet `numpy` (det kan ta en stund). Det går även att köra i Windows kommandotolk. Se till att paketet installeras i rätt miljö!"
   ]
  },
  {
   "cell_type": "code",
   "execution_count": null,
   "metadata": {},
   "outputs": [],
   "source": [
    "pip install numpy"
   ]
  },
  {
   "cell_type": "markdown",
   "metadata": {},
   "source": [
    "Det är vanligt att alla beroenden för ett Python-projekt sparas i en `requirements.txt`-fil. Skapa en fil med just det namnet i samma mapp som dessa notebooks ligger i och lägg in följande rader i den:\n",
    "\n",
    "`pandas`\n",
    "\n",
    "`matplotlib`\n",
    "\n",
    "Kör sedan cellen nedan för att installera dessa två paket."
   ]
  },
  {
   "cell_type": "code",
   "execution_count": 21,
   "metadata": {},
   "outputs": [
    {
     "name": "stdout",
     "output_type": "stream",
     "text": [
      "Note: you may need to restart the kernel to use updated packages.Requirement already satisfied: numpy in c:\\source\\kslpythoncourse\\.venv\\lib\\site-packages (from -r requirements.txt (line 1)) (1.26.4)\n",
      "Requirement already satisfied: matplotlib in c:\\source\\kslpythoncourse\\.venv\\lib\\site-packages (from -r requirements.txt (line 2)) (3.8.3)\n",
      "Collecting pandas (from -r requirements.txt (line 3))\n",
      "  Downloading pandas-2.2.1-cp312-cp312-win_amd64.whl.metadata (19 kB)\n",
      "Requirement already satisfied: contourpy>=1.0.1 in c:\\source\\kslpythoncourse\\.venv\\lib\\site-packages (from matplotlib->-r requirements.txt (line 2)) (1.2.0)\n",
      "Requirement already satisfied: cycler>=0.10 in c:\\source\\kslpythoncourse\\.venv\\lib\\site-packages (from matplotlib->-r requirements.txt (line 2)) (0.12.1)\n",
      "Requirement already satisfied: fonttools>=4.22.0 in c:\\source\\kslpythoncourse\\.venv\\lib\\site-packages (from matplotlib->-r requirements.txt (line 2)) (4.49.0)\n",
      "Requirement already satisfied: kiwisolver>=1.3.1 in c:\\source\\kslpythoncourse\\.venv\\lib\\site-packages (from matplotlib->-r requirements.txt (line 2)) (1.4.5)\n",
      "Requirement already satisfied: packaging>=20.0 in c:\\source\\kslpythoncourse\\.venv\\lib\\site-packages (from matplotlib->-r requirements.txt (line 2)) (24.0)\n",
      "Requirement already satisfied: pillow>=8 in c:\\source\\kslpythoncourse\\.venv\\lib\\site-packages (from matplotlib->-r requirements.txt (line 2)) (10.2.0)\n",
      "Requirement already satisfied: pyparsing>=2.3.1 in c:\\source\\kslpythoncourse\\.venv\\lib\\site-packages (from matplotlib->-r requirements.txt (line 2)) (3.1.2)\n",
      "Requirement already satisfied: python-dateutil>=2.7 in c:\\source\\kslpythoncourse\\.venv\\lib\\site-packages (from matplotlib->-r requirements.txt (line 2)) (2.9.0.post0)\n",
      "Collecting pytz>=2020.1 (from pandas->-r requirements.txt (line 3))\n",
      "  Downloading pytz-2024.1-py2.py3-none-any.whl.metadata (22 kB)\n",
      "Collecting tzdata>=2022.7 (from pandas->-r requirements.txt (line 3))\n",
      "  Downloading tzdata-2024.1-py2.py3-none-any.whl.metadata (1.4 kB)\n",
      "Requirement already satisfied: six>=1.5 in c:\\source\\kslpythoncourse\\.venv\\lib\\site-packages (from python-dateutil>=2.7->matplotlib->-r requirements.txt (line 2)) (1.16.0)\n",
      "Downloading pandas-2.2.1-cp312-cp312-win_amd64.whl (11.5 MB)\n",
      "   ---------------------------------------- 0.0/11.5 MB ? eta -:--:--\n",
      "    --------------------------------------- 0.2/11.5 MB 4.6 MB/s eta 0:00:03\n",
      "   - -------------------------------------- 0.4/11.5 MB 6.2 MB/s eta 0:00:02\n",
      "   -- ------------------------------------- 0.7/11.5 MB 5.9 MB/s eta 0:00:02\n",
      "   ---- ----------------------------------- 1.3/11.5 MB 8.1 MB/s eta 0:00:02\n",
      "   ------ --------------------------------- 1.9/11.5 MB 9.2 MB/s eta 0:00:02\n",
      "   --------- ------------------------------ 2.6/11.5 MB 10.4 MB/s eta 0:00:01\n",
      "   ----------- ---------------------------- 3.2/11.5 MB 11.3 MB/s eta 0:00:01\n",
      "   ------------- -------------------------- 3.9/11.5 MB 11.8 MB/s eta 0:00:01\n",
      "   -------------- ------------------------- 4.2/11.5 MB 11.7 MB/s eta 0:00:01\n",
      "   ----------------- ---------------------- 5.0/11.5 MB 11.8 MB/s eta 0:00:01\n",
      "   ------------------- -------------------- 5.6/11.5 MB 12.0 MB/s eta 0:00:01\n",
      "   --------------------- ------------------ 6.3/11.5 MB 12.1 MB/s eta 0:00:01\n",
      "   ------------------------ --------------- 6.9/11.5 MB 12.2 MB/s eta 0:00:01\n",
      "   -------------------------- ------------- 7.5/11.5 MB 12.0 MB/s eta 0:00:01\n",
      "   ----------------------------- ---------- 8.3/11.5 MB 12.4 MB/s eta 0:00:01\n",
      "   ------------------------------- -------- 8.9/11.5 MB 12.7 MB/s eta 0:00:01\n",
      "   --------------------------------- ------ 9.5/11.5 MB 12.6 MB/s eta 0:00:01\n",
      "   ---------------------------------- ----- 10.0/11.5 MB 12.8 MB/s eta 0:00:01\n",
      "   ------------------------------------ --- 10.5/11.5 MB 13.1 MB/s eta 0:00:01\n",
      "   -------------------------------------- - 11.0/11.5 MB 13.9 MB/s eta 0:00:01\n",
      "   ---------------------------------------  11.5/11.5 MB 13.6 MB/s eta 0:00:01\n",
      "   ---------------------------------------- 11.5/11.5 MB 12.8 MB/s eta 0:00:00\n",
      "Downloading pytz-2024.1-py2.py3-none-any.whl (505 kB)\n",
      "   ---------------------------------------- 0.0/505.5 kB ? eta -:--:--\n",
      "   --------------------------------------  501.8/505.5 kB 15.9 MB/s eta 0:00:01\n",
      "   --------------------------------------- 505.5/505.5 kB 10.8 MB/s eta 0:00:00\n",
      "Downloading tzdata-2024.1-py2.py3-none-any.whl (345 kB)\n",
      "   ---------------------------------------- 0.0/345.4 kB ? eta -:--:--\n",
      "   --------------------------------------- 345.4/345.4 kB 22.3 MB/s eta 0:00:00\n",
      "Installing collected packages: pytz, tzdata, pandas\n",
      "Successfully installed pandas-2.2.1 pytz-2024.1 tzdata-2024.1\n",
      "\n"
     ]
    }
   ],
   "source": [
    "pip install -r \"requirements.txt\""
   ]
  },
  {
   "cell_type": "markdown",
   "metadata": {},
   "source": [
    "Vill du få ut en lista med alla paket som är installerade i din Python-miljö för stunden? Kör då cellen nedan och öppna upp filen."
   ]
  },
  {
   "cell_type": "code",
   "execution_count": null,
   "metadata": {},
   "outputs": [],
   "source": [
    "pip freeze > \"requirements.txt\""
   ]
  },
  {
   "cell_type": "markdown",
   "metadata": {},
   "source": [
    "Observera att det anges ett versionsnummer (t ex `numpy==2.1.4`) för varje installerat paket. Det går alltså att installera en specifik version av paket om det finns behov av detta, ange det helt enkelt på det formatet:\n",
    "\n",
    "`pip install numpy==2.1.4`\n",
    "\n",
    "När vi sedan vill använda ett paket i vår Python-kod måste vi importera det:\n"
   ]
  },
  {
   "cell_type": "code",
   "execution_count": null,
   "metadata": {},
   "outputs": [],
   "source": [
    "import numpy as np"
   ]
  },
  {
   "cell_type": "markdown",
   "metadata": {},
   "source": [
    "Här importerar vi NumPy och ger den ett alias, `np`, för att förenkla hur vi refererar till paketet och dess metoder.\n",
    "\n",
    "När vi vill referera till och använda en viss metod från ett paket anger vi, separerat med punkter, paketets namn (eller alias), eventuellt klassens namn och slutligen metodens namn, t ex `np.ndarray.min`, där `np` är paketet, `ndarray` en klass av objekt som finns i paketet och `min` är metoden."
   ]
  },
  {
   "cell_type": "markdown",
   "metadata": {},
   "source": [
    "## Generatorer\n",
    "\n",
    "I del ett av den här kursen gick vi kort igenom iterabler och iteratorer, något som liknar det vi ska undersöka nu: generatorer. Generatorer är iteratorer som vi bara kan iterera över en gång. Det som är speciellt med generatorer är att de inte sparar alla värden i minnet utan genererar dem när de behövs. Det här är väldigt nyttigt när vi har potentiellt stora mängder data som vi inte kan hantera i primärminnet på en och samma gång, men som vi ändå vill kunna iterera över.\n",
    "\n",
    "Generatorer definieras oftast som funktioner, men använder sig inte av `return`-värden utan har istället en `yield`-sats."
   ]
  },
  {
   "cell_type": "code",
   "execution_count": 5,
   "metadata": {},
   "outputs": [
    {
     "name": "stdout",
     "output_type": "stream",
     "text": [
      "0\n",
      "1\n",
      "2\n",
      "3\n",
      "4\n"
     ]
    }
   ],
   "source": [
    "def generator_function():\n",
    "    for i in range(5):\n",
    "        yield i\n",
    "\n",
    "for item in generator_function():\n",
    "    print(item)\n"
   ]
  },
  {
   "cell_type": "markdown",
   "metadata": {},
   "source": [
    "Vad händer om vi försöker iterera över generatorn med `next`? Låt oss testa!"
   ]
  },
  {
   "cell_type": "code",
   "execution_count": 13,
   "metadata": {},
   "outputs": [
    {
     "name": "stdout",
     "output_type": "stream",
     "text": [
      "0\n",
      "1\n",
      "2\n",
      "3\n",
      "4\n"
     ]
    },
    {
     "ename": "StopIteration",
     "evalue": "",
     "output_type": "error",
     "traceback": [
      "\u001b[1;31m---------------------------------------------------------------------------\u001b[0m",
      "\u001b[1;31mStopIteration\u001b[0m                             Traceback (most recent call last)",
      "Cell \u001b[1;32mIn[13], line 7\u001b[0m\n\u001b[0;32m      5\u001b[0m \u001b[38;5;28mprint\u001b[39m(\u001b[38;5;28mnext\u001b[39m(generator))\n\u001b[0;32m      6\u001b[0m \u001b[38;5;28mprint\u001b[39m(\u001b[38;5;28mnext\u001b[39m(generator))\n\u001b[1;32m----> 7\u001b[0m \u001b[38;5;28mprint\u001b[39m(\u001b[38;5;28;43mnext\u001b[39;49m\u001b[43m(\u001b[49m\u001b[43mgenerator\u001b[49m\u001b[43m)\u001b[49m)\n",
      "\u001b[1;31mStopIteration\u001b[0m: "
     ]
    }
   ],
   "source": [
    "generator = generator_function()\n",
    "print(next(generator))\n",
    "print(next(generator))\n",
    "print(next(generator))\n",
    "print(next(generator))\n",
    "print(next(generator))\n",
    "print(next(generator))"
   ]
  },
  {
   "cell_type": "markdown",
   "metadata": {},
   "source": [
    "Det går alldeles utmärkt tills vi kommer till ett värde som ligger utanför intervallet som generatorn genererar värden för. Vi ser att vi får ett StopIteration-fel, vilket beror på att vi inte, som i `for`-loopens implementation har någon hantering för att generatorn är \"färdig\"."
   ]
  },
  {
   "cell_type": "markdown",
   "metadata": {},
   "source": [
    "### Generatoruttryck\n",
    "Precis som för dictionaries och listor finns det ett kompakt och smidigt sätt att skapa generatorer, se här där vi omger uttrycket som vi vill skapa en generator för med parenteser:"
   ]
  },
  {
   "cell_type": "code",
   "execution_count": 26,
   "metadata": {},
   "outputs": [
    {
     "name": "stdout",
     "output_type": "stream",
     "text": [
      "0\n",
      "1\n",
      "4\n",
      "9\n"
     ]
    }
   ],
   "source": [
    "# Skapa en generator för att räkna ut kvadraten av varje värde mellan 0 och 3\n",
    "# Värdena kommer inte räknas ut innan vi printar dem utan det görs \"on the fly\"\n",
    "# På så sätt behöver vi inte allokera minne för alla värden\n",
    "g = (x**2 for x in range(4))\n",
    "print(next(g))\n",
    "print(next(g))\n",
    "print(next(g))\n",
    "print(next(g))"
   ]
  },
  {
   "cell_type": "markdown",
   "metadata": {},
   "source": [
    "## Arbeta med filer\n",
    "\n",
    "I Python, som många andra programmeringsspråk, vill vi ofta interagera med filer i vårt filsystem. Den grundläggande syntaxen för att öppna en fil med Pythons inbyggda metoder är `fil = open('filväg', 'åtkomstläge')` och för att stänga den kör vi helt enkelt `fil.close()`. \n",
    "\n",
    "### Kontexthanterare\n",
    "\n",
    "Kontexthanterare är en mekanism för att automatiskt hantera vissa operationer när man ska hantera olika slags resurser. De är väldigt användbara för resurser som behöver stängas eller frigöras efter användning, till exempel filer, nätverksanslutningar eller databasanslutningar. Kontexthanterare ser man oftast i form av Python's `with`-sats, som säkerställer att resurser frigörs när de inte längre behövs. Den grundläggande syntaxen för en kontexthanterare ser ut så här:"
   ]
  },
  {
   "cell_type": "code",
   "execution_count": null,
   "metadata": {},
   "outputs": [],
   "source": [
    "with context_manager as resource:\n",
    "    # Gör något med resursen"
   ]
  },
  {
   "cell_type": "markdown",
   "metadata": {},
   "source": [
    "Om vi vill utföra två operationer som hör ihop, t ex att öppna och stänga en fil, tillsammans med mellanliggande operationer (att skriva något till filen) så kan det t ex se ut så här:"
   ]
  },
  {
   "cell_type": "code",
   "execution_count": null,
   "metadata": {},
   "outputs": [],
   "source": [
    "with open('requirements.txt', 'w') as opened_file:\n",
    "    opened_file.write('requests')"
   ]
  },
  {
   "cell_type": "markdown",
   "metadata": {},
   "source": [
    "Vilket är samma sak som att skriva:"
   ]
  },
  {
   "cell_type": "code",
   "execution_count": null,
   "metadata": {},
   "outputs": [],
   "source": [
    "file = open('requirements.txt', 'w')\n",
    "try:\n",
    "    file.write('requests')\n",
    "finally:\n",
    "    file.close()"
   ]
  },
  {
   "cell_type": "markdown",
   "metadata": {},
   "source": [
    "Fördelen med den här konstruktionen är att oavsett hur körningen av koden i `try`-blocket går så kommer filen stängas framgångsrikt."
   ]
  },
  {
   "cell_type": "markdown",
   "metadata": {},
   "source": [
    "I bakgrunden finns det en `__enter__`-metod som initierar resursen samt en `__exit__`-metod för att städa upp, till exempel stänga filen eller frigöra resursen när koden i `with`-blocket har körts (oavsett om den lyckats eller ej). Vi kan implementera en egen enkel kontexthanterare för att öppna filer, genom att skapa en klass med dessa metoder:"
   ]
  },
  {
   "cell_type": "code",
   "execution_count": null,
   "metadata": {},
   "outputs": [],
   "source": [
    "class File(object):\n",
    "    def __init__(self, file_name, method):\n",
    "        self.file_obj = open(file_name, method)\n",
    "    def __enter__(self):\n",
    "        return self.file_obj\n",
    "    def __exit__(self, type, value, traceback):\n",
    "        self.file_obj.close()"
   ]
  },
  {
   "cell_type": "markdown",
   "metadata": {},
   "source": [
    "I `__exit__`-metoden finns argumenten type, value och traceback som kan användas om det uppstår ett fel i körningen och som används av `__exit__`-metoden för att avgöra hur filen ska stängas. Här görs en `close` oavsett fel."
   ]
  },
  {
   "cell_type": "markdown",
   "metadata": {},
   "source": [
    "Som vi precis såg så är det smidigt att arbeta med kontexthanterare när vi ska läsa från eller skriva till filer då det ser till att filen öppnas och stängs på ett säkert sätt. Med andra ord, använd `with`-satsen om du inte har några väldigt specifika behov.\n",
    "\n",
    "### Åtkomstlägen\n",
    "När vi öppnar filen finns det några olika lägen vi kan välja mellan:\n",
    "- 'r' - read - öppnar filen för läsning och ger ett fel om filen inte finns\n",
    "- 'w' - write - öppnar filen för skrivning och skapar en ny fil om den inte finns eller skriver över filen om den redan finns\n",
    "- 'a' - append - öppnar filen för att lägga till innehåll i slutet av filen, eller skapar en ny fil om den inte finns\n",
    "- 'r+' - read och write - öppnar filen för både läsning och skrivning\n",
    "- 'b' - binary -  lägg till 'b' till ett annat läge för att öppna filen i binärt läge (t.ex., 'rb' eller 'wb+'). Med binärt läge menas att filen konverteras till ett binärt lagringsformat vilket kan vara bra för att hantera filer som inte är text (bilder t ex) \n",
    "\n",
    "Här nedan kommer ett exempel där vi använder en kontexthanterare för att läsa från vår `requirements`-fil:"
   ]
  },
  {
   "cell_type": "code",
   "execution_count": 5,
   "metadata": {},
   "outputs": [
    {
     "name": "stdout",
     "output_type": "stream",
     "text": [
      "numpy\n",
      "matplotlib\n",
      "pandas\n"
     ]
    }
   ],
   "source": [
    "with open('requirements.txt', 'r') as fil:\n",
    "    innehall = fil.read()\n",
    "\n",
    "print(innehall)"
   ]
  },
  {
   "cell_type": "markdown",
   "metadata": {},
   "source": [
    "Ett exempel med JSON-data:"
   ]
  },
  {
   "cell_type": "code",
   "execution_count": 11,
   "metadata": {},
   "outputs": [],
   "source": [
    "import json\n",
    "\n",
    "data = [\n",
    "    {\n",
    "        \"titel\": \"Den hemliga trädgården\",\n",
    "        \"författare\": \"Frances Hodgson Burnett\",\n",
    "        \"utgivningsår\": 1911\n",
    "    },\n",
    "    {\n",
    "        \"titel\": \"Stolthet och fördom\",\n",
    "        \"författare\": \"Jane Austen\",\n",
    "        \"utgivningsår\": 1813\n",
    "    },\n",
    "    {\n",
    "        \"titel\": \"1984\",\n",
    "        \"författare\": \"George Orwell\",\n",
    "        \"utgivningsår\": 1949\n",
    "    }\n",
    "]\n",
    "\n",
    "with open('böcker.json', 'w', encoding='utf-8') as f:\n",
    "    json.dump(data, f, ensure_ascii=False, indent=4)\n"
   ]
  },
  {
   "cell_type": "markdown",
   "metadata": {},
   "source": [
    "Hur gör vi för att lägga till en ny bok i listan?"
   ]
  },
  {
   "cell_type": "code",
   "execution_count": 8,
   "metadata": {},
   "outputs": [
    {
     "name": "stdout",
     "output_type": "stream",
     "text": [
      "Titel: Den hemliga trädgården, Författare: Frances Hodgson Burnett, Utgivningsår: 1911\n",
      "Titel: Stolthet och fördom, Författare: Jane Austen, Utgivningsår: 1813\n",
      "Titel: 1984, Författare: George Orwell, Utgivningsår: 1949\n",
      "Titel: Mästaren och Margarita, Författare: Michail Bulgakov, Utgivningsår: 1967\n"
     ]
    }
   ],
   "source": [
    "\n",
    "# Steg 1: Läs in befintlig data från filen\n",
    "with open('böcker.json', 'r', encoding='utf-8') as f:\n",
    "    böcker = json.load(f)\n",
    "\n",
    "# Steg 2: Lägg till en ny bok\n",
    "ny_bok = {\n",
    "    \"titel\": \"Mästaren och Margarita\",\n",
    "    \"författare\": \"Michail Bulgakov\",\n",
    "    \"utgivningsår\": 1967\n",
    "}\n",
    "böcker.append(ny_bok)\n",
    "\n",
    "# Steg 3: Skriv tillbaka den uppdaterade datan till filen\n",
    "with open('böcker.json', 'w', encoding='utf-8') as f:\n",
    "    json.dump(böcker, f, ensure_ascii=False, indent=4)\n",
    "\n",
    "# Läs in och skriv ut den uppdaterade filen för att se innehållet\n",
    "with open('böcker.json', 'r', encoding='utf-8') as f:\n",
    "    uppdaterade_böcker = json.load(f)\n",
    "    for bok in uppdaterade_böcker:\n",
    "        print(f\"Titel: {bok['titel']}, Författare: {bok['författare']}, Utgivningsår: {bok['utgivningsår']}\")"
   ]
  },
  {
   "cell_type": "markdown",
   "metadata": {},
   "source": [
    "## NumPy"
   ]
  },
  {
   "cell_type": "markdown",
   "metadata": {},
   "source": [
    "NumPy är ett paket som förenklar numeriska beräkningar och datamanipulation. NumPy, vilket står för Numerical Python, ger oss kraftfulla verktyg för att arbeta med matriser, vektorer och andra numeriska strukturer på ett effektivt sätt. Paketet ger oss tillgång till array-objekt som möjliggör vektoriserad operation, vilket innebär att du kan utföra matematiska operationer på hela arrayer istället för att loopa igenom varje enskilt element. Detta resulterar i betydande prestandaförbättringar. NumPy erbjuder också ett omfattande bibliotek av inbyggda funktioner för att utföra olika numeriska och matematiska operationer utan att behöva implementera dem från grunden.\n",
    "\n",
    "Här följer några grundläggande exempel på hur NumPy fungerar:"
   ]
  },
  {
   "cell_type": "code",
   "execution_count": 1,
   "metadata": {},
   "outputs": [
    {
     "name": "stdout",
     "output_type": "stream",
     "text": [
      "[1 2 3]\n",
      "<class 'numpy.ndarray'>\n"
     ]
    }
   ],
   "source": [
    "import numpy as np\n",
    "\n",
    "# Skapa en enkel array från en lista\n",
    "simple_array = np.array([1, 2, 3])\n",
    "print(simple_array)\n",
    "print(type(simple_array))"
   ]
  },
  {
   "cell_type": "markdown",
   "metadata": {},
   "source": [
    "Vi ser att objektet som skapats är av typen `numpy.ndarray`."
   ]
  },
  {
   "cell_type": "code",
   "execution_count": 8,
   "metadata": {},
   "outputs": [
    {
     "name": "stdout",
     "output_type": "stream",
     "text": [
      "[2 4 6]\n"
     ]
    }
   ],
   "source": [
    "# Utför enklare matematiska operationer på en array\n",
    "result = simple_array * 2\n",
    "print(result)"
   ]
  },
  {
   "cell_type": "code",
   "execution_count": 9,
   "metadata": {},
   "outputs": [
    {
     "name": "stdout",
     "output_type": "stream",
     "text": [
      "2.0\n"
     ]
    }
   ],
   "source": [
    "# Beräkna medelvärdet av arrayen\n",
    "mean_value = np.mean(simple_array)\n",
    "print(mean_value)"
   ]
  },
  {
   "cell_type": "code",
   "execution_count": 14,
   "metadata": {},
   "outputs": [
    {
     "name": "stdout",
     "output_type": "stream",
     "text": [
      "[[1 2 3]\n",
      " [4 5 6]]\n"
     ]
    }
   ],
   "source": [
    "# Skapa en 2D-array\n",
    "matrix = np.array([[1, 2, 3], [4, 5, 6]])\n",
    "print(matrix)"
   ]
  },
  {
   "cell_type": "code",
   "execution_count": 13,
   "metadata": {},
   "outputs": [
    {
     "name": "stdout",
     "output_type": "stream",
     "text": [
      "[[1 4]\n",
      " [2 5]\n",
      " [3 6]]\n"
     ]
    }
   ],
   "source": [
    "# Transponera matrisen (rader blir kolumner och vice versa)\n",
    "transposed_matrix = np.transpose(matrix)\n",
    "print(transposed_matrix)"
   ]
  },
  {
   "cell_type": "markdown",
   "metadata": {},
   "source": [
    "Vi kan skapa en array som är vertikal istället för horisontell. Det här är nyttigt om vi arbetar med matrisalgebra, där dimensionerna på matrisen eller vektorn är viktig. Med `np.array.reshape()` kan vi omforma vår array på olika sätt."
   ]
  },
  {
   "cell_type": "code",
   "execution_count": 26,
   "metadata": {},
   "outputs": [
    {
     "name": "stdout",
     "output_type": "stream",
     "text": [
      "Horisontell array:\n",
      "[1 2 3]\n",
      "\n",
      "Vertikal array:\n",
      "[[1]\n",
      " [2]\n",
      " [3]]\n"
     ]
    }
   ],
   "source": [
    "# Skapa en horisontell array\n",
    "horizontal_array = np.array([1, 2, 3])\n",
    "\n",
    "# Omvandla till en vertikal array med reshape-metoden\n",
    "vertical_array = horizontal_array.reshape(-1, 1)\n",
    "\n",
    "print(\"Horisontell array:\")\n",
    "print(horizontal_array)\n",
    "print(\"\\nVertikal array:\")\n",
    "print(vertical_array)\n"
   ]
  },
  {
   "cell_type": "markdown",
   "metadata": {},
   "source": [
    "För att välja ut ett specifikt element från en array kan vi använda indexering med hakklamrar `numpy_matris[rad, kolumn]`."
   ]
  },
  {
   "cell_type": "code",
   "execution_count": 16,
   "metadata": {},
   "outputs": [
    {
     "name": "stdout",
     "output_type": "stream",
     "text": [
      "6\n"
     ]
    }
   ],
   "source": [
    "print(matrix)\n",
    "\n",
    "# Hämta ett specifikt element från arrayen\n",
    "element = matrix[1, 2]\n",
    "print(element)"
   ]
  },
  {
   "cell_type": "code",
   "execution_count": 17,
   "metadata": {},
   "outputs": [
    {
     "name": "stdout",
     "output_type": "stream",
     "text": [
      "[[2 3]\n",
      " [5 6]]\n"
     ]
    }
   ],
   "source": [
    "# Skärning för att hämta delar av arrayen\n",
    "sliced_array = matrix[:, 1:]\n",
    "print(sliced_array)"
   ]
  },
  {
   "cell_type": "code",
   "execution_count": 19,
   "metadata": {},
   "outputs": [
    {
     "name": "stdout",
     "output_type": "stream",
     "text": [
      "[[-2.          1.        ]\n",
      " [ 1.66666667 -0.66666667]]\n"
     ]
    }
   ],
   "source": [
    "# Beräkna inversen av en matris\n",
    "inverse_matrix = np.linalg.inv(sliced_array)\n",
    "print(inverse_matrix)"
   ]
  },
  {
   "cell_type": "code",
   "execution_count": 20,
   "metadata": {},
   "outputs": [
    {
     "name": "stdout",
     "output_type": "stream",
     "text": [
      "1.707825127659933\n"
     ]
    }
   ],
   "source": [
    "# Beräkna standardavvikelsen\n",
    "std_deviation = np.std(matrix)\n",
    "print(std_deviation)"
   ]
  },
  {
   "cell_type": "markdown",
   "metadata": {},
   "source": [
    "### Övning\n",
    "Hur beräknas max-värdet i matrisen `matrix`? Tips: [i dokumentationen finns alla metoder](https://numpy.org/doc/stable/reference/generated/numpy.ndarray.html) som `numpy.ndarray` har."
   ]
  },
  {
   "cell_type": "code",
   "execution_count": 29,
   "metadata": {},
   "outputs": [],
   "source": [
    "# Skriv din kod här"
   ]
  },
  {
   "cell_type": "markdown",
   "metadata": {},
   "source": [
    "### Operationer på vektorer och matriser\n",
    "\n",
    "Låt oss titta på ett exempel av en vektoroperation med NumPy. Vi kommer att utföra en **elementvis addition** av två vektorer. Anta att vi har två vektorer, A och B, och vi vill skapa en ny vektor C där varje element i C är summan av motsvarande element i A och B."
   ]
  },
  {
   "cell_type": "code",
   "execution_count": 2,
   "metadata": {},
   "outputs": [
    {
     "name": "stdout",
     "output_type": "stream",
     "text": [
      "Vektor A: [1 2 3]\n",
      "Vektor B: [4 5 6]\n",
      "Vektor C: [5 7 9]\n"
     ]
    }
   ],
   "source": [
    "# Skapa två vektorer\n",
    "vector_A = np.array([1, 2, 3])\n",
    "vector_B = np.array([4, 5, 6])\n",
    "\n",
    "# Elementvis addition av vektorerna\n",
    "vector_C = vector_A + vector_B\n",
    "\n",
    "print(\"Vektor A:\", vector_A)\n",
    "print(\"Vektor B:\", vector_B)\n",
    "print(\"Vektor C:\", vector_C)\n"
   ]
  },
  {
   "cell_type": "markdown",
   "metadata": {},
   "source": [
    "Vi kan använda metoden `np.vectorize()` för att använda oss av vanliga Python-funktioner på varje element i en NumPy-array. Här kommer ett exempel med en lambda-funktion."
   ]
  },
  {
   "cell_type": "code",
   "execution_count": 3,
   "metadata": {},
   "outputs": [
    {
     "name": "stdout",
     "output_type": "stream",
     "text": [
      "Ursprunglig array: [1 2 3 4 5]\n",
      "Resultat efter funktion: [-4 -2  0  2  4]\n"
     ]
    }
   ],
   "source": [
    "# Skapa en NumPy-array\n",
    "my_array = np.array([1, 2, 3, 4, 5])\n",
    "\n",
    "# Definiera en lambda-funktion med hjälp av np.vectorize\n",
    "lambda_function = np.vectorize(lambda x: x * 2-6)\n",
    "\n",
    "# Använd den vektoriserade funktionen på arrayen\n",
    "result_array = lambda_function(my_array)\n",
    "\n",
    "print(\"Ursprunglig array:\", my_array)\n",
    "print(\"Resultat efter funktion:\", result_array)"
   ]
  },
  {
   "cell_type": "markdown",
   "metadata": {},
   "source": [
    "### Anpassa en linje till data\n",
    "Nu ska vi ta oss an något som är lite mer komplicerat, nämligen att försöka hitta en matematisk funktion som på ett så bra sätt som möjligt beskriver sambandet mellan två variabler i ett datamaterial. Vi kommer skapa slumpmässig data runt linjen $y = 5 \\cdot x +3$ och sedan, med hjälp av [minstakvadratmetoden](https://sv.wikipedia.org/wiki/Minstakvadratmetoden), försöka anpassa en rät linje till denna data, med målet att minimera \"felet\" eller avstånden mellan datapunkterna och den anpassade linjen. Mer om det alldeles strax, låt oss först skapa vår slumpade data och kolla på hur den ser ut."
   ]
  },
  {
   "cell_type": "code",
   "execution_count": 5,
   "metadata": {},
   "outputs": [
    {
     "data": {
      "image/png": "[encoded data removed]",
      "text/plain": [
       "<Figure size 640x480 with 1 Axes>"
      ]
     },
     "metadata": {},
     "output_type": "display_data"
    },
    {
     "name": "stdout",
     "output_type": "stream",
     "text": [
      "De tio första raderna av x och motsvarande y:\n",
      "[[ 3.74540119 21.98814715]\n",
      " [ 9.50714306 49.63869327]\n",
      " [ 7.31993942 39.87497942]\n",
      " [ 5.98658484 26.97021747]\n",
      " [ 1.5601864  10.14191636]\n",
      " [ 1.5599452  11.87106373]\n",
      " [ 0.58083612 10.33786274]\n",
      " [ 8.66176146 44.75399663]\n",
      " [ 6.01115012 30.63026978]\n",
      " [ 7.08072578 36.89835776]]\n"
     ]
    }
   ],
   "source": [
    "import matplotlib.pyplot as plt\n",
    "import numpy as np\n",
    "\n",
    "# Skapa slumpmässig data baserad på ekvationen y = 5x + 3 med tillagt brus\n",
    "np.random.seed(42)\n",
    "x = np.random.rand(100, 1) * 10  # Slumpmässiga x-värden mellan 0 och 10\n",
    "y = 5 * x + 3 + np.random.randn(100, 1) * 3  # y = 5x + 3 + brus från en normalfördelning\n",
    "\n",
    "# Visualisera data\n",
    "plt.scatter(x, y, label='Observationer')\n",
    "plt.xlabel('X')\n",
    "plt.ylabel('Y')\n",
    "plt.title('Data')\n",
    "plt.legend()\n",
    "plt.show()\n",
    "\n",
    "print(\"De tio första raderna av x och motsvarande y:\")\n",
    "print(np.column_stack((x, y))[:10,:])\n"
   ]
  },
  {
   "cell_type": "markdown",
   "metadata": {},
   "source": [
    "Minstakvadratmetoden kan implementeras med hjälp av lite matrisalgebra, där lösningen som minimerar kvadratfelet (avståndet mellan linjen och varje datapunkt) är $\\beta = (X^T X)^{-1} X^T y$.\n",
    "[Läs mer om matrismultiplikation på Wikipedia.](https://sv.wikipedia.org/wiki/Matris#Matrismultiplikation)"
   ]
  },
  {
   "cell_type": "code",
   "execution_count": 14,
   "metadata": {},
   "outputs": [
    {
     "data": {
      "image/png": "[encoded data removed]",
      "text/plain": [
       "<Figure size 640x480 with 1 Axes>"
      ]
     },
     "metadata": {},
     "output_type": "display_data"
    },
    {
     "name": "stdout",
     "output_type": "stream",
     "text": [
      "Koefficient (skärning): 3.430192315093505\n",
      "Koefficient (lutning): 4.908045354575394\n",
      "Medelvärde av kvadratiska felet (MSE): 3.226338255868214\n"
     ]
    }
   ],
   "source": [
    "\n",
    "# Lägg till en kolumn av 1:or för att hantera skärningen (intercept)\n",
    "X = np.c_[np.ones_like(x), x]\n",
    "\n",
    "# Beräkna koefficienterna med OLS-metoden\n",
    "# X.T är transponatet av X och @ är ett alias för numpy.matmul eller matrismultiplikation\n",
    "theta = np.linalg.inv(X.T @ X) @ X.T @ y\n",
    "\n",
    "# Beräkna förutsägelser med modellen\n",
    "y_pred = X @ theta\n",
    "\n",
    "# Visualisera resultaten\n",
    "plt.scatter(x, y, label='Observationer')\n",
    "plt.plot(x, y_pred, color='red', label='Linjär regressionsmodell')\n",
    "plt.xlabel('X')\n",
    "plt.ylabel('Y')\n",
    "plt.title('Linjär regression med brus (NumPy implementation)')\n",
    "plt.legend()\n",
    "plt.show()\n",
    "\n",
    "# Skriv ut koefficienterna och det medelvärde av kvadratiska felet (MSE)\n",
    "print(f\"Koefficient (skärning): {theta[0][0]}\")\n",
    "print(f\"Koefficient (lutning): {theta[1][0]}\")\n",
    "print(f\"Medelvärde av kvadratfelet (MSE): {np.mean((y - y_pred)**2)}\")\n"
   ]
  },
  {
   "cell_type": "markdown",
   "metadata": {},
   "source": [
    "## Pandas"
   ]
  },
  {
   "cell_type": "markdown",
   "metadata": {},
   "source": [
    "Pandas är ett paket som bygger vidare på NumPy och förenklar hanteringen av data i framför allt tabellformat, vilket underlättar dataanalys och mycket annat. Pandas baseras på två datastrukturer:\n",
    "- `DataFrame`: en tvådimensionell tabell med kolumn- och radetiketter\n",
    "- `Series`: en endimensionell array med etiketter\n",
    "\n",
    "En `Series` kan ses som en kolumn i en `DataFrame` (och en `DataFrame` kan ses som en tabell bestående av en eller flera `Series`).\n",
    "\n",
    "Pandas installeras som många andra paket i Python med `pip`:"
   ]
  },
  {
   "cell_type": "code",
   "execution_count": null,
   "metadata": {},
   "outputs": [],
   "source": [
    "pip install pandas"
   ]
  },
  {
   "cell_type": "markdown",
   "metadata": {},
   "source": [
    "Och importeras därefter oftast så här (aliaset `pd` gör allt lite mer komprimerat):"
   ]
  },
  {
   "cell_type": "code",
   "execution_count": 4,
   "metadata": {},
   "outputs": [],
   "source": [
    "import pandas as pd"
   ]
  },
  {
   "cell_type": "markdown",
   "metadata": {},
   "source": [
    "En `DataFrame` kan skapas på flera olika sätt:\n",
    "\n",
    "1. Från en dictionary av listor"
   ]
  },
  {
   "cell_type": "code",
   "execution_count": 23,
   "metadata": {},
   "outputs": [
    {
     "name": "stdout",
     "output_type": "stream",
     "text": [
      "    Namn  Ålder       Stad\n",
      "0   Anna     28  Stockholm\n",
      "1  Berit     34   Göteborg\n",
      "2   Carl     45      Malmö\n"
     ]
    }
   ],
   "source": [
    "data = {\n",
    "    \"Namn\": [\"Anna\", \"Berit\", \"Carl\"],\n",
    "    \"Ålder\": [28, 34, 45],\n",
    "    \"Stad\": [\"Stockholm\", \"Göteborg\", \"Malmö\"]\n",
    "}\n",
    "\n",
    "df = pd.DataFrame(data)\n",
    "print(df)"
   ]
  },
  {
   "cell_type": "markdown",
   "metadata": {},
   "source": [
    "2. Från en lista av dictionaries"
   ]
  },
  {
   "cell_type": "code",
   "execution_count": 24,
   "metadata": {},
   "outputs": [
    {
     "name": "stdout",
     "output_type": "stream",
     "text": [
      "    Namn  Ålder       Stad\n",
      "0   Anna     28  Stockholm\n",
      "1  Berit     34   Göteborg\n",
      "2   Carl     45      Malmö\n"
     ]
    }
   ],
   "source": [
    "data = [\n",
    "    {\"Namn\": \"Anna\", \"Ålder\": 28, \"Stad\": \"Stockholm\"},\n",
    "    {\"Namn\": \"Berit\", \"Ålder\": 34, \"Stad\": \"Göteborg\"},\n",
    "    {\"Namn\": \"Carl\", \"Ålder\": 45, \"Stad\": \"Malmö\"}\n",
    "]\n",
    "\n",
    "df = pd.DataFrame(data)\n",
    "print(df)"
   ]
  },
  {
   "cell_type": "markdown",
   "metadata": {},
   "source": [
    "3. Från en lista av listor med separata kolumnnamn"
   ]
  },
  {
   "cell_type": "code",
   "execution_count": 27,
   "metadata": {},
   "outputs": [
    {
     "name": "stdout",
     "output_type": "stream",
     "text": [
      "    Namn  Ålder       Stad\n",
      "0   Anna     28  Stockholm\n",
      "1  Berit     34   Göteborg\n",
      "2   Carl     45      Malmö\n"
     ]
    }
   ],
   "source": [
    "data = [\n",
    "    [\"Anna\", 28, \"Stockholm\"],\n",
    "    [\"Berit\", 34, \"Göteborg\"],\n",
    "    [\"Carl\", 45, \"Malmö\"]\n",
    "]\n",
    "columns = [\"Namn\", \"Ålder\", \"Stad\"] # Kolumnnamnen ligger separat\n",
    "\n",
    "df = pd.DataFrame(data, columns=columns)\n",
    "print(df)"
   ]
  },
  {
   "cell_type": "markdown",
   "metadata": {},
   "source": [
    "4. Från en NumPy-array"
   ]
  },
  {
   "cell_type": "code",
   "execution_count": 5,
   "metadata": {},
   "outputs": [
    {
     "name": "stdout",
     "output_type": "stream",
     "text": [
      "   A  B  C\n",
      "0  1  2  3\n",
      "1  4  5  6\n",
      "2  7  8  9\n"
     ]
    }
   ],
   "source": [
    "import numpy as np\n",
    "\n",
    "data = np.array([[1, 2, 3], [4, 5, 6], [7, 8, 9]])\n",
    "columns = ['A', 'B', 'C']\n",
    "\n",
    "df = pd.DataFrame(data, columns=columns)\n",
    "print(df)"
   ]
  },
  {
   "cell_type": "markdown",
   "metadata": {},
   "source": [
    "Med metoderna `head`och `tail` kan vi granska de första eller sista raderna i en DataFrame"
   ]
  },
  {
   "cell_type": "code",
   "execution_count": 7,
   "metadata": {},
   "outputs": [
    {
     "data": {
      "text/html": [
       "<div>\n",
       "<style scoped>\n",
       "    .dataframe tbody tr th:only-of-type {\n",
       "        vertical-align: middle;\n",
       "    }\n",
       "\n",
       "    .dataframe tbody tr th {\n",
       "        vertical-align: top;\n",
       "    }\n",
       "\n",
       "    .dataframe thead th {\n",
       "        text-align: right;\n",
       "    }\n",
       "</style>\n",
       "<table border=\"1\" class=\"dataframe\">\n",
       "  <thead>\n",
       "    <tr style=\"text-align: right;\">\n",
       "      <th></th>\n",
       "      <th>A</th>\n",
       "      <th>B</th>\n",
       "      <th>C</th>\n",
       "    </tr>\n",
       "  </thead>\n",
       "  <tbody>\n",
       "    <tr>\n",
       "      <th>0</th>\n",
       "      <td>1</td>\n",
       "      <td>2</td>\n",
       "      <td>3</td>\n",
       "    </tr>\n",
       "    <tr>\n",
       "      <th>1</th>\n",
       "      <td>4</td>\n",
       "      <td>5</td>\n",
       "      <td>6</td>\n",
       "    </tr>\n",
       "    <tr>\n",
       "      <th>2</th>\n",
       "      <td>7</td>\n",
       "      <td>8</td>\n",
       "      <td>9</td>\n",
       "    </tr>\n",
       "  </tbody>\n",
       "</table>\n",
       "</div>"
      ],
      "text/plain": [
       "   A  B  C\n",
       "0  1  2  3\n",
       "1  4  5  6\n",
       "2  7  8  9"
      ]
     },
     "execution_count": 7,
     "metadata": {},
     "output_type": "execute_result"
    }
   ],
   "source": [
    "df.head()"
   ]
  },
  {
   "cell_type": "code",
   "execution_count": 8,
   "metadata": {},
   "outputs": [
    {
     "data": {
      "text/html": [
       "<div>\n",
       "<style scoped>\n",
       "    .dataframe tbody tr th:only-of-type {\n",
       "        vertical-align: middle;\n",
       "    }\n",
       "\n",
       "    .dataframe tbody tr th {\n",
       "        vertical-align: top;\n",
       "    }\n",
       "\n",
       "    .dataframe thead th {\n",
       "        text-align: right;\n",
       "    }\n",
       "</style>\n",
       "<table border=\"1\" class=\"dataframe\">\n",
       "  <thead>\n",
       "    <tr style=\"text-align: right;\">\n",
       "      <th></th>\n",
       "      <th>A</th>\n",
       "      <th>B</th>\n",
       "      <th>C</th>\n",
       "    </tr>\n",
       "  </thead>\n",
       "  <tbody>\n",
       "    <tr>\n",
       "      <th>2</th>\n",
       "      <td>7</td>\n",
       "      <td>8</td>\n",
       "      <td>9</td>\n",
       "    </tr>\n",
       "  </tbody>\n",
       "</table>\n",
       "</div>"
      ],
      "text/plain": [
       "   A  B  C\n",
       "2  7  8  9"
      ]
     },
     "execution_count": 8,
     "metadata": {},
     "output_type": "execute_result"
    }
   ],
   "source": [
    "# Visa bara sista raden\n",
    "df.tail(1)"
   ]
  },
  {
   "cell_type": "markdown",
   "metadata": {},
   "source": [
    "För att välja en specifik kolumn använder du kolumnens namn och för att välja flera kolumner använder du en lista med kolumnnamns som argument:"
   ]
  },
  {
   "cell_type": "code",
   "execution_count": 24,
   "metadata": {},
   "outputs": [
    {
     "data": {
      "text/plain": [
       "0    1\n",
       "1    4\n",
       "2    7\n",
       "Name: A, dtype: int32"
      ]
     },
     "execution_count": 24,
     "metadata": {},
     "output_type": "execute_result"
    }
   ],
   "source": [
    "df['A']"
   ]
  },
  {
   "cell_type": "code",
   "execution_count": 25,
   "metadata": {},
   "outputs": [
    {
     "data": {
      "text/html": [
       "<div>\n",
       "<style scoped>\n",
       "    .dataframe tbody tr th:only-of-type {\n",
       "        vertical-align: middle;\n",
       "    }\n",
       "\n",
       "    .dataframe tbody tr th {\n",
       "        vertical-align: top;\n",
       "    }\n",
       "\n",
       "    .dataframe thead th {\n",
       "        text-align: right;\n",
       "    }\n",
       "</style>\n",
       "<table border=\"1\" class=\"dataframe\">\n",
       "  <thead>\n",
       "    <tr style=\"text-align: right;\">\n",
       "      <th></th>\n",
       "      <th>A</th>\n",
       "      <th>C</th>\n",
       "    </tr>\n",
       "  </thead>\n",
       "  <tbody>\n",
       "    <tr>\n",
       "      <th>0</th>\n",
       "      <td>1</td>\n",
       "      <td>3</td>\n",
       "    </tr>\n",
       "    <tr>\n",
       "      <th>1</th>\n",
       "      <td>4</td>\n",
       "      <td>6</td>\n",
       "    </tr>\n",
       "    <tr>\n",
       "      <th>2</th>\n",
       "      <td>7</td>\n",
       "      <td>9</td>\n",
       "    </tr>\n",
       "  </tbody>\n",
       "</table>\n",
       "</div>"
      ],
      "text/plain": [
       "   A  C\n",
       "0  1  3\n",
       "1  4  6\n",
       "2  7  9"
      ]
     },
     "execution_count": 25,
     "metadata": {},
     "output_type": "execute_result"
    }
   ],
   "source": [
    "df[['A', 'C']]"
   ]
  },
  {
   "cell_type": "markdown",
   "metadata": {},
   "source": [
    "För att selektera rader baserade på deras position (index), kan du använda `.iloc`, som använder positionbaserad indexering, vilket betyder att du använder radernas och kolumnernas numeriska positioner."
   ]
  },
  {
   "cell_type": "code",
   "execution_count": 29,
   "metadata": {},
   "outputs": [
    {
     "data": {
      "text/plain": [
       "A    1\n",
       "B    2\n",
       "C    3\n",
       "Name: 0, dtype: int32"
      ]
     },
     "execution_count": 29,
     "metadata": {},
     "output_type": "execute_result"
    }
   ],
   "source": [
    "df.iloc[0]  # Returnerar den första raden"
   ]
  },
  {
   "cell_type": "code",
   "execution_count": 28,
   "metadata": {},
   "outputs": [
    {
     "data": {
      "text/html": [
       "<div>\n",
       "<style scoped>\n",
       "    .dataframe tbody tr th:only-of-type {\n",
       "        vertical-align: middle;\n",
       "    }\n",
       "\n",
       "    .dataframe tbody tr th {\n",
       "        vertical-align: top;\n",
       "    }\n",
       "\n",
       "    .dataframe thead th {\n",
       "        text-align: right;\n",
       "    }\n",
       "</style>\n",
       "<table border=\"1\" class=\"dataframe\">\n",
       "  <thead>\n",
       "    <tr style=\"text-align: right;\">\n",
       "      <th></th>\n",
       "      <th>A</th>\n",
       "      <th>B</th>\n",
       "      <th>C</th>\n",
       "    </tr>\n",
       "  </thead>\n",
       "  <tbody>\n",
       "    <tr>\n",
       "      <th>0</th>\n",
       "      <td>1</td>\n",
       "      <td>2</td>\n",
       "      <td>3</td>\n",
       "    </tr>\n",
       "    <tr>\n",
       "      <th>1</th>\n",
       "      <td>4</td>\n",
       "      <td>5</td>\n",
       "      <td>6</td>\n",
       "    </tr>\n",
       "    <tr>\n",
       "      <th>2</th>\n",
       "      <td>7</td>\n",
       "      <td>8</td>\n",
       "      <td>9</td>\n",
       "    </tr>\n",
       "  </tbody>\n",
       "</table>\n",
       "</div>"
      ],
      "text/plain": [
       "   A  B  C\n",
       "0  1  2  3\n",
       "1  4  5  6\n",
       "2  7  8  9"
      ]
     },
     "execution_count": 28,
     "metadata": {},
     "output_type": "execute_result"
    }
   ],
   "source": [
    "df.iloc[0:5]  # Returnerar de första fem raderna"
   ]
  },
  {
   "cell_type": "markdown",
   "metadata": {},
   "source": [
    "Om du vill selektera rader baserat på indexetiketter, använder du istället `.loc`:"
   ]
  },
  {
   "cell_type": "code",
   "execution_count": null,
   "metadata": {},
   "outputs": [],
   "source": [
    "df.loc['index_etikett']  # Returnerar raden för den specifika indexetiketten"
   ]
  },
  {
   "cell_type": "markdown",
   "metadata": {},
   "source": [
    "`.loc` kan också användas för att selektera både rader och kolumner baserat på etiketter:"
   ]
  },
  {
   "cell_type": "code",
   "execution_count": null,
   "metadata": {},
   "outputs": [],
   "source": [
    "df.loc['rad_etikett', 'kolumn_etikett']"
   ]
  },
  {
   "cell_type": "markdown",
   "metadata": {},
   "source": [
    "Du kan använda booleska uttryck för att selektera rader som uppfyller vissa villkor:"
   ]
  },
  {
   "cell_type": "code",
   "execution_count": 35,
   "metadata": {},
   "outputs": [
    {
     "data": {
      "text/html": [
       "<div>\n",
       "<style scoped>\n",
       "    .dataframe tbody tr th:only-of-type {\n",
       "        vertical-align: middle;\n",
       "    }\n",
       "\n",
       "    .dataframe tbody tr th {\n",
       "        vertical-align: top;\n",
       "    }\n",
       "\n",
       "    .dataframe thead th {\n",
       "        text-align: right;\n",
       "    }\n",
       "</style>\n",
       "<table border=\"1\" class=\"dataframe\">\n",
       "  <thead>\n",
       "    <tr style=\"text-align: right;\">\n",
       "      <th></th>\n",
       "      <th>A</th>\n",
       "      <th>B</th>\n",
       "      <th>C</th>\n",
       "    </tr>\n",
       "  </thead>\n",
       "  <tbody>\n",
       "    <tr>\n",
       "      <th>2</th>\n",
       "      <td>7</td>\n",
       "      <td>8</td>\n",
       "      <td>9</td>\n",
       "    </tr>\n",
       "  </tbody>\n",
       "</table>\n",
       "</div>"
      ],
      "text/plain": [
       "   A  B  C\n",
       "2  7  8  9"
      ]
     },
     "execution_count": 35,
     "metadata": {},
     "output_type": "execute_result"
    }
   ],
   "source": [
    "df[df['A'] > 4]  # Returnerar alla rader där värdet i 'kolumn_namn' är större än 4"
   ]
  },
  {
   "cell_type": "markdown",
   "metadata": {},
   "source": [
    "#### Rad- och kolumnslice\n",
    "Du kan kombinera rad- och kolumnslicear för att få en delmängd av din DataFrame:"
   ]
  },
  {
   "cell_type": "code",
   "execution_count": null,
   "metadata": {},
   "outputs": [],
   "source": [
    "df.loc[rad_etiketter, ['kolumn_namn1', 'kolumn_namn2']]\n",
    "df.iloc[rad_positioner, [kolumn_position1, kolumn_position2]]"
   ]
  },
  {
   "cell_type": "markdown",
   "metadata": {},
   "source": [
    "Precis som med listor, kan du använda ett tredje argument i slicing för att ange steglängd:"
   ]
  },
  {
   "cell_type": "code",
   "execution_count": null,
   "metadata": {},
   "outputs": [],
   "source": [
    "df.iloc[0:10:2]  # Hämtar varannan rad från de första 10 raderna"
   ]
  },
  {
   "cell_type": "markdown",
   "metadata": {},
   "source": [
    "### Exempel: beräkna glidande medelvärden"
   ]
  },
  {
   "cell_type": "markdown",
   "metadata": {},
   "source": [
    "Här beräknar vi centrerade glidande medelvärden för en fiktiv aktiekurs som vi skapar med lite slumpgenererade tal."
   ]
  },
  {
   "cell_type": "code",
   "execution_count": 46,
   "metadata": {},
   "outputs": [
    {
     "name": "stdout",
     "output_type": "stream",
     "text": [
      "       Datum  Stängningspris\n",
      "0 2022-01-03          100.50\n",
      "1 2022-01-04          100.36\n",
      "2 2022-01-05          101.01\n",
      "3 2022-01-06          102.53\n",
      "4 2022-01-07          102.30\n"
     ]
    }
   ],
   "source": [
    "import pandas as pd\n",
    "import numpy as np\n",
    "\n",
    "# Skapar en datumintervall\n",
    "datum = pd.date_range(start=\"2022-01-01\", end=\"2023-03-31\", freq='B')\n",
    "\n",
    "# Genererar slumpmässiga stängningspriser och simulerar lite \"brus\"\n",
    "np.random.seed(42)  # För reproducerbarhet\n",
    "stängningspriser = np.random.randn(len(datum)).cumsum() + 100\n",
    "\n",
    "# Skapar en DataFrame\n",
    "df_aktier = pd.DataFrame({'Datum': datum, 'Stängningspris': stängningspriser.round(2)})\n",
    "\n",
    "# Visar de första raderna i DataFrame\n",
    "print(df_aktier.head())\n",
    "\n",
    "# För att spara denna DataFrame till en CSV-fil kan du använda följande kommando:\n",
    "# df_aktier.to_csv('aktiepriser.csv', index=False)\n"
   ]
  },
  {
   "cell_type": "markdown",
   "metadata": {},
   "source": [
    "Nu beräknar vi de centrerade glidande medelvärdena, två stycken serier med olika längd på det glidande medelvärdet."
   ]
  },
  {
   "cell_type": "code",
   "execution_count": 47,
   "metadata": {},
   "outputs": [
    {
     "name": "stdout",
     "output_type": "stream",
     "text": [
      "        Datum  Stängningspris     MA20     MA50\n",
      "45 2022-03-07           89.55  90.6680  91.9518\n",
      "46 2022-03-08           89.09  90.4890  91.8096\n",
      "47 2022-03-09           90.15  90.2575  91.7028\n",
      "48 2022-03-10           90.49  90.1085  91.5938\n",
      "49 2022-03-11           88.73  90.0430  91.5446\n",
      "50 2022-03-14           89.05  90.0165  91.4540\n",
      "51 2022-03-15           88.67  89.9290  91.3776\n",
      "52 2022-03-16           87.99  89.8240  91.3260\n",
      "53 2022-03-17           88.60  89.6690  91.2608\n",
      "54 2022-03-18           89.63  89.4690  91.2094\n"
     ]
    }
   ],
   "source": [
    "df_aktier['MA20'] = df_aktier['Stängningspris'].rolling(window=20, center=True).mean()\n",
    "df_aktier['MA50'] = df_aktier['Stängningspris'].rolling(window=50, center=True).mean()\n",
    "print(df_aktier.iloc[45:55])  # Visar några rader av vårt data"
   ]
  },
  {
   "cell_type": "code",
   "execution_count": 48,
   "metadata": {},
   "outputs": [
    {
     "data": {
      "image/png": "[encoded data removed]",
      "text/plain": [
       "<Figure size 1000x500 with 1 Axes>"
      ]
     },
     "metadata": {},
     "output_type": "display_data"
    }
   ],
   "source": [
    "import matplotlib.pyplot as plt\n",
    "\n",
    "plt.figure(figsize=(10, 5))\n",
    "plt.plot(df_aktier.index, df_aktier['Stängningspris'], label='Stängningspris')\n",
    "plt.plot(df_aktier.index, df_aktier['MA20'], label='20-dagars MA', alpha=0.75)  # alpha för att göra linjen lite transparent\n",
    "plt.plot(df_aktier.index, df_aktier['MA50'], label='50-dagars MA', alpha=0.75)\n",
    "plt.xlabel('Datum')\n",
    "plt.ylabel('Pris')\n",
    "plt.title('Aktiepris och centrerade glidande medelvärden')\n",
    "plt.legend()\n",
    "plt.show()\n"
   ]
  },
  {
   "cell_type": "markdown",
   "metadata": {},
   "source": [
    "Det finns otroligt mycket mer intressant i Pandas att titta på, fördjupa dig gärna och bygg vidare på den här kursen!"
   ]
  }
 ],
 "metadata": {
  "kernelspec": {
   "display_name": "Python 3.11.0 ('.venv': venv)",
   "language": "python",
   "name": "python3"
  },
  "language_info": {
   "codemirror_mode": {
    "name": "ipython",
    "version": 3
   },
   "file_extension": ".py",
   "mimetype": "text/x-python",
   "name": "python",
   "nbconvert_exporter": "python",
   "pygments_lexer": "ipython3",
   "version": "3.12.2"
  },
  "orig_nbformat": 4,
  "vscode": {
   "interpreter": {
    "hash": "4cc145e4d2ab97f30f4677a0ee85f87459067b50a11a899f97eb3bc4f47de9f5"
   }
  }
 },
 "nbformat": 4,
 "nbformat_minor": 2
}
